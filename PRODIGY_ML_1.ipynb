{
  "nbformat": 4,
  "nbformat_minor": 0,
  "metadata": {
    "colab": {
      "provenance": [],
      "authorship_tag": "ABX9TyOx+Yx/yJg8RtM6v0y/w1rJ",
      "include_colab_link": true
    },
    "kernelspec": {
      "name": "python3",
      "display_name": "Python 3"
    },
    "language_info": {
      "name": "python"
    }
  },
  "cells": [
    {
      "cell_type": "markdown",
      "metadata": {
        "id": "view-in-github",
        "colab_type": "text"
      },
      "source": [
        "<a href=\"https://colab.research.google.com/github/snehachavhan2004/PRODIGY_ML_1/blob/main/PRODIGY_ML_1.ipynb\" target=\"_parent\"><img src=\"https://colab.research.google.com/assets/colab-badge.svg\" alt=\"Open In Colab\"/></a>"
      ]
    },
    {
      "cell_type": "code",
      "execution_count": null,
      "metadata": {
        "id": "43qFGMyK7uep"
      },
      "outputs": [],
      "source": [
        "import numpy as np\n",
        "import matplotlib.pyplot as plt\n",
        "import seaborn as sns\n",
        "import pandas as pd"
      ]
    },
    {
      "cell_type": "code",
      "source": [
        "housing=pd.read_csv('/content/Housing.csv')"
      ],
      "metadata": {
        "id": "fImWBht3_LF5"
      },
      "execution_count": null,
      "outputs": []
    },
    {
      "cell_type": "code",
      "source": [
        "housing.info()"
      ],
      "metadata": {
        "colab": {
          "base_uri": "https://localhost:8080/"
        },
        "id": "kxaW_Uzv_SRY",
        "outputId": "d2bb65ce-4175-40ee-b659-1ec77eb9cade"
      },
      "execution_count": null,
      "outputs": [
        {
          "output_type": "stream",
          "name": "stdout",
          "text": [
            "<class 'pandas.core.frame.DataFrame'>\n",
            "RangeIndex: 545 entries, 0 to 544\n",
            "Data columns (total 13 columns):\n",
            " #   Column            Non-Null Count  Dtype \n",
            "---  ------            --------------  ----- \n",
            " 0   price             545 non-null    int64 \n",
            " 1   area              545 non-null    int64 \n",
            " 2   bedrooms          545 non-null    int64 \n",
            " 3   bathrooms         545 non-null    int64 \n",
            " 4   stories           545 non-null    int64 \n",
            " 5   mainroad          545 non-null    object\n",
            " 6   guestroom         545 non-null    object\n",
            " 7   basement          545 non-null    object\n",
            " 8   hotwaterheating   545 non-null    object\n",
            " 9   airconditioning   545 non-null    object\n",
            " 10  parking           545 non-null    int64 \n",
            " 11  prefarea          545 non-null    object\n",
            " 12  furnishingstatus  545 non-null    object\n",
            "dtypes: int64(6), object(7)\n",
            "memory usage: 55.5+ KB\n"
          ]
        }
      ]
    },
    {
      "cell_type": "code",
      "source": [
        "house=pd.DataFrame().assign(Price=housing['price'],Area=housing['area'],Bedrooms=housing['bedrooms'],Bathrooms=housing['bathrooms'])"
      ],
      "metadata": {
        "id": "0HJaCLxF_UQi"
      },
      "execution_count": null,
      "outputs": []
    },
    {
      "cell_type": "code",
      "source": [
        "print(house.isnull().sum())"
      ],
      "metadata": {
        "colab": {
          "base_uri": "https://localhost:8080/"
        },
        "id": "EWIGk9GlAz3v",
        "outputId": "ed67efd8-fadd-436a-dfcd-ad0d6b97b0e6"
      },
      "execution_count": null,
      "outputs": [
        {
          "output_type": "stream",
          "name": "stdout",
          "text": [
            "Price        0\n",
            "Area         0\n",
            "Bedrooms     0\n",
            "Bathrooms    0\n",
            "dtype: int64\n"
          ]
        }
      ]
    },
    {
      "cell_type": "code",
      "source": [
        "x=house.drop(columns='Price')\n",
        "y=house['Price']"
      ],
      "metadata": {
        "id": "A2b479ZjBHTA"
      },
      "execution_count": null,
      "outputs": []
    },
    {
      "cell_type": "code",
      "source": [
        "import plotly.express as px\n",
        "\n",
        "# Create the boxplot\n",
        "fig = px.box(house, y=['Price', 'Area', 'Bedrooms', 'Bathrooms'], title=\"Boxplots of Features\", width=800, height=400)\n",
        "fig.show()\n"
      ],
      "metadata": {
        "colab": {
          "base_uri": "https://localhost:8080/",
          "height": 437
        },
        "id": "_RigAFReBYLk",
        "outputId": "c428b612-0bf8-4ecb-bd7c-babbce588681"
      },
      "execution_count": null,
      "outputs": [
        {
          "output_type": "display_data",
          "data": {
            "text/html": [
              "<html>\n",
              "<head><meta charset=\"utf-8\" /></head>\n",
              "<body>\n",
              "    <div>            <script src=\"https://cdnjs.cloudflare.com/ajax/libs/mathjax/2.7.5/MathJax.js?config=TeX-AMS-MML_SVG\"></script><script type=\"text/javascript\">if (window.MathJax && window.MathJax.Hub && window.MathJax.Hub.Config) {window.MathJax.Hub.Config({SVG: {font: \"STIX-Web\"}});}</script>                <script type=\"text/javascript\">window.PlotlyConfig = {MathJaxConfig: 'local'};</script>\n",
              "        <script charset=\"utf-8\" src=\"https://cdn.plot.ly/plotly-2.35.2.min.js\"></script>                <div id=\"47a21079-da5f-4b77-b2af-1eadb611b0c2\" class=\"plotly-graph-div\" style=\"height:400px; width:800px;\"></div>            <script type=\"text/javascript\">                                    window.PLOTLYENV=window.PLOTLYENV || {};                                    if (document.getElementById(\"47a21079-da5f-4b77-b2af-1eadb611b0c2\")) {                    Plotly.newPlot(                        \"47a21079-da5f-4b77-b2af-1eadb611b0c2\",                        [{\"alignmentgroup\":\"True\",\"hovertemplate\":\"variable=%{x}\\u003cbr\\u003evalue=%{y}\\u003cextra\\u003e\\u003c\\u002fextra\\u003e\",\"legendgroup\":\"\",\"marker\":{\"color\":\"#636efa\"},\"name\":\"\",\"notched\":false,\"offsetgroup\":\"\",\"orientation\":\"v\",\"showlegend\":false,\"x\":[\"Price\",\"Price\",\"Price\",\"Price\",\"Price\",\"Price\",\"Price\",\"Price\",\"Price\",\"Price\",\"Price\",\"Price\",\"Price\",\"Price\",\"Price\",\"Price\",\"Price\",\"Price\",\"Price\",\"Price\",\"Price\",\"Price\",\"Price\",\"Price\",\"Price\",\"Price\",\"Price\",\"Price\",\"Price\",\"Price\",\"Price\",\"Price\",\"Price\",\"Price\",\"Price\",\"Price\",\"Price\",\"Price\",\"Price\",\"Price\",\"Price\",\"Price\",\"Price\",\"Price\",\"Price\",\"Price\",\"Price\",\"Price\",\"Price\",\"Price\",\"Price\",\"Price\",\"Price\",\"Price\",\"Price\",\"Price\",\"Price\",\"Price\",\"Price\",\"Price\",\"Price\",\"Price\",\"Price\",\"Price\",\"Price\",\"Price\",\"Price\",\"Price\",\"Price\",\"Price\",\"Price\",\"Price\",\"Price\",\"Price\",\"Price\",\"Price\",\"Price\",\"Price\",\"Price\",\"Price\",\"Price\",\"Price\",\"Price\",\"Price\",\"Price\",\"Price\",\"Price\",\"Price\",\"Price\",\"Price\",\"Price\",\"Price\",\"Price\",\"Price\",\"Price\",\"Price\",\"Price\",\"Price\",\"Price\",\"Price\",\"Price\",\"Price\",\"Price\",\"Price\",\"Price\",\"Price\",\"Price\",\"Price\",\"Price\",\"Price\",\"Price\",\"Price\",\"Price\",\"Price\",\"Price\",\"Price\",\"Price\",\"Price\",\"Price\",\"Price\",\"Price\",\"Price\",\"Price\",\"Price\",\"Price\",\"Price\",\"Price\",\"Price\",\"Price\",\"Price\",\"Price\",\"Price\",\"Price\",\"Price\",\"Price\",\"Price\",\"Price\",\"Price\",\"Price\",\"Price\",\"Price\",\"Price\",\"Price\",\"Price\",\"Price\",\"Price\",\"Price\",\"Price\",\"Price\",\"Price\",\"Price\",\"Price\",\"Price\",\"Price\",\"Price\",\"Price\",\"Price\",\"Price\",\"Price\",\"Price\",\"Price\",\"Price\",\"Price\",\"Price\",\"Price\",\"Price\",\"Price\",\"Price\",\"Price\",\"Price\",\"Price\",\"Price\",\"Price\",\"Price\",\"Price\",\"Price\",\"Price\",\"Price\",\"Price\",\"Price\",\"Price\",\"Price\",\"Price\",\"Price\",\"Price\",\"Price\",\"Price\",\"Price\",\"Price\",\"Price\",\"Price\",\"Price\",\"Price\",\"Price\",\"Price\",\"Price\",\"Price\",\"Price\",\"Price\",\"Price\",\"Price\",\"Price\",\"Price\",\"Price\",\"Price\",\"Price\",\"Price\",\"Price\",\"Price\",\"Price\",\"Price\",\"Price\",\"Price\",\"Price\",\"Price\",\"Price\",\"Price\",\"Price\",\"Price\",\"Price\",\"Price\",\"Price\",\"Price\",\"Price\",\"Price\",\"Price\",\"Price\",\"Price\",\"Price\",\"Price\",\"Price\",\"Price\",\"Price\",\"Price\",\"Price\",\"Price\",\"Price\",\"Price\",\"Price\",\"Price\",\"Price\",\"Price\",\"Price\",\"Price\",\"Price\",\"Price\",\"Price\",\"Price\",\"Price\",\"Price\",\"Price\",\"Price\",\"Price\",\"Price\",\"Price\",\"Price\",\"Price\",\"Price\",\"Price\",\"Price\",\"Price\",\"Price\",\"Price\",\"Price\",\"Price\",\"Price\",\"Price\",\"Price\",\"Price\",\"Price\",\"Price\",\"Price\",\"Price\",\"Price\",\"Price\",\"Price\",\"Price\",\"Price\",\"Price\",\"Price\",\"Price\",\"Price\",\"Price\",\"Price\",\"Price\",\"Price\",\"Price\",\"Price\",\"Price\",\"Price\",\"Price\",\"Price\",\"Price\",\"Price\",\"Price\",\"Price\",\"Price\",\"Price\",\"Price\",\"Price\",\"Price\",\"Price\",\"Price\",\"Price\",\"Price\",\"Price\",\"Price\",\"Price\",\"Price\",\"Price\",\"Price\",\"Price\",\"Price\",\"Price\",\"Price\",\"Price\",\"Price\",\"Price\",\"Price\",\"Price\",\"Price\",\"Price\",\"Price\",\"Price\",\"Price\",\"Price\",\"Price\",\"Price\",\"Price\",\"Price\",\"Price\",\"Price\",\"Price\",\"Price\",\"Price\",\"Price\",\"Price\",\"Price\",\"Price\",\"Price\",\"Price\",\"Price\",\"Price\",\"Price\",\"Price\",\"Price\",\"Price\",\"Price\",\"Price\",\"Price\",\"Price\",\"Price\",\"Price\",\"Price\",\"Price\",\"Price\",\"Price\",\"Price\",\"Price\",\"Price\",\"Price\",\"Price\",\"Price\",\"Price\",\"Price\",\"Price\",\"Price\",\"Price\",\"Price\",\"Price\",\"Price\",\"Price\",\"Price\",\"Price\",\"Price\",\"Price\",\"Price\",\"Price\",\"Price\",\"Price\",\"Price\",\"Price\",\"Price\",\"Price\",\"Price\",\"Price\",\"Price\",\"Price\",\"Price\",\"Price\",\"Price\",\"Price\",\"Price\",\"Price\",\"Price\",\"Price\",\"Price\",\"Price\",\"Price\",\"Price\",\"Price\",\"Price\",\"Price\",\"Price\",\"Price\",\"Price\",\"Price\",\"Price\",\"Price\",\"Price\",\"Price\",\"Price\",\"Price\",\"Price\",\"Price\",\"Price\",\"Price\",\"Price\",\"Price\",\"Price\",\"Price\",\"Price\",\"Price\",\"Price\",\"Price\",\"Price\",\"Price\",\"Price\",\"Price\",\"Price\",\"Price\",\"Price\",\"Price\",\"Price\",\"Price\",\"Price\",\"Price\",\"Price\",\"Price\",\"Price\",\"Price\",\"Price\",\"Price\",\"Price\",\"Price\",\"Price\",\"Price\",\"Price\",\"Price\",\"Price\",\"Price\",\"Price\",\"Price\",\"Price\",\"Price\",\"Price\",\"Price\",\"Price\",\"Price\",\"Price\",\"Price\",\"Price\",\"Price\",\"Price\",\"Price\",\"Price\",\"Price\",\"Price\",\"Price\",\"Price\",\"Price\",\"Price\",\"Price\",\"Price\",\"Price\",\"Price\",\"Price\",\"Price\",\"Price\",\"Price\",\"Price\",\"Price\",\"Price\",\"Price\",\"Price\",\"Price\",\"Price\",\"Price\",\"Price\",\"Price\",\"Price\",\"Price\",\"Price\",\"Price\",\"Price\",\"Price\",\"Price\",\"Price\",\"Price\",\"Price\",\"Price\",\"Price\",\"Price\",\"Price\",\"Price\",\"Price\",\"Price\",\"Price\",\"Price\",\"Price\",\"Price\",\"Price\",\"Price\",\"Price\",\"Price\",\"Price\",\"Price\",\"Price\",\"Price\",\"Price\",\"Price\",\"Price\",\"Price\",\"Price\",\"Price\",\"Price\",\"Price\",\"Price\",\"Price\",\"Price\",\"Price\",\"Price\",\"Price\",\"Price\",\"Price\",\"Price\",\"Price\",\"Price\",\"Price\",\"Price\",\"Price\",\"Price\",\"Price\",\"Price\",\"Price\",\"Area\",\"Area\",\"Area\",\"Area\",\"Area\",\"Area\",\"Area\",\"Area\",\"Area\",\"Area\",\"Area\",\"Area\",\"Area\",\"Area\",\"Area\",\"Area\",\"Area\",\"Area\",\"Area\",\"Area\",\"Area\",\"Area\",\"Area\",\"Area\",\"Area\",\"Area\",\"Area\",\"Area\",\"Area\",\"Area\",\"Area\",\"Area\",\"Area\",\"Area\",\"Area\",\"Area\",\"Area\",\"Area\",\"Area\",\"Area\",\"Area\",\"Area\",\"Area\",\"Area\",\"Area\",\"Area\",\"Area\",\"Area\",\"Area\",\"Area\",\"Area\",\"Area\",\"Area\",\"Area\",\"Area\",\"Area\",\"Area\",\"Area\",\"Area\",\"Area\",\"Area\",\"Area\",\"Area\",\"Area\",\"Area\",\"Area\",\"Area\",\"Area\",\"Area\",\"Area\",\"Area\",\"Area\",\"Area\",\"Area\",\"Area\",\"Area\",\"Area\",\"Area\",\"Area\",\"Area\",\"Area\",\"Area\",\"Area\",\"Area\",\"Area\",\"Area\",\"Area\",\"Area\",\"Area\",\"Area\",\"Area\",\"Area\",\"Area\",\"Area\",\"Area\",\"Area\",\"Area\",\"Area\",\"Area\",\"Area\",\"Area\",\"Area\",\"Area\",\"Area\",\"Area\",\"Area\",\"Area\",\"Area\",\"Area\",\"Area\",\"Area\",\"Area\",\"Area\",\"Area\",\"Area\",\"Area\",\"Area\",\"Area\",\"Area\",\"Area\",\"Area\",\"Area\",\"Area\",\"Area\",\"Area\",\"Area\",\"Area\",\"Area\",\"Area\",\"Area\",\"Area\",\"Area\",\"Area\",\"Area\",\"Area\",\"Area\",\"Area\",\"Area\",\"Area\",\"Area\",\"Area\",\"Area\",\"Area\",\"Area\",\"Area\",\"Area\",\"Area\",\"Area\",\"Area\",\"Area\",\"Area\",\"Area\",\"Area\",\"Area\",\"Area\",\"Area\",\"Area\",\"Area\",\"Area\",\"Area\",\"Area\",\"Area\",\"Area\",\"Area\",\"Area\",\"Area\",\"Area\",\"Area\",\"Area\",\"Area\",\"Area\",\"Area\",\"Area\",\"Area\",\"Area\",\"Area\",\"Area\",\"Area\",\"Area\",\"Area\",\"Area\",\"Area\",\"Area\",\"Area\",\"Area\",\"Area\",\"Area\",\"Area\",\"Area\",\"Area\",\"Area\",\"Area\",\"Area\",\"Area\",\"Area\",\"Area\",\"Area\",\"Area\",\"Area\",\"Area\",\"Area\",\"Area\",\"Area\",\"Area\",\"Area\",\"Area\",\"Area\",\"Area\",\"Area\",\"Area\",\"Area\",\"Area\",\"Area\",\"Area\",\"Area\",\"Area\",\"Area\",\"Area\",\"Area\",\"Area\",\"Area\",\"Area\",\"Area\",\"Area\",\"Area\",\"Area\",\"Area\",\"Area\",\"Area\",\"Area\",\"Area\",\"Area\",\"Area\",\"Area\",\"Area\",\"Area\",\"Area\",\"Area\",\"Area\",\"Area\",\"Area\",\"Area\",\"Area\",\"Area\",\"Area\",\"Area\",\"Area\",\"Area\",\"Area\",\"Area\",\"Area\",\"Area\",\"Area\",\"Area\",\"Area\",\"Area\",\"Area\",\"Area\",\"Area\",\"Area\",\"Area\",\"Area\",\"Area\",\"Area\",\"Area\",\"Area\",\"Area\",\"Area\",\"Area\",\"Area\",\"Area\",\"Area\",\"Area\",\"Area\",\"Area\",\"Area\",\"Area\",\"Area\",\"Area\",\"Area\",\"Area\",\"Area\",\"Area\",\"Area\",\"Area\",\"Area\",\"Area\",\"Area\",\"Area\",\"Area\",\"Area\",\"Area\",\"Area\",\"Area\",\"Area\",\"Area\",\"Area\",\"Area\",\"Area\",\"Area\",\"Area\",\"Area\",\"Area\",\"Area\",\"Area\",\"Area\",\"Area\",\"Area\",\"Area\",\"Area\",\"Area\",\"Area\",\"Area\",\"Area\",\"Area\",\"Area\",\"Area\",\"Area\",\"Area\",\"Area\",\"Area\",\"Area\",\"Area\",\"Area\",\"Area\",\"Area\",\"Area\",\"Area\",\"Area\",\"Area\",\"Area\",\"Area\",\"Area\",\"Area\",\"Area\",\"Area\",\"Area\",\"Area\",\"Area\",\"Area\",\"Area\",\"Area\",\"Area\",\"Area\",\"Area\",\"Area\",\"Area\",\"Area\",\"Area\",\"Area\",\"Area\",\"Area\",\"Area\",\"Area\",\"Area\",\"Area\",\"Area\",\"Area\",\"Area\",\"Area\",\"Area\",\"Area\",\"Area\",\"Area\",\"Area\",\"Area\",\"Area\",\"Area\",\"Area\",\"Area\",\"Area\",\"Area\",\"Area\",\"Area\",\"Area\",\"Area\",\"Area\",\"Area\",\"Area\",\"Area\",\"Area\",\"Area\",\"Area\",\"Area\",\"Area\",\"Area\",\"Area\",\"Area\",\"Area\",\"Area\",\"Area\",\"Area\",\"Area\",\"Area\",\"Area\",\"Area\",\"Area\",\"Area\",\"Area\",\"Area\",\"Area\",\"Area\",\"Area\",\"Area\",\"Area\",\"Area\",\"Area\",\"Area\",\"Area\",\"Area\",\"Area\",\"Area\",\"Area\",\"Area\",\"Area\",\"Area\",\"Area\",\"Area\",\"Area\",\"Area\",\"Area\",\"Area\",\"Area\",\"Area\",\"Area\",\"Area\",\"Area\",\"Area\",\"Area\",\"Area\",\"Area\",\"Area\",\"Area\",\"Area\",\"Area\",\"Area\",\"Area\",\"Area\",\"Area\",\"Area\",\"Area\",\"Area\",\"Area\",\"Area\",\"Area\",\"Area\",\"Area\",\"Area\",\"Area\",\"Area\",\"Area\",\"Area\",\"Area\",\"Area\",\"Area\",\"Area\",\"Area\",\"Area\",\"Area\",\"Area\",\"Area\",\"Area\",\"Area\",\"Area\",\"Area\",\"Area\",\"Area\",\"Area\",\"Area\",\"Area\",\"Area\",\"Area\",\"Area\",\"Area\",\"Area\",\"Area\",\"Area\",\"Area\",\"Area\",\"Area\",\"Area\",\"Area\",\"Area\",\"Area\",\"Area\",\"Area\",\"Area\",\"Area\",\"Area\",\"Area\",\"Area\",\"Area\",\"Area\",\"Area\",\"Area\",\"Area\",\"Area\",\"Area\",\"Area\",\"Area\",\"Area\",\"Area\",\"Area\",\"Area\",\"Area\",\"Area\",\"Area\",\"Area\",\"Area\",\"Area\",\"Area\",\"Area\",\"Area\",\"Area\",\"Area\",\"Area\",\"Area\",\"Area\",\"Area\",\"Area\",\"Area\",\"Area\",\"Area\",\"Area\",\"Area\",\"Area\",\"Area\",\"Area\",\"Area\",\"Area\",\"Area\",\"Area\",\"Area\",\"Area\",\"Area\",\"Area\",\"Area\",\"Area\",\"Area\",\"Area\",\"Area\",\"Area\",\"Area\",\"Area\",\"Area\",\"Bedrooms\",\"Bedrooms\",\"Bedrooms\",\"Bedrooms\",\"Bedrooms\",\"Bedrooms\",\"Bedrooms\",\"Bedrooms\",\"Bedrooms\",\"Bedrooms\",\"Bedrooms\",\"Bedrooms\",\"Bedrooms\",\"Bedrooms\",\"Bedrooms\",\"Bedrooms\",\"Bedrooms\",\"Bedrooms\",\"Bedrooms\",\"Bedrooms\",\"Bedrooms\",\"Bedrooms\",\"Bedrooms\",\"Bedrooms\",\"Bedrooms\",\"Bedrooms\",\"Bedrooms\",\"Bedrooms\",\"Bedrooms\",\"Bedrooms\",\"Bedrooms\",\"Bedrooms\",\"Bedrooms\",\"Bedrooms\",\"Bedrooms\",\"Bedrooms\",\"Bedrooms\",\"Bedrooms\",\"Bedrooms\",\"Bedrooms\",\"Bedrooms\",\"Bedrooms\",\"Bedrooms\",\"Bedrooms\",\"Bedrooms\",\"Bedrooms\",\"Bedrooms\",\"Bedrooms\",\"Bedrooms\",\"Bedrooms\",\"Bedrooms\",\"Bedrooms\",\"Bedrooms\",\"Bedrooms\",\"Bedrooms\",\"Bedrooms\",\"Bedrooms\",\"Bedrooms\",\"Bedrooms\",\"Bedrooms\",\"Bedrooms\",\"Bedrooms\",\"Bedrooms\",\"Bedrooms\",\"Bedrooms\",\"Bedrooms\",\"Bedrooms\",\"Bedrooms\",\"Bedrooms\",\"Bedrooms\",\"Bedrooms\",\"Bedrooms\",\"Bedrooms\",\"Bedrooms\",\"Bedrooms\",\"Bedrooms\",\"Bedrooms\",\"Bedrooms\",\"Bedrooms\",\"Bedrooms\",\"Bedrooms\",\"Bedrooms\",\"Bedrooms\",\"Bedrooms\",\"Bedrooms\",\"Bedrooms\",\"Bedrooms\",\"Bedrooms\",\"Bedrooms\",\"Bedrooms\",\"Bedrooms\",\"Bedrooms\",\"Bedrooms\",\"Bedrooms\",\"Bedrooms\",\"Bedrooms\",\"Bedrooms\",\"Bedrooms\",\"Bedrooms\",\"Bedrooms\",\"Bedrooms\",\"Bedrooms\",\"Bedrooms\",\"Bedrooms\",\"Bedrooms\",\"Bedrooms\",\"Bedrooms\",\"Bedrooms\",\"Bedrooms\",\"Bedrooms\",\"Bedrooms\",\"Bedrooms\",\"Bedrooms\",\"Bedrooms\",\"Bedrooms\",\"Bedrooms\",\"Bedrooms\",\"Bedrooms\",\"Bedrooms\",\"Bedrooms\",\"Bedrooms\",\"Bedrooms\",\"Bedrooms\",\"Bedrooms\",\"Bedrooms\",\"Bedrooms\",\"Bedrooms\",\"Bedrooms\",\"Bedrooms\",\"Bedrooms\",\"Bedrooms\",\"Bedrooms\",\"Bedrooms\",\"Bedrooms\",\"Bedrooms\",\"Bedrooms\",\"Bedrooms\",\"Bedrooms\",\"Bedrooms\",\"Bedrooms\",\"Bedrooms\",\"Bedrooms\",\"Bedrooms\",\"Bedrooms\",\"Bedrooms\",\"Bedrooms\",\"Bedrooms\",\"Bedrooms\",\"Bedrooms\",\"Bedrooms\",\"Bedrooms\",\"Bedrooms\",\"Bedrooms\",\"Bedrooms\",\"Bedrooms\",\"Bedrooms\",\"Bedrooms\",\"Bedrooms\",\"Bedrooms\",\"Bedrooms\",\"Bedrooms\",\"Bedrooms\",\"Bedrooms\",\"Bedrooms\",\"Bedrooms\",\"Bedrooms\",\"Bedrooms\",\"Bedrooms\",\"Bedrooms\",\"Bedrooms\",\"Bedrooms\",\"Bedrooms\",\"Bedrooms\",\"Bedrooms\",\"Bedrooms\",\"Bedrooms\",\"Bedrooms\",\"Bedrooms\",\"Bedrooms\",\"Bedrooms\",\"Bedrooms\",\"Bedrooms\",\"Bedrooms\",\"Bedrooms\",\"Bedrooms\",\"Bedrooms\",\"Bedrooms\",\"Bedrooms\",\"Bedrooms\",\"Bedrooms\",\"Bedrooms\",\"Bedrooms\",\"Bedrooms\",\"Bedrooms\",\"Bedrooms\",\"Bedrooms\",\"Bedrooms\",\"Bedrooms\",\"Bedrooms\",\"Bedrooms\",\"Bedrooms\",\"Bedrooms\",\"Bedrooms\",\"Bedrooms\",\"Bedrooms\",\"Bedrooms\",\"Bedrooms\",\"Bedrooms\",\"Bedrooms\",\"Bedrooms\",\"Bedrooms\",\"Bedrooms\",\"Bedrooms\",\"Bedrooms\",\"Bedrooms\",\"Bedrooms\",\"Bedrooms\",\"Bedrooms\",\"Bedrooms\",\"Bedrooms\",\"Bedrooms\",\"Bedrooms\",\"Bedrooms\",\"Bedrooms\",\"Bedrooms\",\"Bedrooms\",\"Bedrooms\",\"Bedrooms\",\"Bedrooms\",\"Bedrooms\",\"Bedrooms\",\"Bedrooms\",\"Bedrooms\",\"Bedrooms\",\"Bedrooms\",\"Bedrooms\",\"Bedrooms\",\"Bedrooms\",\"Bedrooms\",\"Bedrooms\",\"Bedrooms\",\"Bedrooms\",\"Bedrooms\",\"Bedrooms\",\"Bedrooms\",\"Bedrooms\",\"Bedrooms\",\"Bedrooms\",\"Bedrooms\",\"Bedrooms\",\"Bedrooms\",\"Bedrooms\",\"Bedrooms\",\"Bedrooms\",\"Bedrooms\",\"Bedrooms\",\"Bedrooms\",\"Bedrooms\",\"Bedrooms\",\"Bedrooms\",\"Bedrooms\",\"Bedrooms\",\"Bedrooms\",\"Bedrooms\",\"Bedrooms\",\"Bedrooms\",\"Bedrooms\",\"Bedrooms\",\"Bedrooms\",\"Bedrooms\",\"Bedrooms\",\"Bedrooms\",\"Bedrooms\",\"Bedrooms\",\"Bedrooms\",\"Bedrooms\",\"Bedrooms\",\"Bedrooms\",\"Bedrooms\",\"Bedrooms\",\"Bedrooms\",\"Bedrooms\",\"Bedrooms\",\"Bedrooms\",\"Bedrooms\",\"Bedrooms\",\"Bedrooms\",\"Bedrooms\",\"Bedrooms\",\"Bedrooms\",\"Bedrooms\",\"Bedrooms\",\"Bedrooms\",\"Bedrooms\",\"Bedrooms\",\"Bedrooms\",\"Bedrooms\",\"Bedrooms\",\"Bedrooms\",\"Bedrooms\",\"Bedrooms\",\"Bedrooms\",\"Bedrooms\",\"Bedrooms\",\"Bedrooms\",\"Bedrooms\",\"Bedrooms\",\"Bedrooms\",\"Bedrooms\",\"Bedrooms\",\"Bedrooms\",\"Bedrooms\",\"Bedrooms\",\"Bedrooms\",\"Bedrooms\",\"Bedrooms\",\"Bedrooms\",\"Bedrooms\",\"Bedrooms\",\"Bedrooms\",\"Bedrooms\",\"Bedrooms\",\"Bedrooms\",\"Bedrooms\",\"Bedrooms\",\"Bedrooms\",\"Bedrooms\",\"Bedrooms\",\"Bedrooms\",\"Bedrooms\",\"Bedrooms\",\"Bedrooms\",\"Bedrooms\",\"Bedrooms\",\"Bedrooms\",\"Bedrooms\",\"Bedrooms\",\"Bedrooms\",\"Bedrooms\",\"Bedrooms\",\"Bedrooms\",\"Bedrooms\",\"Bedrooms\",\"Bedrooms\",\"Bedrooms\",\"Bedrooms\",\"Bedrooms\",\"Bedrooms\",\"Bedrooms\",\"Bedrooms\",\"Bedrooms\",\"Bedrooms\",\"Bedrooms\",\"Bedrooms\",\"Bedrooms\",\"Bedrooms\",\"Bedrooms\",\"Bedrooms\",\"Bedrooms\",\"Bedrooms\",\"Bedrooms\",\"Bedrooms\",\"Bedrooms\",\"Bedrooms\",\"Bedrooms\",\"Bedrooms\",\"Bedrooms\",\"Bedrooms\",\"Bedrooms\",\"Bedrooms\",\"Bedrooms\",\"Bedrooms\",\"Bedrooms\",\"Bedrooms\",\"Bedrooms\",\"Bedrooms\",\"Bedrooms\",\"Bedrooms\",\"Bedrooms\",\"Bedrooms\",\"Bedrooms\",\"Bedrooms\",\"Bedrooms\",\"Bedrooms\",\"Bedrooms\",\"Bedrooms\",\"Bedrooms\",\"Bedrooms\",\"Bedrooms\",\"Bedrooms\",\"Bedrooms\",\"Bedrooms\",\"Bedrooms\",\"Bedrooms\",\"Bedrooms\",\"Bedrooms\",\"Bedrooms\",\"Bedrooms\",\"Bedrooms\",\"Bedrooms\",\"Bedrooms\",\"Bedrooms\",\"Bedrooms\",\"Bedrooms\",\"Bedrooms\",\"Bedrooms\",\"Bedrooms\",\"Bedrooms\",\"Bedrooms\",\"Bedrooms\",\"Bedrooms\",\"Bedrooms\",\"Bedrooms\",\"Bedrooms\",\"Bedrooms\",\"Bedrooms\",\"Bedrooms\",\"Bedrooms\",\"Bedrooms\",\"Bedrooms\",\"Bedrooms\",\"Bedrooms\",\"Bedrooms\",\"Bedrooms\",\"Bedrooms\",\"Bedrooms\",\"Bedrooms\",\"Bedrooms\",\"Bedrooms\",\"Bedrooms\",\"Bedrooms\",\"Bedrooms\",\"Bedrooms\",\"Bedrooms\",\"Bedrooms\",\"Bedrooms\",\"Bedrooms\",\"Bedrooms\",\"Bedrooms\",\"Bedrooms\",\"Bedrooms\",\"Bedrooms\",\"Bedrooms\",\"Bedrooms\",\"Bedrooms\",\"Bedrooms\",\"Bedrooms\",\"Bedrooms\",\"Bedrooms\",\"Bedrooms\",\"Bedrooms\",\"Bedrooms\",\"Bedrooms\",\"Bedrooms\",\"Bedrooms\",\"Bedrooms\",\"Bedrooms\",\"Bedrooms\",\"Bedrooms\",\"Bedrooms\",\"Bedrooms\",\"Bedrooms\",\"Bedrooms\",\"Bedrooms\",\"Bedrooms\",\"Bedrooms\",\"Bedrooms\",\"Bedrooms\",\"Bedrooms\",\"Bedrooms\",\"Bedrooms\",\"Bedrooms\",\"Bedrooms\",\"Bedrooms\",\"Bedrooms\",\"Bedrooms\",\"Bedrooms\",\"Bedrooms\",\"Bedrooms\",\"Bedrooms\",\"Bedrooms\",\"Bedrooms\",\"Bedrooms\",\"Bedrooms\",\"Bedrooms\",\"Bedrooms\",\"Bedrooms\",\"Bedrooms\",\"Bedrooms\",\"Bedrooms\",\"Bedrooms\",\"Bedrooms\",\"Bedrooms\",\"Bedrooms\",\"Bedrooms\",\"Bedrooms\",\"Bedrooms\",\"Bedrooms\",\"Bedrooms\",\"Bedrooms\",\"Bedrooms\",\"Bedrooms\",\"Bedrooms\",\"Bedrooms\",\"Bedrooms\",\"Bedrooms\",\"Bedrooms\",\"Bedrooms\",\"Bedrooms\",\"Bedrooms\",\"Bedrooms\",\"Bedrooms\",\"Bedrooms\",\"Bedrooms\",\"Bedrooms\",\"Bedrooms\",\"Bedrooms\",\"Bedrooms\",\"Bedrooms\",\"Bedrooms\",\"Bedrooms\",\"Bedrooms\",\"Bedrooms\",\"Bedrooms\",\"Bedrooms\",\"Bedrooms\",\"Bedrooms\",\"Bedrooms\",\"Bedrooms\",\"Bedrooms\",\"Bedrooms\",\"Bedrooms\",\"Bedrooms\",\"Bedrooms\",\"Bedrooms\",\"Bedrooms\",\"Bedrooms\",\"Bedrooms\",\"Bedrooms\",\"Bedrooms\",\"Bedrooms\",\"Bedrooms\",\"Bedrooms\",\"Bedrooms\",\"Bedrooms\",\"Bathrooms\",\"Bathrooms\",\"Bathrooms\",\"Bathrooms\",\"Bathrooms\",\"Bathrooms\",\"Bathrooms\",\"Bathrooms\",\"Bathrooms\",\"Bathrooms\",\"Bathrooms\",\"Bathrooms\",\"Bathrooms\",\"Bathrooms\",\"Bathrooms\",\"Bathrooms\",\"Bathrooms\",\"Bathrooms\",\"Bathrooms\",\"Bathrooms\",\"Bathrooms\",\"Bathrooms\",\"Bathrooms\",\"Bathrooms\",\"Bathrooms\",\"Bathrooms\",\"Bathrooms\",\"Bathrooms\",\"Bathrooms\",\"Bathrooms\",\"Bathrooms\",\"Bathrooms\",\"Bathrooms\",\"Bathrooms\",\"Bathrooms\",\"Bathrooms\",\"Bathrooms\",\"Bathrooms\",\"Bathrooms\",\"Bathrooms\",\"Bathrooms\",\"Bathrooms\",\"Bathrooms\",\"Bathrooms\",\"Bathrooms\",\"Bathrooms\",\"Bathrooms\",\"Bathrooms\",\"Bathrooms\",\"Bathrooms\",\"Bathrooms\",\"Bathrooms\",\"Bathrooms\",\"Bathrooms\",\"Bathrooms\",\"Bathrooms\",\"Bathrooms\",\"Bathrooms\",\"Bathrooms\",\"Bathrooms\",\"Bathrooms\",\"Bathrooms\",\"Bathrooms\",\"Bathrooms\",\"Bathrooms\",\"Bathrooms\",\"Bathrooms\",\"Bathrooms\",\"Bathrooms\",\"Bathrooms\",\"Bathrooms\",\"Bathrooms\",\"Bathrooms\",\"Bathrooms\",\"Bathrooms\",\"Bathrooms\",\"Bathrooms\",\"Bathrooms\",\"Bathrooms\",\"Bathrooms\",\"Bathrooms\",\"Bathrooms\",\"Bathrooms\",\"Bathrooms\",\"Bathrooms\",\"Bathrooms\",\"Bathrooms\",\"Bathrooms\",\"Bathrooms\",\"Bathrooms\",\"Bathrooms\",\"Bathrooms\",\"Bathrooms\",\"Bathrooms\",\"Bathrooms\",\"Bathrooms\",\"Bathrooms\",\"Bathrooms\",\"Bathrooms\",\"Bathrooms\",\"Bathrooms\",\"Bathrooms\",\"Bathrooms\",\"Bathrooms\",\"Bathrooms\",\"Bathrooms\",\"Bathrooms\",\"Bathrooms\",\"Bathrooms\",\"Bathrooms\",\"Bathrooms\",\"Bathrooms\",\"Bathrooms\",\"Bathrooms\",\"Bathrooms\",\"Bathrooms\",\"Bathrooms\",\"Bathrooms\",\"Bathrooms\",\"Bathrooms\",\"Bathrooms\",\"Bathrooms\",\"Bathrooms\",\"Bathrooms\",\"Bathrooms\",\"Bathrooms\",\"Bathrooms\",\"Bathrooms\",\"Bathrooms\",\"Bathrooms\",\"Bathrooms\",\"Bathrooms\",\"Bathrooms\",\"Bathrooms\",\"Bathrooms\",\"Bathrooms\",\"Bathrooms\",\"Bathrooms\",\"Bathrooms\",\"Bathrooms\",\"Bathrooms\",\"Bathrooms\",\"Bathrooms\",\"Bathrooms\",\"Bathrooms\",\"Bathrooms\",\"Bathrooms\",\"Bathrooms\",\"Bathrooms\",\"Bathrooms\",\"Bathrooms\",\"Bathrooms\",\"Bathrooms\",\"Bathrooms\",\"Bathrooms\",\"Bathrooms\",\"Bathrooms\",\"Bathrooms\",\"Bathrooms\",\"Bathrooms\",\"Bathrooms\",\"Bathrooms\",\"Bathrooms\",\"Bathrooms\",\"Bathrooms\",\"Bathrooms\",\"Bathrooms\",\"Bathrooms\",\"Bathrooms\",\"Bathrooms\",\"Bathrooms\",\"Bathrooms\",\"Bathrooms\",\"Bathrooms\",\"Bathrooms\",\"Bathrooms\",\"Bathrooms\",\"Bathrooms\",\"Bathrooms\",\"Bathrooms\",\"Bathrooms\",\"Bathrooms\",\"Bathrooms\",\"Bathrooms\",\"Bathrooms\",\"Bathrooms\",\"Bathrooms\",\"Bathrooms\",\"Bathrooms\",\"Bathrooms\",\"Bathrooms\",\"Bathrooms\",\"Bathrooms\",\"Bathrooms\",\"Bathrooms\",\"Bathrooms\",\"Bathrooms\",\"Bathrooms\",\"Bathrooms\",\"Bathrooms\",\"Bathrooms\",\"Bathrooms\",\"Bathrooms\",\"Bathrooms\",\"Bathrooms\",\"Bathrooms\",\"Bathrooms\",\"Bathrooms\",\"Bathrooms\",\"Bathrooms\",\"Bathrooms\",\"Bathrooms\",\"Bathrooms\",\"Bathrooms\",\"Bathrooms\",\"Bathrooms\",\"Bathrooms\",\"Bathrooms\",\"Bathrooms\",\"Bathrooms\",\"Bathrooms\",\"Bathrooms\",\"Bathrooms\",\"Bathrooms\",\"Bathrooms\",\"Bathrooms\",\"Bathrooms\",\"Bathrooms\",\"Bathrooms\",\"Bathrooms\",\"Bathrooms\",\"Bathrooms\",\"Bathrooms\",\"Bathrooms\",\"Bathrooms\",\"Bathrooms\",\"Bathrooms\",\"Bathrooms\",\"Bathrooms\",\"Bathrooms\",\"Bathrooms\",\"Bathrooms\",\"Bathrooms\",\"Bathrooms\",\"Bathrooms\",\"Bathrooms\",\"Bathrooms\",\"Bathrooms\",\"Bathrooms\",\"Bathrooms\",\"Bathrooms\",\"Bathrooms\",\"Bathrooms\",\"Bathrooms\",\"Bathrooms\",\"Bathrooms\",\"Bathrooms\",\"Bathrooms\",\"Bathrooms\",\"Bathrooms\",\"Bathrooms\",\"Bathrooms\",\"Bathrooms\",\"Bathrooms\",\"Bathrooms\",\"Bathrooms\",\"Bathrooms\",\"Bathrooms\",\"Bathrooms\",\"Bathrooms\",\"Bathrooms\",\"Bathrooms\",\"Bathrooms\",\"Bathrooms\",\"Bathrooms\",\"Bathrooms\",\"Bathrooms\",\"Bathrooms\",\"Bathrooms\",\"Bathrooms\",\"Bathrooms\",\"Bathrooms\",\"Bathrooms\",\"Bathrooms\",\"Bathrooms\",\"Bathrooms\",\"Bathrooms\",\"Bathrooms\",\"Bathrooms\",\"Bathrooms\",\"Bathrooms\",\"Bathrooms\",\"Bathrooms\",\"Bathrooms\",\"Bathrooms\",\"Bathrooms\",\"Bathrooms\",\"Bathrooms\",\"Bathrooms\",\"Bathrooms\",\"Bathrooms\",\"Bathrooms\",\"Bathrooms\",\"Bathrooms\",\"Bathrooms\",\"Bathrooms\",\"Bathrooms\",\"Bathrooms\",\"Bathrooms\",\"Bathrooms\",\"Bathrooms\",\"Bathrooms\",\"Bathrooms\",\"Bathrooms\",\"Bathrooms\",\"Bathrooms\",\"Bathrooms\",\"Bathrooms\",\"Bathrooms\",\"Bathrooms\",\"Bathrooms\",\"Bathrooms\",\"Bathrooms\",\"Bathrooms\",\"Bathrooms\",\"Bathrooms\",\"Bathrooms\",\"Bathrooms\",\"Bathrooms\",\"Bathrooms\",\"Bathrooms\",\"Bathrooms\",\"Bathrooms\",\"Bathrooms\",\"Bathrooms\",\"Bathrooms\",\"Bathrooms\",\"Bathrooms\",\"Bathrooms\",\"Bathrooms\",\"Bathrooms\",\"Bathrooms\",\"Bathrooms\",\"Bathrooms\",\"Bathrooms\",\"Bathrooms\",\"Bathrooms\",\"Bathrooms\",\"Bathrooms\",\"Bathrooms\",\"Bathrooms\",\"Bathrooms\",\"Bathrooms\",\"Bathrooms\",\"Bathrooms\",\"Bathrooms\",\"Bathrooms\",\"Bathrooms\",\"Bathrooms\",\"Bathrooms\",\"Bathrooms\",\"Bathrooms\",\"Bathrooms\",\"Bathrooms\",\"Bathrooms\",\"Bathrooms\",\"Bathrooms\",\"Bathrooms\",\"Bathrooms\",\"Bathrooms\",\"Bathrooms\",\"Bathrooms\",\"Bathrooms\",\"Bathrooms\",\"Bathrooms\",\"Bathrooms\",\"Bathrooms\",\"Bathrooms\",\"Bathrooms\",\"Bathrooms\",\"Bathrooms\",\"Bathrooms\",\"Bathrooms\",\"Bathrooms\",\"Bathrooms\",\"Bathrooms\",\"Bathrooms\",\"Bathrooms\",\"Bathrooms\",\"Bathrooms\",\"Bathrooms\",\"Bathrooms\",\"Bathrooms\",\"Bathrooms\",\"Bathrooms\",\"Bathrooms\",\"Bathrooms\",\"Bathrooms\",\"Bathrooms\",\"Bathrooms\",\"Bathrooms\",\"Bathrooms\",\"Bathrooms\",\"Bathrooms\",\"Bathrooms\",\"Bathrooms\",\"Bathrooms\",\"Bathrooms\",\"Bathrooms\",\"Bathrooms\",\"Bathrooms\",\"Bathrooms\",\"Bathrooms\",\"Bathrooms\",\"Bathrooms\",\"Bathrooms\",\"Bathrooms\",\"Bathrooms\",\"Bathrooms\",\"Bathrooms\",\"Bathrooms\",\"Bathrooms\",\"Bathrooms\",\"Bathrooms\",\"Bathrooms\",\"Bathrooms\",\"Bathrooms\",\"Bathrooms\",\"Bathrooms\",\"Bathrooms\",\"Bathrooms\",\"Bathrooms\",\"Bathrooms\",\"Bathrooms\",\"Bathrooms\",\"Bathrooms\",\"Bathrooms\",\"Bathrooms\",\"Bathrooms\",\"Bathrooms\",\"Bathrooms\",\"Bathrooms\",\"Bathrooms\",\"Bathrooms\",\"Bathrooms\",\"Bathrooms\",\"Bathrooms\",\"Bathrooms\",\"Bathrooms\",\"Bathrooms\",\"Bathrooms\",\"Bathrooms\",\"Bathrooms\",\"Bathrooms\",\"Bathrooms\",\"Bathrooms\",\"Bathrooms\",\"Bathrooms\",\"Bathrooms\",\"Bathrooms\",\"Bathrooms\",\"Bathrooms\",\"Bathrooms\",\"Bathrooms\",\"Bathrooms\",\"Bathrooms\",\"Bathrooms\",\"Bathrooms\",\"Bathrooms\",\"Bathrooms\",\"Bathrooms\",\"Bathrooms\",\"Bathrooms\",\"Bathrooms\",\"Bathrooms\",\"Bathrooms\",\"Bathrooms\",\"Bathrooms\",\"Bathrooms\",\"Bathrooms\",\"Bathrooms\",\"Bathrooms\",\"Bathrooms\",\"Bathrooms\",\"Bathrooms\",\"Bathrooms\",\"Bathrooms\",\"Bathrooms\",\"Bathrooms\",\"Bathrooms\",\"Bathrooms\",\"Bathrooms\",\"Bathrooms\",\"Bathrooms\",\"Bathrooms\",\"Bathrooms\",\"Bathrooms\",\"Bathrooms\",\"Bathrooms\",\"Bathrooms\",\"Bathrooms\",\"Bathrooms\",\"Bathrooms\",\"Bathrooms\",\"Bathrooms\",\"Bathrooms\",\"Bathrooms\",\"Bathrooms\",\"Bathrooms\",\"Bathrooms\",\"Bathrooms\",\"Bathrooms\",\"Bathrooms\",\"Bathrooms\",\"Bathrooms\",\"Bathrooms\",\"Bathrooms\",\"Bathrooms\",\"Bathrooms\",\"Bathrooms\",\"Bathrooms\",\"Bathrooms\",\"Bathrooms\",\"Bathrooms\",\"Bathrooms\",\"Bathrooms\",\"Bathrooms\",\"Bathrooms\",\"Bathrooms\",\"Bathrooms\",\"Bathrooms\",\"Bathrooms\",\"Bathrooms\",\"Bathrooms\",\"Bathrooms\",\"Bathrooms\",\"Bathrooms\",\"Bathrooms\",\"Bathrooms\",\"Bathrooms\",\"Bathrooms\",\"Bathrooms\",\"Bathrooms\",\"Bathrooms\",\"Bathrooms\"],\"x0\":\" \",\"xaxis\":\"x\",\"y\":[13300000,12250000,12250000,12215000,11410000,10850000,10150000,10150000,9870000,9800000,9800000,9681000,9310000,9240000,9240000,9100000,9100000,8960000,8890000,8855000,8750000,8680000,8645000,8645000,8575000,8540000,8463000,8400000,8400000,8400000,8400000,8400000,8295000,8190000,8120000,8080940,8043000,7980000,7962500,7910000,7875000,7840000,7700000,7700000,7560000,7560000,7525000,7490000,7455000,7420000,7420000,7420000,7350000,7350000,7350000,7350000,7343000,7245000,7210000,7210000,7140000,7070000,7070000,7035000,7000000,6930000,6930000,6895000,6860000,6790000,6790000,6755000,6720000,6685000,6650000,6650000,6650000,6650000,6650000,6650000,6629000,6615000,6615000,6580000,6510000,6510000,6510000,6475000,6475000,6440000,6440000,6419000,6405000,6300000,6300000,6300000,6300000,6300000,6293000,6265000,6230000,6230000,6195000,6195000,6195000,6160000,6160000,6125000,6107500,6090000,6090000,6090000,6083000,6083000,6020000,6020000,6020000,5950000,5950000,5950000,5950000,5950000,5950000,5950000,5950000,5943000,5880000,5880000,5873000,5873000,5866000,5810000,5810000,5810000,5803000,5775000,5740000,5740000,5740000,5740000,5740000,5652500,5600000,5600000,5600000,5600000,5600000,5600000,5600000,5600000,5600000,5565000,5565000,5530000,5530000,5530000,5523000,5495000,5495000,5460000,5460000,5460000,5460000,5425000,5390000,5383000,5320000,5285000,5250000,5250000,5250000,5250000,5250000,5250000,5250000,5250000,5250000,5243000,5229000,5215000,5215000,5215000,5145000,5145000,5110000,5110000,5110000,5110000,5075000,5040000,5040000,5040000,5040000,5033000,5005000,4970000,4970000,4956000,4935000,4907000,4900000,4900000,4900000,4900000,4900000,4900000,4900000,4900000,4900000,4900000,4900000,4900000,4893000,4893000,4865000,4830000,4830000,4830000,4830000,4795000,4795000,4767000,4760000,4760000,4760000,4753000,4690000,4690000,4690000,4690000,4690000,4690000,4655000,4620000,4620000,4620000,4620000,4620000,4613000,4585000,4585000,4550000,4550000,4550000,4550000,4550000,4550000,4550000,4543000,4543000,4515000,4515000,4515000,4515000,4480000,4480000,4480000,4480000,4480000,4473000,4473000,4473000,4445000,4410000,4410000,4403000,4403000,4403000,4382000,4375000,4340000,4340000,4340000,4340000,4340000,4319000,4305000,4305000,4277000,4270000,4270000,4270000,4270000,4270000,4270000,4235000,4235000,4200000,4200000,4200000,4200000,4200000,4200000,4200000,4200000,4200000,4200000,4200000,4200000,4200000,4200000,4200000,4200000,4200000,4193000,4193000,4165000,4165000,4165000,4130000,4130000,4123000,4098500,4095000,4095000,4095000,4060000,4060000,4060000,4060000,4060000,4025000,4025000,4025000,4007500,4007500,3990000,3990000,3990000,3990000,3990000,3920000,3920000,3920000,3920000,3920000,3920000,3920000,3885000,3885000,3850000,3850000,3850000,3850000,3850000,3850000,3850000,3836000,3815000,3780000,3780000,3780000,3780000,3780000,3780000,3773000,3773000,3773000,3745000,3710000,3710000,3710000,3710000,3710000,3703000,3703000,3675000,3675000,3675000,3675000,3640000,3640000,3640000,3640000,3640000,3640000,3640000,3640000,3640000,3633000,3605000,3605000,3570000,3570000,3570000,3570000,3535000,3500000,3500000,3500000,3500000,3500000,3500000,3500000,3500000,3500000,3500000,3500000,3500000,3500000,3500000,3500000,3500000,3500000,3493000,3465000,3465000,3465000,3430000,3430000,3430000,3430000,3430000,3430000,3423000,3395000,3395000,3395000,3360000,3360000,3360000,3360000,3360000,3360000,3360000,3360000,3353000,3332000,3325000,3325000,3290000,3290000,3290000,3290000,3290000,3290000,3290000,3290000,3255000,3255000,3234000,3220000,3220000,3220000,3220000,3150000,3150000,3150000,3150000,3150000,3150000,3150000,3150000,3150000,3143000,3129000,3118850,3115000,3115000,3115000,3087000,3080000,3080000,3080000,3080000,3045000,3010000,3010000,3010000,3010000,3010000,3010000,3010000,3003000,2975000,2961000,2940000,2940000,2940000,2940000,2940000,2940000,2940000,2940000,2870000,2870000,2870000,2870000,2852500,2835000,2835000,2835000,2800000,2800000,2730000,2730000,2695000,2660000,2660000,2660000,2660000,2660000,2660000,2660000,2653000,2653000,2604000,2590000,2590000,2590000,2520000,2520000,2520000,2485000,2485000,2450000,2450000,2450000,2450000,2450000,2450000,2408000,2380000,2380000,2380000,2345000,2310000,2275000,2275000,2275000,2240000,2233000,2135000,2100000,2100000,2100000,1960000,1890000,1890000,1855000,1820000,1767150,1750000,1750000,1750000,7420,8960,9960,7500,7420,7500,8580,16200,8100,5750,13200,6000,6550,3500,7800,6000,6600,8500,4600,6420,4320,7155,8050,4560,8800,6540,6000,8875,7950,5500,7475,7000,4880,5960,6840,7000,7482,9000,6000,6000,6550,6360,6480,6000,6000,6000,6000,6600,4300,7440,7440,6325,6000,5150,6000,6000,11440,9000,7680,6000,6000,8880,6240,6360,11175,8880,13200,7700,6000,12090,4000,6000,5020,6600,4040,4260,6420,6500,5700,6000,6000,4000,10500,6000,3760,8250,6670,3960,7410,8580,5000,6750,4800,7200,6000,4100,9000,6400,6600,6000,6600,5500,5500,6350,5500,4500,5450,6420,3240,6615,6600,8372,4300,9620,6800,8000,6900,3700,6420,7020,6540,7231,6254,7320,6525,15600,7160,6500,5500,11460,4800,5828,5200,4800,7000,6000,5400,4640,5000,6360,5800,6660,10500,4800,4700,5000,10500,5500,6360,6600,5136,4400,5400,3300,3650,6100,6900,2817,7980,3150,6210,6100,6600,6825,6710,6450,7800,4600,4260,6540,5500,10269,8400,5300,3800,9800,8520,6050,7085,3180,4500,7200,3410,7980,3000,3000,11410,6100,5720,3540,7600,10700,6600,4800,8150,4410,7686,2800,5948,4200,4520,4095,4120,5400,4770,6300,5800,3000,2970,6720,4646,12900,3420,4995,4350,4160,6040,6862,4815,7000,8100,3420,9166,6321,10240,6440,5170,6000,3630,9667,5400,4320,3745,4160,3880,5680,2870,5010,4510,4000,3840,3760,3640,2550,5320,5360,3520,8400,4100,4990,3510,3450,9860,3520,4510,5885,4000,8250,4040,6360,3162,3510,3750,3968,4900,2880,4880,4920,4950,3900,4500,1905,4075,3500,6450,4032,4400,10360,3400,6360,6360,4500,2175,4360,7770,6650,2787,5500,5040,5850,2610,2953,2747,4410,4000,2325,4600,3640,5800,7000,4079,3520,2145,4500,8250,3450,4840,4080,4046,4632,5985,6060,3600,3680,4040,5600,5900,4992,4340,3000,4320,3630,3460,5400,4500,3460,4100,6480,4500,3960,4050,7260,5500,3000,3290,3816,8080,2145,3780,3180,5300,3180,7152,4080,3850,2015,2176,3350,3150,4820,3420,3600,5830,2856,8400,8250,2520,6930,3480,3600,4040,6020,4050,3584,3120,5450,3630,3630,5640,3600,4280,3570,3180,3000,3520,5960,4130,2850,2275,3520,4500,4000,3150,4500,4500,3640,3850,4240,3650,4600,2135,3036,3990,7424,3480,3600,3640,5900,3120,7350,3512,9500,5880,12944,4900,3060,5320,2145,4000,3185,3850,2145,2610,1950,4040,4785,3450,3640,3500,4960,4120,4750,3720,3750,3100,3185,2700,2145,4040,4775,2500,3180,6060,3480,3792,4040,2145,5880,4500,3930,3640,4370,2684,4320,3120,3450,3986,3500,4095,1650,3450,6750,9000,3069,4500,5495,2398,3000,3850,3500,8100,4960,2160,3090,4500,3800,3090,3240,2835,4600,5076,3750,3630,8050,4352,3000,5850,4960,3600,3660,3480,2700,3150,6615,3040,3630,6000,5400,5200,3300,4350,2640,2650,3960,6800,4000,4000,3934,2000,3630,2800,2430,3480,4000,3185,4000,2910,3600,4400,3600,2880,3180,3000,4400,3000,3210,3240,3000,3500,4840,7700,3635,2475,2787,3264,3640,3180,1836,3970,3970,1950,5300,3000,2400,3000,3360,3420,1700,3649,2990,3000,2400,3620,2910,3850,4,4,3,4,4,3,4,5,4,3,3,4,4,4,3,4,4,3,3,3,3,3,3,3,3,4,3,3,5,4,3,3,4,3,5,3,3,4,3,4,3,3,3,4,4,3,3,3,3,3,3,3,4,3,3,3,4,4,4,3,3,2,4,4,3,3,2,3,3,4,3,4,3,2,3,4,3,3,3,3,3,3,3,3,3,3,3,3,3,5,3,2,3,3,4,3,3,3,3,4,3,3,3,3,3,3,4,3,4,4,3,3,6,3,2,3,3,4,3,3,3,3,4,4,3,3,3,3,3,3,3,4,3,3,3,3,4,4,3,3,3,4,4,5,4,3,2,3,3,4,3,4,5,3,3,3,3,4,3,3,4,3,4,3,3,3,3,2,4,4,3,3,3,4,3,4,3,3,3,3,4,3,3,3,3,3,2,3,2,2,4,3,3,2,3,4,3,3,3,3,3,3,2,4,3,3,2,3,3,3,3,3,4,4,2,3,3,3,2,3,4,4,2,3,2,2,3,2,3,4,2,3,3,3,3,3,2,3,4,3,3,3,3,3,3,3,3,4,2,4,3,3,3,2,4,2,3,3,3,2,3,3,2,3,2,3,3,3,4,3,3,5,3,4,4,2,2,2,3,2,2,2,3,4,2,3,3,3,3,2,4,3,4,2,4,3,3,3,3,3,3,3,3,3,3,3,3,3,3,4,3,2,3,3,2,2,4,3,3,4,3,3,3,3,3,4,4,3,3,3,2,3,4,3,2,2,3,4,2,4,5,2,3,2,2,3,2,3,2,3,2,2,2,3,2,3,5,4,2,3,2,3,2,2,3,2,2,2,2,2,2,3,3,2,2,3,3,3,3,3,2,2,3,4,2,2,3,3,3,4,3,3,3,3,3,6,2,2,3,2,2,3,2,3,3,3,2,3,2,2,3,3,3,3,2,3,3,2,4,4,2,2,2,3,3,2,3,3,2,4,2,4,3,4,4,2,3,3,2,2,4,3,2,3,3,1,2,2,2,3,3,2,3,2,3,3,3,3,3,2,2,2,3,2,2,2,3,3,2,2,3,3,4,2,4,2,3,2,3,4,3,2,3,3,2,2,2,4,4,3,3,2,3,3,2,3,2,2,2,3,3,3,2,3,2,3,2,2,2,2,3,3,2,3,3,3,2,2,2,2,2,2,3,4,2,2,2,2,1,3,3,3,2,3,4,2,5,3,2,2,2,3,2,3,3,2,4,2,2,1,3,3,3,1,2,1,3,2,2,2,1,2,2,2,2,1,2,1,2,2,2,2,1,2,2,2,1,2,3,1,2,2,2,1,2,1,2,2,2,2,2,2,1,2,2,2,1,2,2,2,1,1,2,2,2,2,1,2,2,1,2,1,2,1,2,2,2,1,2,1,2,2,2,1,2,1,2,2,2,1,2,1,1,1,3,1,1,2,2,2,2,1,1,2,1,2,1,2,2,2,1,2,1,1,2,1,1,2,1,1,1,2,1,1,1,1,1,2,2,2,1,1,2,1,1,1,1,1,1,1,2,2,1,1,1,2,2,2,2,1,1,1,2,1,2,1,1,1,3,2,2,1,2,1,2,1,1,2,1,2,2,1,2,1,2,2,1,1,2,1,2,1,1,1,2,2,1,1,1,2,1,1,1,1,1,1,1,1,1,2,3,1,2,1,1,1,1,1,1,1,1,1,1,1,1,1,1,2,2,1,1,1,1,1,1,1,2,1,1,1,1,1,1,1,2,1,1,1,1,2,1,1,1,2,1,1,1,1,1,1,1,1,1,2,2,1,1,1,1,1,1,1,1,1,1,1,1,1,1,1,1,1,1,1,1,2,1,1,1,1,1,1,1,1,1,1,1,1,1,1,1,1,1,1,1,3,1,2,1,2,1,2,2,1,1,1,1,1,1,1,1,1,1,1,1,1,1,1,2,1,1,2,2,1,1,1,2,2,1,1,1,1,1,2,1,1,2,1,1,1,1,1,2,1,2,2,2,1,1,1,1,1,1,2,1,1,1,1,1,1,1,2,1,1,1,1,1,1,1,1,1,1,1,1,1,1,1,1,1,2,1,2,2,1,1,1,1,1,2,1,1,1,1,1,1,2,1,1,1,1,1,1,1,1,1,1,1,1,1,1,1,1,1,1,1,1,1,1,2,1,1,1,1,1,1,1,1,1,1,1,1,1,1,1,1,1,1,1,1,1,1,1,1,1,1,1,1,1,1,1,1,2,1,1,1,1,1,1,1,1,1,1,1,1,1,1,1,1,1,1,1,1,1,1,1,1,1,1,1,1,1,1,1,1,1,1,1,1,1,1,1,1,1,1,1,1,1,1,1,1,1,1,1,1,3,1,1,1,1,1,1,1,1,1,2,1,1,1,1,1,1,1,1,1,1,1,1,1,2,1,1,1,1,1,1,1,1,1,1,1,1,1,1,1,1,1,1,1,1,1],\"y0\":\" \",\"yaxis\":\"y\",\"type\":\"box\"}],                        {\"template\":{\"data\":{\"histogram2dcontour\":[{\"type\":\"histogram2dcontour\",\"colorbar\":{\"outlinewidth\":0,\"ticks\":\"\"},\"colorscale\":[[0.0,\"#0d0887\"],[0.1111111111111111,\"#46039f\"],[0.2222222222222222,\"#7201a8\"],[0.3333333333333333,\"#9c179e\"],[0.4444444444444444,\"#bd3786\"],[0.5555555555555556,\"#d8576b\"],[0.6666666666666666,\"#ed7953\"],[0.7777777777777778,\"#fb9f3a\"],[0.8888888888888888,\"#fdca26\"],[1.0,\"#f0f921\"]]}],\"choropleth\":[{\"type\":\"choropleth\",\"colorbar\":{\"outlinewidth\":0,\"ticks\":\"\"}}],\"histogram2d\":[{\"type\":\"histogram2d\",\"colorbar\":{\"outlinewidth\":0,\"ticks\":\"\"},\"colorscale\":[[0.0,\"#0d0887\"],[0.1111111111111111,\"#46039f\"],[0.2222222222222222,\"#7201a8\"],[0.3333333333333333,\"#9c179e\"],[0.4444444444444444,\"#bd3786\"],[0.5555555555555556,\"#d8576b\"],[0.6666666666666666,\"#ed7953\"],[0.7777777777777778,\"#fb9f3a\"],[0.8888888888888888,\"#fdca26\"],[1.0,\"#f0f921\"]]}],\"heatmap\":[{\"type\":\"heatmap\",\"colorbar\":{\"outlinewidth\":0,\"ticks\":\"\"},\"colorscale\":[[0.0,\"#0d0887\"],[0.1111111111111111,\"#46039f\"],[0.2222222222222222,\"#7201a8\"],[0.3333333333333333,\"#9c179e\"],[0.4444444444444444,\"#bd3786\"],[0.5555555555555556,\"#d8576b\"],[0.6666666666666666,\"#ed7953\"],[0.7777777777777778,\"#fb9f3a\"],[0.8888888888888888,\"#fdca26\"],[1.0,\"#f0f921\"]]}],\"heatmapgl\":[{\"type\":\"heatmapgl\",\"colorbar\":{\"outlinewidth\":0,\"ticks\":\"\"},\"colorscale\":[[0.0,\"#0d0887\"],[0.1111111111111111,\"#46039f\"],[0.2222222222222222,\"#7201a8\"],[0.3333333333333333,\"#9c179e\"],[0.4444444444444444,\"#bd3786\"],[0.5555555555555556,\"#d8576b\"],[0.6666666666666666,\"#ed7953\"],[0.7777777777777778,\"#fb9f3a\"],[0.8888888888888888,\"#fdca26\"],[1.0,\"#f0f921\"]]}],\"contourcarpet\":[{\"type\":\"contourcarpet\",\"colorbar\":{\"outlinewidth\":0,\"ticks\":\"\"}}],\"contour\":[{\"type\":\"contour\",\"colorbar\":{\"outlinewidth\":0,\"ticks\":\"\"},\"colorscale\":[[0.0,\"#0d0887\"],[0.1111111111111111,\"#46039f\"],[0.2222222222222222,\"#7201a8\"],[0.3333333333333333,\"#9c179e\"],[0.4444444444444444,\"#bd3786\"],[0.5555555555555556,\"#d8576b\"],[0.6666666666666666,\"#ed7953\"],[0.7777777777777778,\"#fb9f3a\"],[0.8888888888888888,\"#fdca26\"],[1.0,\"#f0f921\"]]}],\"surface\":[{\"type\":\"surface\",\"colorbar\":{\"outlinewidth\":0,\"ticks\":\"\"},\"colorscale\":[[0.0,\"#0d0887\"],[0.1111111111111111,\"#46039f\"],[0.2222222222222222,\"#7201a8\"],[0.3333333333333333,\"#9c179e\"],[0.4444444444444444,\"#bd3786\"],[0.5555555555555556,\"#d8576b\"],[0.6666666666666666,\"#ed7953\"],[0.7777777777777778,\"#fb9f3a\"],[0.8888888888888888,\"#fdca26\"],[1.0,\"#f0f921\"]]}],\"mesh3d\":[{\"type\":\"mesh3d\",\"colorbar\":{\"outlinewidth\":0,\"ticks\":\"\"}}],\"scatter\":[{\"fillpattern\":{\"fillmode\":\"overlay\",\"size\":10,\"solidity\":0.2},\"type\":\"scatter\"}],\"parcoords\":[{\"type\":\"parcoords\",\"line\":{\"colorbar\":{\"outlinewidth\":0,\"ticks\":\"\"}}}],\"scatterpolargl\":[{\"type\":\"scatterpolargl\",\"marker\":{\"colorbar\":{\"outlinewidth\":0,\"ticks\":\"\"}}}],\"bar\":[{\"error_x\":{\"color\":\"#2a3f5f\"},\"error_y\":{\"color\":\"#2a3f5f\"},\"marker\":{\"line\":{\"color\":\"#E5ECF6\",\"width\":0.5},\"pattern\":{\"fillmode\":\"overlay\",\"size\":10,\"solidity\":0.2}},\"type\":\"bar\"}],\"scattergeo\":[{\"type\":\"scattergeo\",\"marker\":{\"colorbar\":{\"outlinewidth\":0,\"ticks\":\"\"}}}],\"scatterpolar\":[{\"type\":\"scatterpolar\",\"marker\":{\"colorbar\":{\"outlinewidth\":0,\"ticks\":\"\"}}}],\"histogram\":[{\"marker\":{\"pattern\":{\"fillmode\":\"overlay\",\"size\":10,\"solidity\":0.2}},\"type\":\"histogram\"}],\"scattergl\":[{\"type\":\"scattergl\",\"marker\":{\"colorbar\":{\"outlinewidth\":0,\"ticks\":\"\"}}}],\"scatter3d\":[{\"type\":\"scatter3d\",\"line\":{\"colorbar\":{\"outlinewidth\":0,\"ticks\":\"\"}},\"marker\":{\"colorbar\":{\"outlinewidth\":0,\"ticks\":\"\"}}}],\"scattermapbox\":[{\"type\":\"scattermapbox\",\"marker\":{\"colorbar\":{\"outlinewidth\":0,\"ticks\":\"\"}}}],\"scatterternary\":[{\"type\":\"scatterternary\",\"marker\":{\"colorbar\":{\"outlinewidth\":0,\"ticks\":\"\"}}}],\"scattercarpet\":[{\"type\":\"scattercarpet\",\"marker\":{\"colorbar\":{\"outlinewidth\":0,\"ticks\":\"\"}}}],\"carpet\":[{\"aaxis\":{\"endlinecolor\":\"#2a3f5f\",\"gridcolor\":\"white\",\"linecolor\":\"white\",\"minorgridcolor\":\"white\",\"startlinecolor\":\"#2a3f5f\"},\"baxis\":{\"endlinecolor\":\"#2a3f5f\",\"gridcolor\":\"white\",\"linecolor\":\"white\",\"minorgridcolor\":\"white\",\"startlinecolor\":\"#2a3f5f\"},\"type\":\"carpet\"}],\"table\":[{\"cells\":{\"fill\":{\"color\":\"#EBF0F8\"},\"line\":{\"color\":\"white\"}},\"header\":{\"fill\":{\"color\":\"#C8D4E3\"},\"line\":{\"color\":\"white\"}},\"type\":\"table\"}],\"barpolar\":[{\"marker\":{\"line\":{\"color\":\"#E5ECF6\",\"width\":0.5},\"pattern\":{\"fillmode\":\"overlay\",\"size\":10,\"solidity\":0.2}},\"type\":\"barpolar\"}],\"pie\":[{\"automargin\":true,\"type\":\"pie\"}]},\"layout\":{\"autotypenumbers\":\"strict\",\"colorway\":[\"#636efa\",\"#EF553B\",\"#00cc96\",\"#ab63fa\",\"#FFA15A\",\"#19d3f3\",\"#FF6692\",\"#B6E880\",\"#FF97FF\",\"#FECB52\"],\"font\":{\"color\":\"#2a3f5f\"},\"hovermode\":\"closest\",\"hoverlabel\":{\"align\":\"left\"},\"paper_bgcolor\":\"white\",\"plot_bgcolor\":\"#E5ECF6\",\"polar\":{\"bgcolor\":\"#E5ECF6\",\"angularaxis\":{\"gridcolor\":\"white\",\"linecolor\":\"white\",\"ticks\":\"\"},\"radialaxis\":{\"gridcolor\":\"white\",\"linecolor\":\"white\",\"ticks\":\"\"}},\"ternary\":{\"bgcolor\":\"#E5ECF6\",\"aaxis\":{\"gridcolor\":\"white\",\"linecolor\":\"white\",\"ticks\":\"\"},\"baxis\":{\"gridcolor\":\"white\",\"linecolor\":\"white\",\"ticks\":\"\"},\"caxis\":{\"gridcolor\":\"white\",\"linecolor\":\"white\",\"ticks\":\"\"}},\"coloraxis\":{\"colorbar\":{\"outlinewidth\":0,\"ticks\":\"\"}},\"colorscale\":{\"sequential\":[[0.0,\"#0d0887\"],[0.1111111111111111,\"#46039f\"],[0.2222222222222222,\"#7201a8\"],[0.3333333333333333,\"#9c179e\"],[0.4444444444444444,\"#bd3786\"],[0.5555555555555556,\"#d8576b\"],[0.6666666666666666,\"#ed7953\"],[0.7777777777777778,\"#fb9f3a\"],[0.8888888888888888,\"#fdca26\"],[1.0,\"#f0f921\"]],\"sequentialminus\":[[0.0,\"#0d0887\"],[0.1111111111111111,\"#46039f\"],[0.2222222222222222,\"#7201a8\"],[0.3333333333333333,\"#9c179e\"],[0.4444444444444444,\"#bd3786\"],[0.5555555555555556,\"#d8576b\"],[0.6666666666666666,\"#ed7953\"],[0.7777777777777778,\"#fb9f3a\"],[0.8888888888888888,\"#fdca26\"],[1.0,\"#f0f921\"]],\"diverging\":[[0,\"#8e0152\"],[0.1,\"#c51b7d\"],[0.2,\"#de77ae\"],[0.3,\"#f1b6da\"],[0.4,\"#fde0ef\"],[0.5,\"#f7f7f7\"],[0.6,\"#e6f5d0\"],[0.7,\"#b8e186\"],[0.8,\"#7fbc41\"],[0.9,\"#4d9221\"],[1,\"#276419\"]]},\"xaxis\":{\"gridcolor\":\"white\",\"linecolor\":\"white\",\"ticks\":\"\",\"title\":{\"standoff\":15},\"zerolinecolor\":\"white\",\"automargin\":true,\"zerolinewidth\":2},\"yaxis\":{\"gridcolor\":\"white\",\"linecolor\":\"white\",\"ticks\":\"\",\"title\":{\"standoff\":15},\"zerolinecolor\":\"white\",\"automargin\":true,\"zerolinewidth\":2},\"scene\":{\"xaxis\":{\"backgroundcolor\":\"#E5ECF6\",\"gridcolor\":\"white\",\"linecolor\":\"white\",\"showbackground\":true,\"ticks\":\"\",\"zerolinecolor\":\"white\",\"gridwidth\":2},\"yaxis\":{\"backgroundcolor\":\"#E5ECF6\",\"gridcolor\":\"white\",\"linecolor\":\"white\",\"showbackground\":true,\"ticks\":\"\",\"zerolinecolor\":\"white\",\"gridwidth\":2},\"zaxis\":{\"backgroundcolor\":\"#E5ECF6\",\"gridcolor\":\"white\",\"linecolor\":\"white\",\"showbackground\":true,\"ticks\":\"\",\"zerolinecolor\":\"white\",\"gridwidth\":2}},\"shapedefaults\":{\"line\":{\"color\":\"#2a3f5f\"}},\"annotationdefaults\":{\"arrowcolor\":\"#2a3f5f\",\"arrowhead\":0,\"arrowwidth\":1},\"geo\":{\"bgcolor\":\"white\",\"landcolor\":\"#E5ECF6\",\"subunitcolor\":\"white\",\"showland\":true,\"showlakes\":true,\"lakecolor\":\"white\"},\"title\":{\"x\":0.05},\"mapbox\":{\"style\":\"light\"}}},\"xaxis\":{\"anchor\":\"y\",\"domain\":[0.0,1.0],\"title\":{\"text\":\"variable\"}},\"yaxis\":{\"anchor\":\"x\",\"domain\":[0.0,1.0],\"title\":{\"text\":\"value\"}},\"legend\":{\"tracegroupgap\":0},\"title\":{\"text\":\"Boxplots of Features\"},\"boxmode\":\"group\",\"height\":400,\"width\":800},                        {\"responsive\": true}                    ).then(function(){\n",
              "                            \n",
              "var gd = document.getElementById('47a21079-da5f-4b77-b2af-1eadb611b0c2');\n",
              "var x = new MutationObserver(function (mutations, observer) {{\n",
              "        var display = window.getComputedStyle(gd).display;\n",
              "        if (!display || display === 'none') {{\n",
              "            console.log([gd, 'removed!']);\n",
              "            Plotly.purge(gd);\n",
              "            observer.disconnect();\n",
              "        }}\n",
              "}});\n",
              "\n",
              "// Listen for the removal of the full notebook cells\n",
              "var notebookContainer = gd.closest('#notebook-container');\n",
              "if (notebookContainer) {{\n",
              "    x.observe(notebookContainer, {childList: true});\n",
              "}}\n",
              "\n",
              "// Listen for the clearing of the current output cell\n",
              "var outputEl = gd.closest('.output');\n",
              "if (outputEl) {{\n",
              "    x.observe(outputEl, {childList: true});\n",
              "}}\n",
              "\n",
              "                        })                };                            </script>        </div>\n",
              "</body>\n",
              "</html>"
            ]
          },
          "metadata": {}
        }
      ]
    },
    {
      "cell_type": "code",
      "source": [
        "import plotly.express as px\n",
        "\n",
        "# Calculate Q1, Q3, and IQR for 'Price'\n",
        "Q1 = house['Price'].quantile(0.25)\n",
        "Q3 = house['Price'].quantile(0.75)\n",
        "IQR = Q3 - Q1\n",
        "\n",
        "# Filter the data to remove outliers based on IQR\n",
        "house_filtered = house[(house['Price'] >= Q1 - 1.5 * IQR) & (house['Price'] <= Q3 + 1.5 * IQR)]\n",
        "\n",
        "# Create a boxplot for the filtered 'Price' using Plotly Express\n",
        "fig = px.box(house_filtered, y='Price', title=\"Boxplot of Price (Outliers Removed)\", width=800, height=400)\n",
        "fig.show()"
      ],
      "metadata": {
        "colab": {
          "base_uri": "https://localhost:8080/",
          "height": 437
        },
        "id": "zBN4LGohC0ku",
        "outputId": "2a51f034-60ca-4e4b-bd7b-7697128448ed"
      },
      "execution_count": null,
      "outputs": [
        {
          "output_type": "display_data",
          "data": {
            "text/html": [
              "<html>\n",
              "<head><meta charset=\"utf-8\" /></head>\n",
              "<body>\n",
              "    <div>            <script src=\"https://cdnjs.cloudflare.com/ajax/libs/mathjax/2.7.5/MathJax.js?config=TeX-AMS-MML_SVG\"></script><script type=\"text/javascript\">if (window.MathJax && window.MathJax.Hub && window.MathJax.Hub.Config) {window.MathJax.Hub.Config({SVG: {font: \"STIX-Web\"}});}</script>                <script type=\"text/javascript\">window.PlotlyConfig = {MathJaxConfig: 'local'};</script>\n",
              "        <script charset=\"utf-8\" src=\"https://cdn.plot.ly/plotly-2.35.2.min.js\"></script>                <div id=\"e9c3b433-c6d7-4705-8222-6cc2592df87d\" class=\"plotly-graph-div\" style=\"height:400px; width:800px;\"></div>            <script type=\"text/javascript\">                                    window.PLOTLYENV=window.PLOTLYENV || {};                                    if (document.getElementById(\"e9c3b433-c6d7-4705-8222-6cc2592df87d\")) {                    Plotly.newPlot(                        \"e9c3b433-c6d7-4705-8222-6cc2592df87d\",                        [{\"alignmentgroup\":\"True\",\"hovertemplate\":\"Price=%{y}\\u003cextra\\u003e\\u003c\\u002fextra\\u003e\",\"legendgroup\":\"\",\"marker\":{\"color\":\"#636efa\"},\"name\":\"\",\"notched\":false,\"offsetgroup\":\"\",\"orientation\":\"v\",\"showlegend\":false,\"x0\":\" \",\"xaxis\":\"x\",\"y\":[9100000,9100000,8960000,8890000,8855000,8750000,8680000,8645000,8645000,8575000,8540000,8463000,8400000,8400000,8400000,8400000,8400000,8295000,8190000,8120000,8080940,8043000,7980000,7962500,7910000,7875000,7840000,7700000,7700000,7560000,7560000,7525000,7490000,7455000,7420000,7420000,7420000,7350000,7350000,7350000,7350000,7343000,7245000,7210000,7210000,7140000,7070000,7070000,7035000,7000000,6930000,6930000,6895000,6860000,6790000,6790000,6755000,6720000,6685000,6650000,6650000,6650000,6650000,6650000,6650000,6629000,6615000,6615000,6580000,6510000,6510000,6510000,6475000,6475000,6440000,6440000,6419000,6405000,6300000,6300000,6300000,6300000,6300000,6293000,6265000,6230000,6230000,6195000,6195000,6195000,6160000,6160000,6125000,6107500,6090000,6090000,6090000,6083000,6083000,6020000,6020000,6020000,5950000,5950000,5950000,5950000,5950000,5950000,5950000,5950000,5943000,5880000,5880000,5873000,5873000,5866000,5810000,5810000,5810000,5803000,5775000,5740000,5740000,5740000,5740000,5740000,5652500,5600000,5600000,5600000,5600000,5600000,5600000,5600000,5600000,5600000,5565000,5565000,5530000,5530000,5530000,5523000,5495000,5495000,5460000,5460000,5460000,5460000,5425000,5390000,5383000,5320000,5285000,5250000,5250000,5250000,5250000,5250000,5250000,5250000,5250000,5250000,5243000,5229000,5215000,5215000,5215000,5145000,5145000,5110000,5110000,5110000,5110000,5075000,5040000,5040000,5040000,5040000,5033000,5005000,4970000,4970000,4956000,4935000,4907000,4900000,4900000,4900000,4900000,4900000,4900000,4900000,4900000,4900000,4900000,4900000,4900000,4893000,4893000,4865000,4830000,4830000,4830000,4830000,4795000,4795000,4767000,4760000,4760000,4760000,4753000,4690000,4690000,4690000,4690000,4690000,4690000,4655000,4620000,4620000,4620000,4620000,4620000,4613000,4585000,4585000,4550000,4550000,4550000,4550000,4550000,4550000,4550000,4543000,4543000,4515000,4515000,4515000,4515000,4480000,4480000,4480000,4480000,4480000,4473000,4473000,4473000,4445000,4410000,4410000,4403000,4403000,4403000,4382000,4375000,4340000,4340000,4340000,4340000,4340000,4319000,4305000,4305000,4277000,4270000,4270000,4270000,4270000,4270000,4270000,4235000,4235000,4200000,4200000,4200000,4200000,4200000,4200000,4200000,4200000,4200000,4200000,4200000,4200000,4200000,4200000,4200000,4200000,4200000,4193000,4193000,4165000,4165000,4165000,4130000,4130000,4123000,4098500,4095000,4095000,4095000,4060000,4060000,4060000,4060000,4060000,4025000,4025000,4025000,4007500,4007500,3990000,3990000,3990000,3990000,3990000,3920000,3920000,3920000,3920000,3920000,3920000,3920000,3885000,3885000,3850000,3850000,3850000,3850000,3850000,3850000,3850000,3836000,3815000,3780000,3780000,3780000,3780000,3780000,3780000,3773000,3773000,3773000,3745000,3710000,3710000,3710000,3710000,3710000,3703000,3703000,3675000,3675000,3675000,3675000,3640000,3640000,3640000,3640000,3640000,3640000,3640000,3640000,3640000,3633000,3605000,3605000,3570000,3570000,3570000,3570000,3535000,3500000,3500000,3500000,3500000,3500000,3500000,3500000,3500000,3500000,3500000,3500000,3500000,3500000,3500000,3500000,3500000,3500000,3493000,3465000,3465000,3465000,3430000,3430000,3430000,3430000,3430000,3430000,3423000,3395000,3395000,3395000,3360000,3360000,3360000,3360000,3360000,3360000,3360000,3360000,3353000,3332000,3325000,3325000,3290000,3290000,3290000,3290000,3290000,3290000,3290000,3290000,3255000,3255000,3234000,3220000,3220000,3220000,3220000,3150000,3150000,3150000,3150000,3150000,3150000,3150000,3150000,3150000,3143000,3129000,3118850,3115000,3115000,3115000,3087000,3080000,3080000,3080000,3080000,3045000,3010000,3010000,3010000,3010000,3010000,3010000,3010000,3003000,2975000,2961000,2940000,2940000,2940000,2940000,2940000,2940000,2940000,2940000,2870000,2870000,2870000,2870000,2852500,2835000,2835000,2835000,2800000,2800000,2730000,2730000,2695000,2660000,2660000,2660000,2660000,2660000,2660000,2660000,2653000,2653000,2604000,2590000,2590000,2590000,2520000,2520000,2520000,2485000,2485000,2450000,2450000,2450000,2450000,2450000,2450000,2408000,2380000,2380000,2380000,2345000,2310000,2275000,2275000,2275000,2240000,2233000,2135000,2100000,2100000,2100000,1960000,1890000,1890000,1855000,1820000,1767150,1750000,1750000,1750000],\"y0\":\" \",\"yaxis\":\"y\",\"type\":\"box\"}],                        {\"template\":{\"data\":{\"histogram2dcontour\":[{\"type\":\"histogram2dcontour\",\"colorbar\":{\"outlinewidth\":0,\"ticks\":\"\"},\"colorscale\":[[0.0,\"#0d0887\"],[0.1111111111111111,\"#46039f\"],[0.2222222222222222,\"#7201a8\"],[0.3333333333333333,\"#9c179e\"],[0.4444444444444444,\"#bd3786\"],[0.5555555555555556,\"#d8576b\"],[0.6666666666666666,\"#ed7953\"],[0.7777777777777778,\"#fb9f3a\"],[0.8888888888888888,\"#fdca26\"],[1.0,\"#f0f921\"]]}],\"choropleth\":[{\"type\":\"choropleth\",\"colorbar\":{\"outlinewidth\":0,\"ticks\":\"\"}}],\"histogram2d\":[{\"type\":\"histogram2d\",\"colorbar\":{\"outlinewidth\":0,\"ticks\":\"\"},\"colorscale\":[[0.0,\"#0d0887\"],[0.1111111111111111,\"#46039f\"],[0.2222222222222222,\"#7201a8\"],[0.3333333333333333,\"#9c179e\"],[0.4444444444444444,\"#bd3786\"],[0.5555555555555556,\"#d8576b\"],[0.6666666666666666,\"#ed7953\"],[0.7777777777777778,\"#fb9f3a\"],[0.8888888888888888,\"#fdca26\"],[1.0,\"#f0f921\"]]}],\"heatmap\":[{\"type\":\"heatmap\",\"colorbar\":{\"outlinewidth\":0,\"ticks\":\"\"},\"colorscale\":[[0.0,\"#0d0887\"],[0.1111111111111111,\"#46039f\"],[0.2222222222222222,\"#7201a8\"],[0.3333333333333333,\"#9c179e\"],[0.4444444444444444,\"#bd3786\"],[0.5555555555555556,\"#d8576b\"],[0.6666666666666666,\"#ed7953\"],[0.7777777777777778,\"#fb9f3a\"],[0.8888888888888888,\"#fdca26\"],[1.0,\"#f0f921\"]]}],\"heatmapgl\":[{\"type\":\"heatmapgl\",\"colorbar\":{\"outlinewidth\":0,\"ticks\":\"\"},\"colorscale\":[[0.0,\"#0d0887\"],[0.1111111111111111,\"#46039f\"],[0.2222222222222222,\"#7201a8\"],[0.3333333333333333,\"#9c179e\"],[0.4444444444444444,\"#bd3786\"],[0.5555555555555556,\"#d8576b\"],[0.6666666666666666,\"#ed7953\"],[0.7777777777777778,\"#fb9f3a\"],[0.8888888888888888,\"#fdca26\"],[1.0,\"#f0f921\"]]}],\"contourcarpet\":[{\"type\":\"contourcarpet\",\"colorbar\":{\"outlinewidth\":0,\"ticks\":\"\"}}],\"contour\":[{\"type\":\"contour\",\"colorbar\":{\"outlinewidth\":0,\"ticks\":\"\"},\"colorscale\":[[0.0,\"#0d0887\"],[0.1111111111111111,\"#46039f\"],[0.2222222222222222,\"#7201a8\"],[0.3333333333333333,\"#9c179e\"],[0.4444444444444444,\"#bd3786\"],[0.5555555555555556,\"#d8576b\"],[0.6666666666666666,\"#ed7953\"],[0.7777777777777778,\"#fb9f3a\"],[0.8888888888888888,\"#fdca26\"],[1.0,\"#f0f921\"]]}],\"surface\":[{\"type\":\"surface\",\"colorbar\":{\"outlinewidth\":0,\"ticks\":\"\"},\"colorscale\":[[0.0,\"#0d0887\"],[0.1111111111111111,\"#46039f\"],[0.2222222222222222,\"#7201a8\"],[0.3333333333333333,\"#9c179e\"],[0.4444444444444444,\"#bd3786\"],[0.5555555555555556,\"#d8576b\"],[0.6666666666666666,\"#ed7953\"],[0.7777777777777778,\"#fb9f3a\"],[0.8888888888888888,\"#fdca26\"],[1.0,\"#f0f921\"]]}],\"mesh3d\":[{\"type\":\"mesh3d\",\"colorbar\":{\"outlinewidth\":0,\"ticks\":\"\"}}],\"scatter\":[{\"fillpattern\":{\"fillmode\":\"overlay\",\"size\":10,\"solidity\":0.2},\"type\":\"scatter\"}],\"parcoords\":[{\"type\":\"parcoords\",\"line\":{\"colorbar\":{\"outlinewidth\":0,\"ticks\":\"\"}}}],\"scatterpolargl\":[{\"type\":\"scatterpolargl\",\"marker\":{\"colorbar\":{\"outlinewidth\":0,\"ticks\":\"\"}}}],\"bar\":[{\"error_x\":{\"color\":\"#2a3f5f\"},\"error_y\":{\"color\":\"#2a3f5f\"},\"marker\":{\"line\":{\"color\":\"#E5ECF6\",\"width\":0.5},\"pattern\":{\"fillmode\":\"overlay\",\"size\":10,\"solidity\":0.2}},\"type\":\"bar\"}],\"scattergeo\":[{\"type\":\"scattergeo\",\"marker\":{\"colorbar\":{\"outlinewidth\":0,\"ticks\":\"\"}}}],\"scatterpolar\":[{\"type\":\"scatterpolar\",\"marker\":{\"colorbar\":{\"outlinewidth\":0,\"ticks\":\"\"}}}],\"histogram\":[{\"marker\":{\"pattern\":{\"fillmode\":\"overlay\",\"size\":10,\"solidity\":0.2}},\"type\":\"histogram\"}],\"scattergl\":[{\"type\":\"scattergl\",\"marker\":{\"colorbar\":{\"outlinewidth\":0,\"ticks\":\"\"}}}],\"scatter3d\":[{\"type\":\"scatter3d\",\"line\":{\"colorbar\":{\"outlinewidth\":0,\"ticks\":\"\"}},\"marker\":{\"colorbar\":{\"outlinewidth\":0,\"ticks\":\"\"}}}],\"scattermapbox\":[{\"type\":\"scattermapbox\",\"marker\":{\"colorbar\":{\"outlinewidth\":0,\"ticks\":\"\"}}}],\"scatterternary\":[{\"type\":\"scatterternary\",\"marker\":{\"colorbar\":{\"outlinewidth\":0,\"ticks\":\"\"}}}],\"scattercarpet\":[{\"type\":\"scattercarpet\",\"marker\":{\"colorbar\":{\"outlinewidth\":0,\"ticks\":\"\"}}}],\"carpet\":[{\"aaxis\":{\"endlinecolor\":\"#2a3f5f\",\"gridcolor\":\"white\",\"linecolor\":\"white\",\"minorgridcolor\":\"white\",\"startlinecolor\":\"#2a3f5f\"},\"baxis\":{\"endlinecolor\":\"#2a3f5f\",\"gridcolor\":\"white\",\"linecolor\":\"white\",\"minorgridcolor\":\"white\",\"startlinecolor\":\"#2a3f5f\"},\"type\":\"carpet\"}],\"table\":[{\"cells\":{\"fill\":{\"color\":\"#EBF0F8\"},\"line\":{\"color\":\"white\"}},\"header\":{\"fill\":{\"color\":\"#C8D4E3\"},\"line\":{\"color\":\"white\"}},\"type\":\"table\"}],\"barpolar\":[{\"marker\":{\"line\":{\"color\":\"#E5ECF6\",\"width\":0.5},\"pattern\":{\"fillmode\":\"overlay\",\"size\":10,\"solidity\":0.2}},\"type\":\"barpolar\"}],\"pie\":[{\"automargin\":true,\"type\":\"pie\"}]},\"layout\":{\"autotypenumbers\":\"strict\",\"colorway\":[\"#636efa\",\"#EF553B\",\"#00cc96\",\"#ab63fa\",\"#FFA15A\",\"#19d3f3\",\"#FF6692\",\"#B6E880\",\"#FF97FF\",\"#FECB52\"],\"font\":{\"color\":\"#2a3f5f\"},\"hovermode\":\"closest\",\"hoverlabel\":{\"align\":\"left\"},\"paper_bgcolor\":\"white\",\"plot_bgcolor\":\"#E5ECF6\",\"polar\":{\"bgcolor\":\"#E5ECF6\",\"angularaxis\":{\"gridcolor\":\"white\",\"linecolor\":\"white\",\"ticks\":\"\"},\"radialaxis\":{\"gridcolor\":\"white\",\"linecolor\":\"white\",\"ticks\":\"\"}},\"ternary\":{\"bgcolor\":\"#E5ECF6\",\"aaxis\":{\"gridcolor\":\"white\",\"linecolor\":\"white\",\"ticks\":\"\"},\"baxis\":{\"gridcolor\":\"white\",\"linecolor\":\"white\",\"ticks\":\"\"},\"caxis\":{\"gridcolor\":\"white\",\"linecolor\":\"white\",\"ticks\":\"\"}},\"coloraxis\":{\"colorbar\":{\"outlinewidth\":0,\"ticks\":\"\"}},\"colorscale\":{\"sequential\":[[0.0,\"#0d0887\"],[0.1111111111111111,\"#46039f\"],[0.2222222222222222,\"#7201a8\"],[0.3333333333333333,\"#9c179e\"],[0.4444444444444444,\"#bd3786\"],[0.5555555555555556,\"#d8576b\"],[0.6666666666666666,\"#ed7953\"],[0.7777777777777778,\"#fb9f3a\"],[0.8888888888888888,\"#fdca26\"],[1.0,\"#f0f921\"]],\"sequentialminus\":[[0.0,\"#0d0887\"],[0.1111111111111111,\"#46039f\"],[0.2222222222222222,\"#7201a8\"],[0.3333333333333333,\"#9c179e\"],[0.4444444444444444,\"#bd3786\"],[0.5555555555555556,\"#d8576b\"],[0.6666666666666666,\"#ed7953\"],[0.7777777777777778,\"#fb9f3a\"],[0.8888888888888888,\"#fdca26\"],[1.0,\"#f0f921\"]],\"diverging\":[[0,\"#8e0152\"],[0.1,\"#c51b7d\"],[0.2,\"#de77ae\"],[0.3,\"#f1b6da\"],[0.4,\"#fde0ef\"],[0.5,\"#f7f7f7\"],[0.6,\"#e6f5d0\"],[0.7,\"#b8e186\"],[0.8,\"#7fbc41\"],[0.9,\"#4d9221\"],[1,\"#276419\"]]},\"xaxis\":{\"gridcolor\":\"white\",\"linecolor\":\"white\",\"ticks\":\"\",\"title\":{\"standoff\":15},\"zerolinecolor\":\"white\",\"automargin\":true,\"zerolinewidth\":2},\"yaxis\":{\"gridcolor\":\"white\",\"linecolor\":\"white\",\"ticks\":\"\",\"title\":{\"standoff\":15},\"zerolinecolor\":\"white\",\"automargin\":true,\"zerolinewidth\":2},\"scene\":{\"xaxis\":{\"backgroundcolor\":\"#E5ECF6\",\"gridcolor\":\"white\",\"linecolor\":\"white\",\"showbackground\":true,\"ticks\":\"\",\"zerolinecolor\":\"white\",\"gridwidth\":2},\"yaxis\":{\"backgroundcolor\":\"#E5ECF6\",\"gridcolor\":\"white\",\"linecolor\":\"white\",\"showbackground\":true,\"ticks\":\"\",\"zerolinecolor\":\"white\",\"gridwidth\":2},\"zaxis\":{\"backgroundcolor\":\"#E5ECF6\",\"gridcolor\":\"white\",\"linecolor\":\"white\",\"showbackground\":true,\"ticks\":\"\",\"zerolinecolor\":\"white\",\"gridwidth\":2}},\"shapedefaults\":{\"line\":{\"color\":\"#2a3f5f\"}},\"annotationdefaults\":{\"arrowcolor\":\"#2a3f5f\",\"arrowhead\":0,\"arrowwidth\":1},\"geo\":{\"bgcolor\":\"white\",\"landcolor\":\"#E5ECF6\",\"subunitcolor\":\"white\",\"showland\":true,\"showlakes\":true,\"lakecolor\":\"white\"},\"title\":{\"x\":0.05},\"mapbox\":{\"style\":\"light\"}}},\"xaxis\":{\"anchor\":\"y\",\"domain\":[0.0,1.0]},\"yaxis\":{\"anchor\":\"x\",\"domain\":[0.0,1.0],\"title\":{\"text\":\"Price\"}},\"legend\":{\"tracegroupgap\":0},\"title\":{\"text\":\"Boxplot of Price (Outliers Removed)\"},\"boxmode\":\"group\",\"height\":400,\"width\":800},                        {\"responsive\": true}                    ).then(function(){\n",
              "                            \n",
              "var gd = document.getElementById('e9c3b433-c6d7-4705-8222-6cc2592df87d');\n",
              "var x = new MutationObserver(function (mutations, observer) {{\n",
              "        var display = window.getComputedStyle(gd).display;\n",
              "        if (!display || display === 'none') {{\n",
              "            console.log([gd, 'removed!']);\n",
              "            Plotly.purge(gd);\n",
              "            observer.disconnect();\n",
              "        }}\n",
              "}});\n",
              "\n",
              "// Listen for the removal of the full notebook cells\n",
              "var notebookContainer = gd.closest('#notebook-container');\n",
              "if (notebookContainer) {{\n",
              "    x.observe(notebookContainer, {childList: true});\n",
              "}}\n",
              "\n",
              "// Listen for the clearing of the current output cell\n",
              "var outputEl = gd.closest('.output');\n",
              "if (outputEl) {{\n",
              "    x.observe(outputEl, {childList: true});\n",
              "}}\n",
              "\n",
              "                        })                };                            </script>        </div>\n",
              "</body>\n",
              "</html>"
            ]
          },
          "metadata": {}
        }
      ]
    },
    {
      "cell_type": "code",
      "source": [
        "import plotly.express as px\n",
        "\n",
        "# Calculate Q1, Q3, and IQR for 'Area'\n",
        "Q1 = house['Area'].quantile(0.25)\n",
        "Q3 = house['Area'].quantile(0.75)\n",
        "IQR = Q3 - Q1\n",
        "\n",
        "# Filter the data to remove outliers based on IQR\n",
        "house_filtered = house[(house['Area'] >= Q1 - 1.5 * IQR) & (house['Area'] <= Q3 + 1.5 * IQR)]\n",
        "\n",
        "# Create a boxplot for the filtered 'Area' using Plotly Express\n",
        "fig = px.box(house_filtered, y='Area', title=\"Boxplot of Area (Outliers Removed)\", width=800, height=400)\n",
        "fig.show()\n"
      ],
      "metadata": {
        "colab": {
          "base_uri": "https://localhost:8080/",
          "height": 437
        },
        "id": "Kx_CYn-nLdwz",
        "outputId": "784ec022-a71e-4c22-e184-88d85e76a38c"
      },
      "execution_count": null,
      "outputs": [
        {
          "output_type": "display_data",
          "data": {
            "text/html": [
              "<html>\n",
              "<head><meta charset=\"utf-8\" /></head>\n",
              "<body>\n",
              "    <div>            <script src=\"https://cdnjs.cloudflare.com/ajax/libs/mathjax/2.7.5/MathJax.js?config=TeX-AMS-MML_SVG\"></script><script type=\"text/javascript\">if (window.MathJax && window.MathJax.Hub && window.MathJax.Hub.Config) {window.MathJax.Hub.Config({SVG: {font: \"STIX-Web\"}});}</script>                <script type=\"text/javascript\">window.PlotlyConfig = {MathJaxConfig: 'local'};</script>\n",
              "        <script charset=\"utf-8\" src=\"https://cdn.plot.ly/plotly-2.35.2.min.js\"></script>                <div id=\"f907219f-01be-4d2c-9857-93c4738c86c4\" class=\"plotly-graph-div\" style=\"height:400px; width:800px;\"></div>            <script type=\"text/javascript\">                                    window.PLOTLYENV=window.PLOTLYENV || {};                                    if (document.getElementById(\"f907219f-01be-4d2c-9857-93c4738c86c4\")) {                    Plotly.newPlot(                        \"f907219f-01be-4d2c-9857-93c4738c86c4\",                        [{\"alignmentgroup\":\"True\",\"hovertemplate\":\"Area=%{y}\\u003cextra\\u003e\\u003c\\u002fextra\\u003e\",\"legendgroup\":\"\",\"marker\":{\"color\":\"#636efa\"},\"name\":\"\",\"notched\":false,\"offsetgroup\":\"\",\"orientation\":\"v\",\"showlegend\":false,\"x0\":\" \",\"xaxis\":\"x\",\"y\":[4320,7155,8050,4560,8800,6540,6000,8875,7950,5500,7475,7000,4880,5960,6840,7000,7482,9000,6000,6000,6550,6360,6480,6000,6000,6000,6000,6600,4300,7440,7440,6325,6000,5150,6000,6000,9000,7680,6000,6000,8880,6240,6360,8880,7700,6000,4000,6000,5020,6600,4040,4260,6420,6500,5700,6000,6000,4000,6000,3760,8250,6670,3960,7410,8580,5000,6750,4800,7200,6000,4100,9000,6400,6600,6000,6600,5500,5500,6350,5500,4500,5450,6420,3240,6615,6600,8372,4300,9620,6800,8000,6900,3700,6420,7020,6540,7231,6254,7320,6525,7160,6500,5500,4800,5828,5200,4800,7000,6000,5400,4640,5000,6360,5800,6660,4800,4700,5000,5500,6360,6600,5136,4400,5400,3300,3650,6100,6900,2817,7980,3150,6210,6100,6600,6825,6710,6450,7800,4600,4260,6540,5500,10269,8400,5300,3800,9800,8520,6050,7085,3180,4500,7200,3410,7980,3000,3000,6100,5720,3540,7600,6600,4800,8150,4410,7686,2800,5948,4200,4520,4095,4120,5400,4770,6300,5800,3000,2970,6720,4646,3420,4995,4350,4160,6040,6862,4815,7000,8100,3420,9166,6321,10240,6440,5170,6000,3630,9667,5400,4320,3745,4160,3880,5680,2870,5010,4510,4000,3840,3760,3640,2550,5320,5360,3520,8400,4100,4990,3510,3450,9860,3520,4510,5885,4000,8250,4040,6360,3162,3510,3750,3968,4900,2880,4880,4920,4950,3900,4500,1905,4075,3500,6450,4032,4400,3400,6360,6360,4500,2175,4360,7770,6650,2787,5500,5040,5850,2610,2953,2747,4410,4000,2325,4600,3640,5800,7000,4079,3520,2145,4500,8250,3450,4840,4080,4046,4632,5985,6060,3600,3680,4040,5600,5900,4992,4340,3000,4320,3630,3460,5400,4500,3460,4100,6480,4500,3960,4050,7260,5500,3000,3290,3816,8080,2145,3780,3180,5300,3180,7152,4080,3850,2015,2176,3350,3150,4820,3420,3600,5830,2856,8400,8250,2520,6930,3480,3600,4040,6020,4050,3584,3120,5450,3630,3630,5640,3600,4280,3570,3180,3000,3520,5960,4130,2850,2275,3520,4500,4000,3150,4500,4500,3640,3850,4240,3650,4600,2135,3036,3990,7424,3480,3600,3640,5900,3120,7350,3512,9500,5880,4900,3060,5320,2145,4000,3185,3850,2145,2610,1950,4040,4785,3450,3640,3500,4960,4120,4750,3720,3750,3100,3185,2700,2145,4040,4775,2500,3180,6060,3480,3792,4040,2145,5880,4500,3930,3640,4370,2684,4320,3120,3450,3986,3500,4095,1650,3450,6750,9000,3069,4500,5495,2398,3000,3850,3500,8100,4960,2160,3090,4500,3800,3090,3240,2835,4600,5076,3750,3630,8050,4352,3000,5850,4960,3600,3660,3480,2700,3150,6615,3040,3630,6000,5400,5200,3300,4350,2640,2650,3960,6800,4000,4000,3934,2000,3630,2800,2430,3480,4000,3185,4000,2910,3600,4400,3600,2880,3180,3000,4400,3000,3210,3240,3000,3500,4840,7700,3635,2475,2787,3264,3640,3180,1836,3970,3970,1950,5300,3000,2400,3000,3360,3420,1700,3649,2990,3000,2400,3620,2910,3850],\"y0\":\" \",\"yaxis\":\"y\",\"type\":\"box\"}],                        {\"template\":{\"data\":{\"histogram2dcontour\":[{\"type\":\"histogram2dcontour\",\"colorbar\":{\"outlinewidth\":0,\"ticks\":\"\"},\"colorscale\":[[0.0,\"#0d0887\"],[0.1111111111111111,\"#46039f\"],[0.2222222222222222,\"#7201a8\"],[0.3333333333333333,\"#9c179e\"],[0.4444444444444444,\"#bd3786\"],[0.5555555555555556,\"#d8576b\"],[0.6666666666666666,\"#ed7953\"],[0.7777777777777778,\"#fb9f3a\"],[0.8888888888888888,\"#fdca26\"],[1.0,\"#f0f921\"]]}],\"choropleth\":[{\"type\":\"choropleth\",\"colorbar\":{\"outlinewidth\":0,\"ticks\":\"\"}}],\"histogram2d\":[{\"type\":\"histogram2d\",\"colorbar\":{\"outlinewidth\":0,\"ticks\":\"\"},\"colorscale\":[[0.0,\"#0d0887\"],[0.1111111111111111,\"#46039f\"],[0.2222222222222222,\"#7201a8\"],[0.3333333333333333,\"#9c179e\"],[0.4444444444444444,\"#bd3786\"],[0.5555555555555556,\"#d8576b\"],[0.6666666666666666,\"#ed7953\"],[0.7777777777777778,\"#fb9f3a\"],[0.8888888888888888,\"#fdca26\"],[1.0,\"#f0f921\"]]}],\"heatmap\":[{\"type\":\"heatmap\",\"colorbar\":{\"outlinewidth\":0,\"ticks\":\"\"},\"colorscale\":[[0.0,\"#0d0887\"],[0.1111111111111111,\"#46039f\"],[0.2222222222222222,\"#7201a8\"],[0.3333333333333333,\"#9c179e\"],[0.4444444444444444,\"#bd3786\"],[0.5555555555555556,\"#d8576b\"],[0.6666666666666666,\"#ed7953\"],[0.7777777777777778,\"#fb9f3a\"],[0.8888888888888888,\"#fdca26\"],[1.0,\"#f0f921\"]]}],\"heatmapgl\":[{\"type\":\"heatmapgl\",\"colorbar\":{\"outlinewidth\":0,\"ticks\":\"\"},\"colorscale\":[[0.0,\"#0d0887\"],[0.1111111111111111,\"#46039f\"],[0.2222222222222222,\"#7201a8\"],[0.3333333333333333,\"#9c179e\"],[0.4444444444444444,\"#bd3786\"],[0.5555555555555556,\"#d8576b\"],[0.6666666666666666,\"#ed7953\"],[0.7777777777777778,\"#fb9f3a\"],[0.8888888888888888,\"#fdca26\"],[1.0,\"#f0f921\"]]}],\"contourcarpet\":[{\"type\":\"contourcarpet\",\"colorbar\":{\"outlinewidth\":0,\"ticks\":\"\"}}],\"contour\":[{\"type\":\"contour\",\"colorbar\":{\"outlinewidth\":0,\"ticks\":\"\"},\"colorscale\":[[0.0,\"#0d0887\"],[0.1111111111111111,\"#46039f\"],[0.2222222222222222,\"#7201a8\"],[0.3333333333333333,\"#9c179e\"],[0.4444444444444444,\"#bd3786\"],[0.5555555555555556,\"#d8576b\"],[0.6666666666666666,\"#ed7953\"],[0.7777777777777778,\"#fb9f3a\"],[0.8888888888888888,\"#fdca26\"],[1.0,\"#f0f921\"]]}],\"surface\":[{\"type\":\"surface\",\"colorbar\":{\"outlinewidth\":0,\"ticks\":\"\"},\"colorscale\":[[0.0,\"#0d0887\"],[0.1111111111111111,\"#46039f\"],[0.2222222222222222,\"#7201a8\"],[0.3333333333333333,\"#9c179e\"],[0.4444444444444444,\"#bd3786\"],[0.5555555555555556,\"#d8576b\"],[0.6666666666666666,\"#ed7953\"],[0.7777777777777778,\"#fb9f3a\"],[0.8888888888888888,\"#fdca26\"],[1.0,\"#f0f921\"]]}],\"mesh3d\":[{\"type\":\"mesh3d\",\"colorbar\":{\"outlinewidth\":0,\"ticks\":\"\"}}],\"scatter\":[{\"fillpattern\":{\"fillmode\":\"overlay\",\"size\":10,\"solidity\":0.2},\"type\":\"scatter\"}],\"parcoords\":[{\"type\":\"parcoords\",\"line\":{\"colorbar\":{\"outlinewidth\":0,\"ticks\":\"\"}}}],\"scatterpolargl\":[{\"type\":\"scatterpolargl\",\"marker\":{\"colorbar\":{\"outlinewidth\":0,\"ticks\":\"\"}}}],\"bar\":[{\"error_x\":{\"color\":\"#2a3f5f\"},\"error_y\":{\"color\":\"#2a3f5f\"},\"marker\":{\"line\":{\"color\":\"#E5ECF6\",\"width\":0.5},\"pattern\":{\"fillmode\":\"overlay\",\"size\":10,\"solidity\":0.2}},\"type\":\"bar\"}],\"scattergeo\":[{\"type\":\"scattergeo\",\"marker\":{\"colorbar\":{\"outlinewidth\":0,\"ticks\":\"\"}}}],\"scatterpolar\":[{\"type\":\"scatterpolar\",\"marker\":{\"colorbar\":{\"outlinewidth\":0,\"ticks\":\"\"}}}],\"histogram\":[{\"marker\":{\"pattern\":{\"fillmode\":\"overlay\",\"size\":10,\"solidity\":0.2}},\"type\":\"histogram\"}],\"scattergl\":[{\"type\":\"scattergl\",\"marker\":{\"colorbar\":{\"outlinewidth\":0,\"ticks\":\"\"}}}],\"scatter3d\":[{\"type\":\"scatter3d\",\"line\":{\"colorbar\":{\"outlinewidth\":0,\"ticks\":\"\"}},\"marker\":{\"colorbar\":{\"outlinewidth\":0,\"ticks\":\"\"}}}],\"scattermapbox\":[{\"type\":\"scattermapbox\",\"marker\":{\"colorbar\":{\"outlinewidth\":0,\"ticks\":\"\"}}}],\"scatterternary\":[{\"type\":\"scatterternary\",\"marker\":{\"colorbar\":{\"outlinewidth\":0,\"ticks\":\"\"}}}],\"scattercarpet\":[{\"type\":\"scattercarpet\",\"marker\":{\"colorbar\":{\"outlinewidth\":0,\"ticks\":\"\"}}}],\"carpet\":[{\"aaxis\":{\"endlinecolor\":\"#2a3f5f\",\"gridcolor\":\"white\",\"linecolor\":\"white\",\"minorgridcolor\":\"white\",\"startlinecolor\":\"#2a3f5f\"},\"baxis\":{\"endlinecolor\":\"#2a3f5f\",\"gridcolor\":\"white\",\"linecolor\":\"white\",\"minorgridcolor\":\"white\",\"startlinecolor\":\"#2a3f5f\"},\"type\":\"carpet\"}],\"table\":[{\"cells\":{\"fill\":{\"color\":\"#EBF0F8\"},\"line\":{\"color\":\"white\"}},\"header\":{\"fill\":{\"color\":\"#C8D4E3\"},\"line\":{\"color\":\"white\"}},\"type\":\"table\"}],\"barpolar\":[{\"marker\":{\"line\":{\"color\":\"#E5ECF6\",\"width\":0.5},\"pattern\":{\"fillmode\":\"overlay\",\"size\":10,\"solidity\":0.2}},\"type\":\"barpolar\"}],\"pie\":[{\"automargin\":true,\"type\":\"pie\"}]},\"layout\":{\"autotypenumbers\":\"strict\",\"colorway\":[\"#636efa\",\"#EF553B\",\"#00cc96\",\"#ab63fa\",\"#FFA15A\",\"#19d3f3\",\"#FF6692\",\"#B6E880\",\"#FF97FF\",\"#FECB52\"],\"font\":{\"color\":\"#2a3f5f\"},\"hovermode\":\"closest\",\"hoverlabel\":{\"align\":\"left\"},\"paper_bgcolor\":\"white\",\"plot_bgcolor\":\"#E5ECF6\",\"polar\":{\"bgcolor\":\"#E5ECF6\",\"angularaxis\":{\"gridcolor\":\"white\",\"linecolor\":\"white\",\"ticks\":\"\"},\"radialaxis\":{\"gridcolor\":\"white\",\"linecolor\":\"white\",\"ticks\":\"\"}},\"ternary\":{\"bgcolor\":\"#E5ECF6\",\"aaxis\":{\"gridcolor\":\"white\",\"linecolor\":\"white\",\"ticks\":\"\"},\"baxis\":{\"gridcolor\":\"white\",\"linecolor\":\"white\",\"ticks\":\"\"},\"caxis\":{\"gridcolor\":\"white\",\"linecolor\":\"white\",\"ticks\":\"\"}},\"coloraxis\":{\"colorbar\":{\"outlinewidth\":0,\"ticks\":\"\"}},\"colorscale\":{\"sequential\":[[0.0,\"#0d0887\"],[0.1111111111111111,\"#46039f\"],[0.2222222222222222,\"#7201a8\"],[0.3333333333333333,\"#9c179e\"],[0.4444444444444444,\"#bd3786\"],[0.5555555555555556,\"#d8576b\"],[0.6666666666666666,\"#ed7953\"],[0.7777777777777778,\"#fb9f3a\"],[0.8888888888888888,\"#fdca26\"],[1.0,\"#f0f921\"]],\"sequentialminus\":[[0.0,\"#0d0887\"],[0.1111111111111111,\"#46039f\"],[0.2222222222222222,\"#7201a8\"],[0.3333333333333333,\"#9c179e\"],[0.4444444444444444,\"#bd3786\"],[0.5555555555555556,\"#d8576b\"],[0.6666666666666666,\"#ed7953\"],[0.7777777777777778,\"#fb9f3a\"],[0.8888888888888888,\"#fdca26\"],[1.0,\"#f0f921\"]],\"diverging\":[[0,\"#8e0152\"],[0.1,\"#c51b7d\"],[0.2,\"#de77ae\"],[0.3,\"#f1b6da\"],[0.4,\"#fde0ef\"],[0.5,\"#f7f7f7\"],[0.6,\"#e6f5d0\"],[0.7,\"#b8e186\"],[0.8,\"#7fbc41\"],[0.9,\"#4d9221\"],[1,\"#276419\"]]},\"xaxis\":{\"gridcolor\":\"white\",\"linecolor\":\"white\",\"ticks\":\"\",\"title\":{\"standoff\":15},\"zerolinecolor\":\"white\",\"automargin\":true,\"zerolinewidth\":2},\"yaxis\":{\"gridcolor\":\"white\",\"linecolor\":\"white\",\"ticks\":\"\",\"title\":{\"standoff\":15},\"zerolinecolor\":\"white\",\"automargin\":true,\"zerolinewidth\":2},\"scene\":{\"xaxis\":{\"backgroundcolor\":\"#E5ECF6\",\"gridcolor\":\"white\",\"linecolor\":\"white\",\"showbackground\":true,\"ticks\":\"\",\"zerolinecolor\":\"white\",\"gridwidth\":2},\"yaxis\":{\"backgroundcolor\":\"#E5ECF6\",\"gridcolor\":\"white\",\"linecolor\":\"white\",\"showbackground\":true,\"ticks\":\"\",\"zerolinecolor\":\"white\",\"gridwidth\":2},\"zaxis\":{\"backgroundcolor\":\"#E5ECF6\",\"gridcolor\":\"white\",\"linecolor\":\"white\",\"showbackground\":true,\"ticks\":\"\",\"zerolinecolor\":\"white\",\"gridwidth\":2}},\"shapedefaults\":{\"line\":{\"color\":\"#2a3f5f\"}},\"annotationdefaults\":{\"arrowcolor\":\"#2a3f5f\",\"arrowhead\":0,\"arrowwidth\":1},\"geo\":{\"bgcolor\":\"white\",\"landcolor\":\"#E5ECF6\",\"subunitcolor\":\"white\",\"showland\":true,\"showlakes\":true,\"lakecolor\":\"white\"},\"title\":{\"x\":0.05},\"mapbox\":{\"style\":\"light\"}}},\"xaxis\":{\"anchor\":\"y\",\"domain\":[0.0,1.0]},\"yaxis\":{\"anchor\":\"x\",\"domain\":[0.0,1.0],\"title\":{\"text\":\"Area\"}},\"legend\":{\"tracegroupgap\":0},\"title\":{\"text\":\"Boxplot of Area (Outliers Removed)\"},\"boxmode\":\"group\",\"height\":400,\"width\":800},                        {\"responsive\": true}                    ).then(function(){\n",
              "                            \n",
              "var gd = document.getElementById('f907219f-01be-4d2c-9857-93c4738c86c4');\n",
              "var x = new MutationObserver(function (mutations, observer) {{\n",
              "        var display = window.getComputedStyle(gd).display;\n",
              "        if (!display || display === 'none') {{\n",
              "            console.log([gd, 'removed!']);\n",
              "            Plotly.purge(gd);\n",
              "            observer.disconnect();\n",
              "        }}\n",
              "}});\n",
              "\n",
              "// Listen for the removal of the full notebook cells\n",
              "var notebookContainer = gd.closest('#notebook-container');\n",
              "if (notebookContainer) {{\n",
              "    x.observe(notebookContainer, {childList: true});\n",
              "}}\n",
              "\n",
              "// Listen for the clearing of the current output cell\n",
              "var outputEl = gd.closest('.output');\n",
              "if (outputEl) {{\n",
              "    x.observe(outputEl, {childList: true});\n",
              "}}\n",
              "\n",
              "                        })                };                            </script>        </div>\n",
              "</body>\n",
              "</html>"
            ]
          },
          "metadata": {}
        }
      ]
    },
    {
      "cell_type": "code",
      "source": [
        "import plotly.express as px\n",
        "import pandas as pd\n",
        "\n",
        "# Melt the house DataFrame for easier plotting with Plotly Express\n",
        "house_melted = house[['Price', 'Area', 'Bedrooms', 'Bathrooms']].melt(var_name='Feature', value_name='Value')\n",
        "\n",
        "# Create the boxplot with Plotly Express\n",
        "fig = px.box(house_melted, x='Feature', y='Value', title=\"Outlier Analysis of Features\",\n",
        "             width=1000, height=600)\n",
        "\n",
        "# Update layout to improve visualization\n",
        "fig.update_layout(\n",
        "    boxmode='group',  # Group the boxes for each feature\n",
        "    title=\"Outlier Analysis for Price, Area, Bedrooms, and Bathrooms\",\n",
        "    showlegend=False\n",
        ")\n",
        "\n",
        "fig.show()\n"
      ],
      "metadata": {
        "colab": {
          "base_uri": "https://localhost:8080/",
          "height": 637
        },
        "id": "usefwNeyL19j",
        "outputId": "16b63230-dbb3-40fe-ccf4-d4dee0af9ced"
      },
      "execution_count": null,
      "outputs": [
        {
          "output_type": "display_data",
          "data": {
            "text/html": [
              "<html>\n",
              "<head><meta charset=\"utf-8\" /></head>\n",
              "<body>\n",
              "    <div>            <script src=\"https://cdnjs.cloudflare.com/ajax/libs/mathjax/2.7.5/MathJax.js?config=TeX-AMS-MML_SVG\"></script><script type=\"text/javascript\">if (window.MathJax && window.MathJax.Hub && window.MathJax.Hub.Config) {window.MathJax.Hub.Config({SVG: {font: \"STIX-Web\"}});}</script>                <script type=\"text/javascript\">window.PlotlyConfig = {MathJaxConfig: 'local'};</script>\n",
              "        <script charset=\"utf-8\" src=\"https://cdn.plot.ly/plotly-2.35.2.min.js\"></script>                <div id=\"fd502870-43c2-421f-a80c-0d29dec33d76\" class=\"plotly-graph-div\" style=\"height:600px; width:1000px;\"></div>            <script type=\"text/javascript\">                                    window.PLOTLYENV=window.PLOTLYENV || {};                                    if (document.getElementById(\"fd502870-43c2-421f-a80c-0d29dec33d76\")) {                    Plotly.newPlot(                        \"fd502870-43c2-421f-a80c-0d29dec33d76\",                        [{\"alignmentgroup\":\"True\",\"hovertemplate\":\"Feature=%{x}\\u003cbr\\u003eValue=%{y}\\u003cextra\\u003e\\u003c\\u002fextra\\u003e\",\"legendgroup\":\"\",\"marker\":{\"color\":\"#636efa\"},\"name\":\"\",\"notched\":false,\"offsetgroup\":\"\",\"orientation\":\"v\",\"showlegend\":false,\"x\":[\"Price\",\"Price\",\"Price\",\"Price\",\"Price\",\"Price\",\"Price\",\"Price\",\"Price\",\"Price\",\"Price\",\"Price\",\"Price\",\"Price\",\"Price\",\"Price\",\"Price\",\"Price\",\"Price\",\"Price\",\"Price\",\"Price\",\"Price\",\"Price\",\"Price\",\"Price\",\"Price\",\"Price\",\"Price\",\"Price\",\"Price\",\"Price\",\"Price\",\"Price\",\"Price\",\"Price\",\"Price\",\"Price\",\"Price\",\"Price\",\"Price\",\"Price\",\"Price\",\"Price\",\"Price\",\"Price\",\"Price\",\"Price\",\"Price\",\"Price\",\"Price\",\"Price\",\"Price\",\"Price\",\"Price\",\"Price\",\"Price\",\"Price\",\"Price\",\"Price\",\"Price\",\"Price\",\"Price\",\"Price\",\"Price\",\"Price\",\"Price\",\"Price\",\"Price\",\"Price\",\"Price\",\"Price\",\"Price\",\"Price\",\"Price\",\"Price\",\"Price\",\"Price\",\"Price\",\"Price\",\"Price\",\"Price\",\"Price\",\"Price\",\"Price\",\"Price\",\"Price\",\"Price\",\"Price\",\"Price\",\"Price\",\"Price\",\"Price\",\"Price\",\"Price\",\"Price\",\"Price\",\"Price\",\"Price\",\"Price\",\"Price\",\"Price\",\"Price\",\"Price\",\"Price\",\"Price\",\"Price\",\"Price\",\"Price\",\"Price\",\"Price\",\"Price\",\"Price\",\"Price\",\"Price\",\"Price\",\"Price\",\"Price\",\"Price\",\"Price\",\"Price\",\"Price\",\"Price\",\"Price\",\"Price\",\"Price\",\"Price\",\"Price\",\"Price\",\"Price\",\"Price\",\"Price\",\"Price\",\"Price\",\"Price\",\"Price\",\"Price\",\"Price\",\"Price\",\"Price\",\"Price\",\"Price\",\"Price\",\"Price\",\"Price\",\"Price\",\"Price\",\"Price\",\"Price\",\"Price\",\"Price\",\"Price\",\"Price\",\"Price\",\"Price\",\"Price\",\"Price\",\"Price\",\"Price\",\"Price\",\"Price\",\"Price\",\"Price\",\"Price\",\"Price\",\"Price\",\"Price\",\"Price\",\"Price\",\"Price\",\"Price\",\"Price\",\"Price\",\"Price\",\"Price\",\"Price\",\"Price\",\"Price\",\"Price\",\"Price\",\"Price\",\"Price\",\"Price\",\"Price\",\"Price\",\"Price\",\"Price\",\"Price\",\"Price\",\"Price\",\"Price\",\"Price\",\"Price\",\"Price\",\"Price\",\"Price\",\"Price\",\"Price\",\"Price\",\"Price\",\"Price\",\"Price\",\"Price\",\"Price\",\"Price\",\"Price\",\"Price\",\"Price\",\"Price\",\"Price\",\"Price\",\"Price\",\"Price\",\"Price\",\"Price\",\"Price\",\"Price\",\"Price\",\"Price\",\"Price\",\"Price\",\"Price\",\"Price\",\"Price\",\"Price\",\"Price\",\"Price\",\"Price\",\"Price\",\"Price\",\"Price\",\"Price\",\"Price\",\"Price\",\"Price\",\"Price\",\"Price\",\"Price\",\"Price\",\"Price\",\"Price\",\"Price\",\"Price\",\"Price\",\"Price\",\"Price\",\"Price\",\"Price\",\"Price\",\"Price\",\"Price\",\"Price\",\"Price\",\"Price\",\"Price\",\"Price\",\"Price\",\"Price\",\"Price\",\"Price\",\"Price\",\"Price\",\"Price\",\"Price\",\"Price\",\"Price\",\"Price\",\"Price\",\"Price\",\"Price\",\"Price\",\"Price\",\"Price\",\"Price\",\"Price\",\"Price\",\"Price\",\"Price\",\"Price\",\"Price\",\"Price\",\"Price\",\"Price\",\"Price\",\"Price\",\"Price\",\"Price\",\"Price\",\"Price\",\"Price\",\"Price\",\"Price\",\"Price\",\"Price\",\"Price\",\"Price\",\"Price\",\"Price\",\"Price\",\"Price\",\"Price\",\"Price\",\"Price\",\"Price\",\"Price\",\"Price\",\"Price\",\"Price\",\"Price\",\"Price\",\"Price\",\"Price\",\"Price\",\"Price\",\"Price\",\"Price\",\"Price\",\"Price\",\"Price\",\"Price\",\"Price\",\"Price\",\"Price\",\"Price\",\"Price\",\"Price\",\"Price\",\"Price\",\"Price\",\"Price\",\"Price\",\"Price\",\"Price\",\"Price\",\"Price\",\"Price\",\"Price\",\"Price\",\"Price\",\"Price\",\"Price\",\"Price\",\"Price\",\"Price\",\"Price\",\"Price\",\"Price\",\"Price\",\"Price\",\"Price\",\"Price\",\"Price\",\"Price\",\"Price\",\"Price\",\"Price\",\"Price\",\"Price\",\"Price\",\"Price\",\"Price\",\"Price\",\"Price\",\"Price\",\"Price\",\"Price\",\"Price\",\"Price\",\"Price\",\"Price\",\"Price\",\"Price\",\"Price\",\"Price\",\"Price\",\"Price\",\"Price\",\"Price\",\"Price\",\"Price\",\"Price\",\"Price\",\"Price\",\"Price\",\"Price\",\"Price\",\"Price\",\"Price\",\"Price\",\"Price\",\"Price\",\"Price\",\"Price\",\"Price\",\"Price\",\"Price\",\"Price\",\"Price\",\"Price\",\"Price\",\"Price\",\"Price\",\"Price\",\"Price\",\"Price\",\"Price\",\"Price\",\"Price\",\"Price\",\"Price\",\"Price\",\"Price\",\"Price\",\"Price\",\"Price\",\"Price\",\"Price\",\"Price\",\"Price\",\"Price\",\"Price\",\"Price\",\"Price\",\"Price\",\"Price\",\"Price\",\"Price\",\"Price\",\"Price\",\"Price\",\"Price\",\"Price\",\"Price\",\"Price\",\"Price\",\"Price\",\"Price\",\"Price\",\"Price\",\"Price\",\"Price\",\"Price\",\"Price\",\"Price\",\"Price\",\"Price\",\"Price\",\"Price\",\"Price\",\"Price\",\"Price\",\"Price\",\"Price\",\"Price\",\"Price\",\"Price\",\"Price\",\"Price\",\"Price\",\"Price\",\"Price\",\"Price\",\"Price\",\"Price\",\"Price\",\"Price\",\"Price\",\"Price\",\"Price\",\"Price\",\"Price\",\"Price\",\"Price\",\"Price\",\"Price\",\"Price\",\"Price\",\"Price\",\"Price\",\"Price\",\"Price\",\"Price\",\"Price\",\"Price\",\"Price\",\"Price\",\"Price\",\"Price\",\"Price\",\"Price\",\"Price\",\"Price\",\"Price\",\"Price\",\"Price\",\"Price\",\"Price\",\"Price\",\"Price\",\"Price\",\"Price\",\"Price\",\"Price\",\"Price\",\"Price\",\"Price\",\"Price\",\"Price\",\"Price\",\"Price\",\"Price\",\"Price\",\"Price\",\"Price\",\"Price\",\"Price\",\"Price\",\"Price\",\"Price\",\"Price\",\"Price\",\"Price\",\"Price\",\"Price\",\"Price\",\"Area\",\"Area\",\"Area\",\"Area\",\"Area\",\"Area\",\"Area\",\"Area\",\"Area\",\"Area\",\"Area\",\"Area\",\"Area\",\"Area\",\"Area\",\"Area\",\"Area\",\"Area\",\"Area\",\"Area\",\"Area\",\"Area\",\"Area\",\"Area\",\"Area\",\"Area\",\"Area\",\"Area\",\"Area\",\"Area\",\"Area\",\"Area\",\"Area\",\"Area\",\"Area\",\"Area\",\"Area\",\"Area\",\"Area\",\"Area\",\"Area\",\"Area\",\"Area\",\"Area\",\"Area\",\"Area\",\"Area\",\"Area\",\"Area\",\"Area\",\"Area\",\"Area\",\"Area\",\"Area\",\"Area\",\"Area\",\"Area\",\"Area\",\"Area\",\"Area\",\"Area\",\"Area\",\"Area\",\"Area\",\"Area\",\"Area\",\"Area\",\"Area\",\"Area\",\"Area\",\"Area\",\"Area\",\"Area\",\"Area\",\"Area\",\"Area\",\"Area\",\"Area\",\"Area\",\"Area\",\"Area\",\"Area\",\"Area\",\"Area\",\"Area\",\"Area\",\"Area\",\"Area\",\"Area\",\"Area\",\"Area\",\"Area\",\"Area\",\"Area\",\"Area\",\"Area\",\"Area\",\"Area\",\"Area\",\"Area\",\"Area\",\"Area\",\"Area\",\"Area\",\"Area\",\"Area\",\"Area\",\"Area\",\"Area\",\"Area\",\"Area\",\"Area\",\"Area\",\"Area\",\"Area\",\"Area\",\"Area\",\"Area\",\"Area\",\"Area\",\"Area\",\"Area\",\"Area\",\"Area\",\"Area\",\"Area\",\"Area\",\"Area\",\"Area\",\"Area\",\"Area\",\"Area\",\"Area\",\"Area\",\"Area\",\"Area\",\"Area\",\"Area\",\"Area\",\"Area\",\"Area\",\"Area\",\"Area\",\"Area\",\"Area\",\"Area\",\"Area\",\"Area\",\"Area\",\"Area\",\"Area\",\"Area\",\"Area\",\"Area\",\"Area\",\"Area\",\"Area\",\"Area\",\"Area\",\"Area\",\"Area\",\"Area\",\"Area\",\"Area\",\"Area\",\"Area\",\"Area\",\"Area\",\"Area\",\"Area\",\"Area\",\"Area\",\"Area\",\"Area\",\"Area\",\"Area\",\"Area\",\"Area\",\"Area\",\"Area\",\"Area\",\"Area\",\"Area\",\"Area\",\"Area\",\"Area\",\"Area\",\"Area\",\"Area\",\"Area\",\"Area\",\"Area\",\"Area\",\"Area\",\"Area\",\"Area\",\"Area\",\"Area\",\"Area\",\"Area\",\"Area\",\"Area\",\"Area\",\"Area\",\"Area\",\"Area\",\"Area\",\"Area\",\"Area\",\"Area\",\"Area\",\"Area\",\"Area\",\"Area\",\"Area\",\"Area\",\"Area\",\"Area\",\"Area\",\"Area\",\"Area\",\"Area\",\"Area\",\"Area\",\"Area\",\"Area\",\"Area\",\"Area\",\"Area\",\"Area\",\"Area\",\"Area\",\"Area\",\"Area\",\"Area\",\"Area\",\"Area\",\"Area\",\"Area\",\"Area\",\"Area\",\"Area\",\"Area\",\"Area\",\"Area\",\"Area\",\"Area\",\"Area\",\"Area\",\"Area\",\"Area\",\"Area\",\"Area\",\"Area\",\"Area\",\"Area\",\"Area\",\"Area\",\"Area\",\"Area\",\"Area\",\"Area\",\"Area\",\"Area\",\"Area\",\"Area\",\"Area\",\"Area\",\"Area\",\"Area\",\"Area\",\"Area\",\"Area\",\"Area\",\"Area\",\"Area\",\"Area\",\"Area\",\"Area\",\"Area\",\"Area\",\"Area\",\"Area\",\"Area\",\"Area\",\"Area\",\"Area\",\"Area\",\"Area\",\"Area\",\"Area\",\"Area\",\"Area\",\"Area\",\"Area\",\"Area\",\"Area\",\"Area\",\"Area\",\"Area\",\"Area\",\"Area\",\"Area\",\"Area\",\"Area\",\"Area\",\"Area\",\"Area\",\"Area\",\"Area\",\"Area\",\"Area\",\"Area\",\"Area\",\"Area\",\"Area\",\"Area\",\"Area\",\"Area\",\"Area\",\"Area\",\"Area\",\"Area\",\"Area\",\"Area\",\"Area\",\"Area\",\"Area\",\"Area\",\"Area\",\"Area\",\"Area\",\"Area\",\"Area\",\"Area\",\"Area\",\"Area\",\"Area\",\"Area\",\"Area\",\"Area\",\"Area\",\"Area\",\"Area\",\"Area\",\"Area\",\"Area\",\"Area\",\"Area\",\"Area\",\"Area\",\"Area\",\"Area\",\"Area\",\"Area\",\"Area\",\"Area\",\"Area\",\"Area\",\"Area\",\"Area\",\"Area\",\"Area\",\"Area\",\"Area\",\"Area\",\"Area\",\"Area\",\"Area\",\"Area\",\"Area\",\"Area\",\"Area\",\"Area\",\"Area\",\"Area\",\"Area\",\"Area\",\"Area\",\"Area\",\"Area\",\"Area\",\"Area\",\"Area\",\"Area\",\"Area\",\"Area\",\"Area\",\"Area\",\"Area\",\"Area\",\"Area\",\"Area\",\"Area\",\"Area\",\"Area\",\"Area\",\"Area\",\"Area\",\"Area\",\"Area\",\"Area\",\"Area\",\"Area\",\"Area\",\"Area\",\"Area\",\"Area\",\"Area\",\"Area\",\"Area\",\"Area\",\"Area\",\"Area\",\"Area\",\"Area\",\"Area\",\"Area\",\"Area\",\"Area\",\"Area\",\"Area\",\"Area\",\"Area\",\"Area\",\"Area\",\"Area\",\"Area\",\"Area\",\"Area\",\"Area\",\"Area\",\"Area\",\"Area\",\"Area\",\"Area\",\"Area\",\"Area\",\"Area\",\"Area\",\"Area\",\"Area\",\"Area\",\"Area\",\"Area\",\"Area\",\"Area\",\"Area\",\"Area\",\"Area\",\"Area\",\"Area\",\"Area\",\"Area\",\"Area\",\"Area\",\"Area\",\"Area\",\"Area\",\"Area\",\"Area\",\"Area\",\"Area\",\"Area\",\"Area\",\"Area\",\"Area\",\"Area\",\"Area\",\"Area\",\"Area\",\"Area\",\"Area\",\"Area\",\"Area\",\"Area\",\"Area\",\"Area\",\"Area\",\"Area\",\"Area\",\"Area\",\"Area\",\"Area\",\"Area\",\"Area\",\"Area\",\"Area\",\"Area\",\"Area\",\"Area\",\"Area\",\"Area\",\"Area\",\"Area\",\"Area\",\"Area\",\"Area\",\"Area\",\"Area\",\"Area\",\"Area\",\"Area\",\"Area\",\"Area\",\"Area\",\"Area\",\"Area\",\"Area\",\"Area\",\"Area\",\"Area\",\"Area\",\"Area\",\"Area\",\"Area\",\"Area\",\"Area\",\"Area\",\"Area\",\"Area\",\"Area\",\"Area\",\"Area\",\"Area\",\"Bedrooms\",\"Bedrooms\",\"Bedrooms\",\"Bedrooms\",\"Bedrooms\",\"Bedrooms\",\"Bedrooms\",\"Bedrooms\",\"Bedrooms\",\"Bedrooms\",\"Bedrooms\",\"Bedrooms\",\"Bedrooms\",\"Bedrooms\",\"Bedrooms\",\"Bedrooms\",\"Bedrooms\",\"Bedrooms\",\"Bedrooms\",\"Bedrooms\",\"Bedrooms\",\"Bedrooms\",\"Bedrooms\",\"Bedrooms\",\"Bedrooms\",\"Bedrooms\",\"Bedrooms\",\"Bedrooms\",\"Bedrooms\",\"Bedrooms\",\"Bedrooms\",\"Bedrooms\",\"Bedrooms\",\"Bedrooms\",\"Bedrooms\",\"Bedrooms\",\"Bedrooms\",\"Bedrooms\",\"Bedrooms\",\"Bedrooms\",\"Bedrooms\",\"Bedrooms\",\"Bedrooms\",\"Bedrooms\",\"Bedrooms\",\"Bedrooms\",\"Bedrooms\",\"Bedrooms\",\"Bedrooms\",\"Bedrooms\",\"Bedrooms\",\"Bedrooms\",\"Bedrooms\",\"Bedrooms\",\"Bedrooms\",\"Bedrooms\",\"Bedrooms\",\"Bedrooms\",\"Bedrooms\",\"Bedrooms\",\"Bedrooms\",\"Bedrooms\",\"Bedrooms\",\"Bedrooms\",\"Bedrooms\",\"Bedrooms\",\"Bedrooms\",\"Bedrooms\",\"Bedrooms\",\"Bedrooms\",\"Bedrooms\",\"Bedrooms\",\"Bedrooms\",\"Bedrooms\",\"Bedrooms\",\"Bedrooms\",\"Bedrooms\",\"Bedrooms\",\"Bedrooms\",\"Bedrooms\",\"Bedrooms\",\"Bedrooms\",\"Bedrooms\",\"Bedrooms\",\"Bedrooms\",\"Bedrooms\",\"Bedrooms\",\"Bedrooms\",\"Bedrooms\",\"Bedrooms\",\"Bedrooms\",\"Bedrooms\",\"Bedrooms\",\"Bedrooms\",\"Bedrooms\",\"Bedrooms\",\"Bedrooms\",\"Bedrooms\",\"Bedrooms\",\"Bedrooms\",\"Bedrooms\",\"Bedrooms\",\"Bedrooms\",\"Bedrooms\",\"Bedrooms\",\"Bedrooms\",\"Bedrooms\",\"Bedrooms\",\"Bedrooms\",\"Bedrooms\",\"Bedrooms\",\"Bedrooms\",\"Bedrooms\",\"Bedrooms\",\"Bedrooms\",\"Bedrooms\",\"Bedrooms\",\"Bedrooms\",\"Bedrooms\",\"Bedrooms\",\"Bedrooms\",\"Bedrooms\",\"Bedrooms\",\"Bedrooms\",\"Bedrooms\",\"Bedrooms\",\"Bedrooms\",\"Bedrooms\",\"Bedrooms\",\"Bedrooms\",\"Bedrooms\",\"Bedrooms\",\"Bedrooms\",\"Bedrooms\",\"Bedrooms\",\"Bedrooms\",\"Bedrooms\",\"Bedrooms\",\"Bedrooms\",\"Bedrooms\",\"Bedrooms\",\"Bedrooms\",\"Bedrooms\",\"Bedrooms\",\"Bedrooms\",\"Bedrooms\",\"Bedrooms\",\"Bedrooms\",\"Bedrooms\",\"Bedrooms\",\"Bedrooms\",\"Bedrooms\",\"Bedrooms\",\"Bedrooms\",\"Bedrooms\",\"Bedrooms\",\"Bedrooms\",\"Bedrooms\",\"Bedrooms\",\"Bedrooms\",\"Bedrooms\",\"Bedrooms\",\"Bedrooms\",\"Bedrooms\",\"Bedrooms\",\"Bedrooms\",\"Bedrooms\",\"Bedrooms\",\"Bedrooms\",\"Bedrooms\",\"Bedrooms\",\"Bedrooms\",\"Bedrooms\",\"Bedrooms\",\"Bedrooms\",\"Bedrooms\",\"Bedrooms\",\"Bedrooms\",\"Bedrooms\",\"Bedrooms\",\"Bedrooms\",\"Bedrooms\",\"Bedrooms\",\"Bedrooms\",\"Bedrooms\",\"Bedrooms\",\"Bedrooms\",\"Bedrooms\",\"Bedrooms\",\"Bedrooms\",\"Bedrooms\",\"Bedrooms\",\"Bedrooms\",\"Bedrooms\",\"Bedrooms\",\"Bedrooms\",\"Bedrooms\",\"Bedrooms\",\"Bedrooms\",\"Bedrooms\",\"Bedrooms\",\"Bedrooms\",\"Bedrooms\",\"Bedrooms\",\"Bedrooms\",\"Bedrooms\",\"Bedrooms\",\"Bedrooms\",\"Bedrooms\",\"Bedrooms\",\"Bedrooms\",\"Bedrooms\",\"Bedrooms\",\"Bedrooms\",\"Bedrooms\",\"Bedrooms\",\"Bedrooms\",\"Bedrooms\",\"Bedrooms\",\"Bedrooms\",\"Bedrooms\",\"Bedrooms\",\"Bedrooms\",\"Bedrooms\",\"Bedrooms\",\"Bedrooms\",\"Bedrooms\",\"Bedrooms\",\"Bedrooms\",\"Bedrooms\",\"Bedrooms\",\"Bedrooms\",\"Bedrooms\",\"Bedrooms\",\"Bedrooms\",\"Bedrooms\",\"Bedrooms\",\"Bedrooms\",\"Bedrooms\",\"Bedrooms\",\"Bedrooms\",\"Bedrooms\",\"Bedrooms\",\"Bedrooms\",\"Bedrooms\",\"Bedrooms\",\"Bedrooms\",\"Bedrooms\",\"Bedrooms\",\"Bedrooms\",\"Bedrooms\",\"Bedrooms\",\"Bedrooms\",\"Bedrooms\",\"Bedrooms\",\"Bedrooms\",\"Bedrooms\",\"Bedrooms\",\"Bedrooms\",\"Bedrooms\",\"Bedrooms\",\"Bedrooms\",\"Bedrooms\",\"Bedrooms\",\"Bedrooms\",\"Bedrooms\",\"Bedrooms\",\"Bedrooms\",\"Bedrooms\",\"Bedrooms\",\"Bedrooms\",\"Bedrooms\",\"Bedrooms\",\"Bedrooms\",\"Bedrooms\",\"Bedrooms\",\"Bedrooms\",\"Bedrooms\",\"Bedrooms\",\"Bedrooms\",\"Bedrooms\",\"Bedrooms\",\"Bedrooms\",\"Bedrooms\",\"Bedrooms\",\"Bedrooms\",\"Bedrooms\",\"Bedrooms\",\"Bedrooms\",\"Bedrooms\",\"Bedrooms\",\"Bedrooms\",\"Bedrooms\",\"Bedrooms\",\"Bedrooms\",\"Bedrooms\",\"Bedrooms\",\"Bedrooms\",\"Bedrooms\",\"Bedrooms\",\"Bedrooms\",\"Bedrooms\",\"Bedrooms\",\"Bedrooms\",\"Bedrooms\",\"Bedrooms\",\"Bedrooms\",\"Bedrooms\",\"Bedrooms\",\"Bedrooms\",\"Bedrooms\",\"Bedrooms\",\"Bedrooms\",\"Bedrooms\",\"Bedrooms\",\"Bedrooms\",\"Bedrooms\",\"Bedrooms\",\"Bedrooms\",\"Bedrooms\",\"Bedrooms\",\"Bedrooms\",\"Bedrooms\",\"Bedrooms\",\"Bedrooms\",\"Bedrooms\",\"Bedrooms\",\"Bedrooms\",\"Bedrooms\",\"Bedrooms\",\"Bedrooms\",\"Bedrooms\",\"Bedrooms\",\"Bedrooms\",\"Bedrooms\",\"Bedrooms\",\"Bedrooms\",\"Bedrooms\",\"Bedrooms\",\"Bedrooms\",\"Bedrooms\",\"Bedrooms\",\"Bedrooms\",\"Bedrooms\",\"Bedrooms\",\"Bedrooms\",\"Bedrooms\",\"Bedrooms\",\"Bedrooms\",\"Bedrooms\",\"Bedrooms\",\"Bedrooms\",\"Bedrooms\",\"Bedrooms\",\"Bedrooms\",\"Bedrooms\",\"Bedrooms\",\"Bedrooms\",\"Bedrooms\",\"Bedrooms\",\"Bedrooms\",\"Bedrooms\",\"Bedrooms\",\"Bedrooms\",\"Bedrooms\",\"Bedrooms\",\"Bedrooms\",\"Bedrooms\",\"Bedrooms\",\"Bedrooms\",\"Bedrooms\",\"Bedrooms\",\"Bedrooms\",\"Bedrooms\",\"Bedrooms\",\"Bedrooms\",\"Bedrooms\",\"Bedrooms\",\"Bedrooms\",\"Bedrooms\",\"Bedrooms\",\"Bedrooms\",\"Bedrooms\",\"Bedrooms\",\"Bedrooms\",\"Bedrooms\",\"Bedrooms\",\"Bedrooms\",\"Bedrooms\",\"Bedrooms\",\"Bedrooms\",\"Bedrooms\",\"Bedrooms\",\"Bedrooms\",\"Bedrooms\",\"Bedrooms\",\"Bedrooms\",\"Bedrooms\",\"Bedrooms\",\"Bedrooms\",\"Bedrooms\",\"Bedrooms\",\"Bedrooms\",\"Bedrooms\",\"Bedrooms\",\"Bedrooms\",\"Bedrooms\",\"Bedrooms\",\"Bedrooms\",\"Bedrooms\",\"Bedrooms\",\"Bedrooms\",\"Bedrooms\",\"Bedrooms\",\"Bedrooms\",\"Bedrooms\",\"Bedrooms\",\"Bedrooms\",\"Bedrooms\",\"Bedrooms\",\"Bedrooms\",\"Bedrooms\",\"Bedrooms\",\"Bedrooms\",\"Bedrooms\",\"Bedrooms\",\"Bedrooms\",\"Bedrooms\",\"Bedrooms\",\"Bedrooms\",\"Bedrooms\",\"Bedrooms\",\"Bedrooms\",\"Bedrooms\",\"Bedrooms\",\"Bedrooms\",\"Bedrooms\",\"Bedrooms\",\"Bedrooms\",\"Bedrooms\",\"Bedrooms\",\"Bedrooms\",\"Bedrooms\",\"Bedrooms\",\"Bedrooms\",\"Bedrooms\",\"Bedrooms\",\"Bedrooms\",\"Bedrooms\",\"Bedrooms\",\"Bedrooms\",\"Bedrooms\",\"Bedrooms\",\"Bedrooms\",\"Bedrooms\",\"Bedrooms\",\"Bedrooms\",\"Bedrooms\",\"Bedrooms\",\"Bedrooms\",\"Bedrooms\",\"Bedrooms\",\"Bedrooms\",\"Bedrooms\",\"Bedrooms\",\"Bedrooms\",\"Bedrooms\",\"Bedrooms\",\"Bedrooms\",\"Bedrooms\",\"Bedrooms\",\"Bedrooms\",\"Bedrooms\",\"Bedrooms\",\"Bedrooms\",\"Bedrooms\",\"Bedrooms\",\"Bedrooms\",\"Bedrooms\",\"Bedrooms\",\"Bedrooms\",\"Bedrooms\",\"Bedrooms\",\"Bedrooms\",\"Bedrooms\",\"Bedrooms\",\"Bedrooms\",\"Bedrooms\",\"Bedrooms\",\"Bedrooms\",\"Bedrooms\",\"Bedrooms\",\"Bedrooms\",\"Bedrooms\",\"Bedrooms\",\"Bedrooms\",\"Bedrooms\",\"Bedrooms\",\"Bedrooms\",\"Bedrooms\",\"Bedrooms\",\"Bedrooms\",\"Bedrooms\",\"Bedrooms\",\"Bedrooms\",\"Bedrooms\",\"Bedrooms\",\"Bedrooms\",\"Bedrooms\",\"Bedrooms\",\"Bedrooms\",\"Bedrooms\",\"Bedrooms\",\"Bedrooms\",\"Bedrooms\",\"Bedrooms\",\"Bedrooms\",\"Bedrooms\",\"Bedrooms\",\"Bedrooms\",\"Bedrooms\",\"Bedrooms\",\"Bedrooms\",\"Bedrooms\",\"Bedrooms\",\"Bathrooms\",\"Bathrooms\",\"Bathrooms\",\"Bathrooms\",\"Bathrooms\",\"Bathrooms\",\"Bathrooms\",\"Bathrooms\",\"Bathrooms\",\"Bathrooms\",\"Bathrooms\",\"Bathrooms\",\"Bathrooms\",\"Bathrooms\",\"Bathrooms\",\"Bathrooms\",\"Bathrooms\",\"Bathrooms\",\"Bathrooms\",\"Bathrooms\",\"Bathrooms\",\"Bathrooms\",\"Bathrooms\",\"Bathrooms\",\"Bathrooms\",\"Bathrooms\",\"Bathrooms\",\"Bathrooms\",\"Bathrooms\",\"Bathrooms\",\"Bathrooms\",\"Bathrooms\",\"Bathrooms\",\"Bathrooms\",\"Bathrooms\",\"Bathrooms\",\"Bathrooms\",\"Bathrooms\",\"Bathrooms\",\"Bathrooms\",\"Bathrooms\",\"Bathrooms\",\"Bathrooms\",\"Bathrooms\",\"Bathrooms\",\"Bathrooms\",\"Bathrooms\",\"Bathrooms\",\"Bathrooms\",\"Bathrooms\",\"Bathrooms\",\"Bathrooms\",\"Bathrooms\",\"Bathrooms\",\"Bathrooms\",\"Bathrooms\",\"Bathrooms\",\"Bathrooms\",\"Bathrooms\",\"Bathrooms\",\"Bathrooms\",\"Bathrooms\",\"Bathrooms\",\"Bathrooms\",\"Bathrooms\",\"Bathrooms\",\"Bathrooms\",\"Bathrooms\",\"Bathrooms\",\"Bathrooms\",\"Bathrooms\",\"Bathrooms\",\"Bathrooms\",\"Bathrooms\",\"Bathrooms\",\"Bathrooms\",\"Bathrooms\",\"Bathrooms\",\"Bathrooms\",\"Bathrooms\",\"Bathrooms\",\"Bathrooms\",\"Bathrooms\",\"Bathrooms\",\"Bathrooms\",\"Bathrooms\",\"Bathrooms\",\"Bathrooms\",\"Bathrooms\",\"Bathrooms\",\"Bathrooms\",\"Bathrooms\",\"Bathrooms\",\"Bathrooms\",\"Bathrooms\",\"Bathrooms\",\"Bathrooms\",\"Bathrooms\",\"Bathrooms\",\"Bathrooms\",\"Bathrooms\",\"Bathrooms\",\"Bathrooms\",\"Bathrooms\",\"Bathrooms\",\"Bathrooms\",\"Bathrooms\",\"Bathrooms\",\"Bathrooms\",\"Bathrooms\",\"Bathrooms\",\"Bathrooms\",\"Bathrooms\",\"Bathrooms\",\"Bathrooms\",\"Bathrooms\",\"Bathrooms\",\"Bathrooms\",\"Bathrooms\",\"Bathrooms\",\"Bathrooms\",\"Bathrooms\",\"Bathrooms\",\"Bathrooms\",\"Bathrooms\",\"Bathrooms\",\"Bathrooms\",\"Bathrooms\",\"Bathrooms\",\"Bathrooms\",\"Bathrooms\",\"Bathrooms\",\"Bathrooms\",\"Bathrooms\",\"Bathrooms\",\"Bathrooms\",\"Bathrooms\",\"Bathrooms\",\"Bathrooms\",\"Bathrooms\",\"Bathrooms\",\"Bathrooms\",\"Bathrooms\",\"Bathrooms\",\"Bathrooms\",\"Bathrooms\",\"Bathrooms\",\"Bathrooms\",\"Bathrooms\",\"Bathrooms\",\"Bathrooms\",\"Bathrooms\",\"Bathrooms\",\"Bathrooms\",\"Bathrooms\",\"Bathrooms\",\"Bathrooms\",\"Bathrooms\",\"Bathrooms\",\"Bathrooms\",\"Bathrooms\",\"Bathrooms\",\"Bathrooms\",\"Bathrooms\",\"Bathrooms\",\"Bathrooms\",\"Bathrooms\",\"Bathrooms\",\"Bathrooms\",\"Bathrooms\",\"Bathrooms\",\"Bathrooms\",\"Bathrooms\",\"Bathrooms\",\"Bathrooms\",\"Bathrooms\",\"Bathrooms\",\"Bathrooms\",\"Bathrooms\",\"Bathrooms\",\"Bathrooms\",\"Bathrooms\",\"Bathrooms\",\"Bathrooms\",\"Bathrooms\",\"Bathrooms\",\"Bathrooms\",\"Bathrooms\",\"Bathrooms\",\"Bathrooms\",\"Bathrooms\",\"Bathrooms\",\"Bathrooms\",\"Bathrooms\",\"Bathrooms\",\"Bathrooms\",\"Bathrooms\",\"Bathrooms\",\"Bathrooms\",\"Bathrooms\",\"Bathrooms\",\"Bathrooms\",\"Bathrooms\",\"Bathrooms\",\"Bathrooms\",\"Bathrooms\",\"Bathrooms\",\"Bathrooms\",\"Bathrooms\",\"Bathrooms\",\"Bathrooms\",\"Bathrooms\",\"Bathrooms\",\"Bathrooms\",\"Bathrooms\",\"Bathrooms\",\"Bathrooms\",\"Bathrooms\",\"Bathrooms\",\"Bathrooms\",\"Bathrooms\",\"Bathrooms\",\"Bathrooms\",\"Bathrooms\",\"Bathrooms\",\"Bathrooms\",\"Bathrooms\",\"Bathrooms\",\"Bathrooms\",\"Bathrooms\",\"Bathrooms\",\"Bathrooms\",\"Bathrooms\",\"Bathrooms\",\"Bathrooms\",\"Bathrooms\",\"Bathrooms\",\"Bathrooms\",\"Bathrooms\",\"Bathrooms\",\"Bathrooms\",\"Bathrooms\",\"Bathrooms\",\"Bathrooms\",\"Bathrooms\",\"Bathrooms\",\"Bathrooms\",\"Bathrooms\",\"Bathrooms\",\"Bathrooms\",\"Bathrooms\",\"Bathrooms\",\"Bathrooms\",\"Bathrooms\",\"Bathrooms\",\"Bathrooms\",\"Bathrooms\",\"Bathrooms\",\"Bathrooms\",\"Bathrooms\",\"Bathrooms\",\"Bathrooms\",\"Bathrooms\",\"Bathrooms\",\"Bathrooms\",\"Bathrooms\",\"Bathrooms\",\"Bathrooms\",\"Bathrooms\",\"Bathrooms\",\"Bathrooms\",\"Bathrooms\",\"Bathrooms\",\"Bathrooms\",\"Bathrooms\",\"Bathrooms\",\"Bathrooms\",\"Bathrooms\",\"Bathrooms\",\"Bathrooms\",\"Bathrooms\",\"Bathrooms\",\"Bathrooms\",\"Bathrooms\",\"Bathrooms\",\"Bathrooms\",\"Bathrooms\",\"Bathrooms\",\"Bathrooms\",\"Bathrooms\",\"Bathrooms\",\"Bathrooms\",\"Bathrooms\",\"Bathrooms\",\"Bathrooms\",\"Bathrooms\",\"Bathrooms\",\"Bathrooms\",\"Bathrooms\",\"Bathrooms\",\"Bathrooms\",\"Bathrooms\",\"Bathrooms\",\"Bathrooms\",\"Bathrooms\",\"Bathrooms\",\"Bathrooms\",\"Bathrooms\",\"Bathrooms\",\"Bathrooms\",\"Bathrooms\",\"Bathrooms\",\"Bathrooms\",\"Bathrooms\",\"Bathrooms\",\"Bathrooms\",\"Bathrooms\",\"Bathrooms\",\"Bathrooms\",\"Bathrooms\",\"Bathrooms\",\"Bathrooms\",\"Bathrooms\",\"Bathrooms\",\"Bathrooms\",\"Bathrooms\",\"Bathrooms\",\"Bathrooms\",\"Bathrooms\",\"Bathrooms\",\"Bathrooms\",\"Bathrooms\",\"Bathrooms\",\"Bathrooms\",\"Bathrooms\",\"Bathrooms\",\"Bathrooms\",\"Bathrooms\",\"Bathrooms\",\"Bathrooms\",\"Bathrooms\",\"Bathrooms\",\"Bathrooms\",\"Bathrooms\",\"Bathrooms\",\"Bathrooms\",\"Bathrooms\",\"Bathrooms\",\"Bathrooms\",\"Bathrooms\",\"Bathrooms\",\"Bathrooms\",\"Bathrooms\",\"Bathrooms\",\"Bathrooms\",\"Bathrooms\",\"Bathrooms\",\"Bathrooms\",\"Bathrooms\",\"Bathrooms\",\"Bathrooms\",\"Bathrooms\",\"Bathrooms\",\"Bathrooms\",\"Bathrooms\",\"Bathrooms\",\"Bathrooms\",\"Bathrooms\",\"Bathrooms\",\"Bathrooms\",\"Bathrooms\",\"Bathrooms\",\"Bathrooms\",\"Bathrooms\",\"Bathrooms\",\"Bathrooms\",\"Bathrooms\",\"Bathrooms\",\"Bathrooms\",\"Bathrooms\",\"Bathrooms\",\"Bathrooms\",\"Bathrooms\",\"Bathrooms\",\"Bathrooms\",\"Bathrooms\",\"Bathrooms\",\"Bathrooms\",\"Bathrooms\",\"Bathrooms\",\"Bathrooms\",\"Bathrooms\",\"Bathrooms\",\"Bathrooms\",\"Bathrooms\",\"Bathrooms\",\"Bathrooms\",\"Bathrooms\",\"Bathrooms\",\"Bathrooms\",\"Bathrooms\",\"Bathrooms\",\"Bathrooms\",\"Bathrooms\",\"Bathrooms\",\"Bathrooms\",\"Bathrooms\",\"Bathrooms\",\"Bathrooms\",\"Bathrooms\",\"Bathrooms\",\"Bathrooms\",\"Bathrooms\",\"Bathrooms\",\"Bathrooms\",\"Bathrooms\",\"Bathrooms\",\"Bathrooms\",\"Bathrooms\",\"Bathrooms\",\"Bathrooms\",\"Bathrooms\",\"Bathrooms\",\"Bathrooms\",\"Bathrooms\",\"Bathrooms\",\"Bathrooms\",\"Bathrooms\",\"Bathrooms\",\"Bathrooms\",\"Bathrooms\",\"Bathrooms\",\"Bathrooms\",\"Bathrooms\",\"Bathrooms\",\"Bathrooms\",\"Bathrooms\",\"Bathrooms\",\"Bathrooms\",\"Bathrooms\",\"Bathrooms\",\"Bathrooms\",\"Bathrooms\",\"Bathrooms\",\"Bathrooms\",\"Bathrooms\",\"Bathrooms\",\"Bathrooms\",\"Bathrooms\",\"Bathrooms\",\"Bathrooms\",\"Bathrooms\",\"Bathrooms\",\"Bathrooms\",\"Bathrooms\",\"Bathrooms\",\"Bathrooms\",\"Bathrooms\",\"Bathrooms\",\"Bathrooms\",\"Bathrooms\",\"Bathrooms\",\"Bathrooms\",\"Bathrooms\",\"Bathrooms\",\"Bathrooms\",\"Bathrooms\",\"Bathrooms\",\"Bathrooms\",\"Bathrooms\",\"Bathrooms\",\"Bathrooms\",\"Bathrooms\",\"Bathrooms\",\"Bathrooms\",\"Bathrooms\",\"Bathrooms\",\"Bathrooms\",\"Bathrooms\",\"Bathrooms\",\"Bathrooms\",\"Bathrooms\",\"Bathrooms\",\"Bathrooms\",\"Bathrooms\",\"Bathrooms\",\"Bathrooms\",\"Bathrooms\",\"Bathrooms\",\"Bathrooms\",\"Bathrooms\",\"Bathrooms\",\"Bathrooms\",\"Bathrooms\",\"Bathrooms\",\"Bathrooms\",\"Bathrooms\",\"Bathrooms\",\"Bathrooms\",\"Bathrooms\",\"Bathrooms\",\"Bathrooms\",\"Bathrooms\",\"Bathrooms\",\"Bathrooms\",\"Bathrooms\",\"Bathrooms\",\"Bathrooms\",\"Bathrooms\",\"Bathrooms\",\"Bathrooms\",\"Bathrooms\",\"Bathrooms\",\"Bathrooms\",\"Bathrooms\",\"Bathrooms\",\"Bathrooms\",\"Bathrooms\",\"Bathrooms\",\"Bathrooms\",\"Bathrooms\",\"Bathrooms\",\"Bathrooms\",\"Bathrooms\",\"Bathrooms\"],\"x0\":\" \",\"xaxis\":\"x\",\"y\":[8750000,8680000,8645000,8645000,8575000,8540000,8463000,8400000,8400000,8400000,8400000,8400000,8295000,8190000,8120000,8080940,8043000,7980000,7962500,7910000,7875000,7840000,7700000,7700000,7560000,7560000,7525000,7490000,7455000,7420000,7420000,7420000,7350000,7350000,7350000,7350000,7343000,7245000,7210000,7210000,7140000,7070000,7070000,7035000,7000000,6930000,6930000,6895000,6860000,6790000,6790000,6755000,6720000,6685000,6650000,6650000,6650000,6650000,6650000,6650000,6629000,6615000,6615000,6580000,6510000,6510000,6510000,6475000,6475000,6440000,6440000,6419000,6405000,6300000,6300000,6300000,6300000,6300000,6293000,6265000,6230000,6230000,6195000,6195000,6195000,6160000,6160000,6125000,6107500,6090000,6090000,6090000,6083000,6083000,6020000,6020000,6020000,5950000,5950000,5950000,5950000,5950000,5950000,5950000,5950000,5943000,5880000,5880000,5873000,5873000,5866000,5810000,5810000,5810000,5803000,5775000,5740000,5740000,5740000,5740000,5740000,5652500,5600000,5600000,5600000,5600000,5600000,5600000,5600000,5600000,5600000,5565000,5565000,5530000,5530000,5530000,5523000,5495000,5495000,5460000,5460000,5460000,5460000,5425000,5390000,5383000,5320000,5285000,5250000,5250000,5250000,5250000,5250000,5250000,5250000,5250000,5250000,5243000,5229000,5215000,5215000,5215000,5145000,5145000,5110000,5110000,5110000,5110000,5075000,5040000,5040000,5040000,5040000,5033000,5005000,4970000,4970000,4956000,4935000,4907000,4900000,4900000,4900000,4900000,4900000,4900000,4900000,4900000,4900000,4900000,4900000,4900000,4893000,4893000,4865000,4830000,4830000,4830000,4830000,4795000,4795000,4767000,4760000,4760000,4760000,4753000,4690000,4690000,4690000,4690000,4690000,4690000,4655000,4620000,4620000,4620000,4620000,4620000,4613000,4585000,4585000,4550000,4550000,4550000,4550000,4550000,4550000,4550000,4543000,4543000,4515000,4515000,4515000,4515000,4480000,4480000,4480000,4480000,4480000,4473000,4473000,4473000,4445000,4410000,4410000,4403000,4403000,4403000,4382000,4375000,4340000,4340000,4340000,4340000,4340000,4319000,4305000,4305000,4277000,4270000,4270000,4270000,4270000,4270000,4270000,4235000,4235000,4200000,4200000,4200000,4200000,4200000,4200000,4200000,4200000,4200000,4200000,4200000,4200000,4200000,4200000,4200000,4200000,4200000,4193000,4193000,4165000,4165000,4165000,4130000,4130000,4123000,4098500,4095000,4095000,4095000,4060000,4060000,4060000,4060000,4060000,4025000,4025000,4025000,4007500,4007500,3990000,3990000,3990000,3990000,3990000,3920000,3920000,3920000,3920000,3920000,3920000,3920000,3885000,3885000,3850000,3850000,3850000,3850000,3850000,3850000,3850000,3836000,3815000,3780000,3780000,3780000,3780000,3780000,3780000,3773000,3773000,3773000,3745000,3710000,3710000,3710000,3710000,3710000,3703000,3703000,3675000,3675000,3675000,3675000,3640000,3640000,3640000,3640000,3640000,3640000,3640000,3640000,3640000,3633000,3605000,3605000,3570000,3570000,3570000,3570000,3535000,3500000,3500000,3500000,3500000,3500000,3500000,3500000,3500000,3500000,3500000,3500000,3500000,3500000,3500000,3500000,3500000,3500000,3493000,3465000,3465000,3465000,3430000,3430000,3430000,3430000,3430000,3430000,3423000,3395000,3395000,3395000,3360000,3360000,3360000,3360000,3360000,3360000,3360000,3360000,3353000,3332000,3325000,3325000,3290000,3290000,3290000,3290000,3290000,3290000,3290000,3290000,3255000,3255000,3234000,3220000,3220000,3220000,3220000,3150000,3150000,3150000,3150000,3150000,3150000,3150000,3150000,3150000,3143000,3129000,3118850,3115000,3115000,3115000,3087000,3080000,3080000,3080000,3080000,3045000,3010000,3010000,3010000,3010000,3010000,3010000,3010000,3003000,2975000,2961000,2940000,2940000,2940000,2940000,2940000,2940000,2940000,2940000,2870000,2870000,2870000,2870000,2852500,2835000,2835000,2835000,2800000,2800000,2730000,2730000,2695000,2660000,2660000,2660000,2660000,2660000,2660000,2660000,2653000,2653000,2604000,2590000,2590000,2590000,2520000,2520000,2520000,2485000,2485000,2450000,2450000,2450000,2450000,2450000,2450000,2408000,2380000,2380000,2380000,2345000,2310000,2275000,2275000,2275000,2240000,2233000,2135000,2100000,2100000,2100000,1960000,1890000,1890000,1855000,1820000,1767150,1750000,1750000,1750000,4320,7155,8050,4560,8800,6540,6000,8875,7950,5500,7475,7000,4880,5960,6840,7000,7482,9000,6000,6000,6550,6360,6480,6000,6000,6000,6000,6600,4300,7440,7440,6325,6000,5150,6000,6000,11440,9000,7680,6000,6000,8880,6240,6360,11175,8880,13200,7700,6000,12090,4000,6000,5020,6600,4040,4260,6420,6500,5700,6000,6000,4000,10500,6000,3760,8250,6670,3960,7410,8580,5000,6750,4800,7200,6000,4100,9000,6400,6600,6000,6600,5500,5500,6350,5500,4500,5450,6420,3240,6615,6600,8372,4300,9620,6800,8000,6900,3700,6420,7020,6540,7231,6254,7320,6525,15600,7160,6500,5500,11460,4800,5828,5200,4800,7000,6000,5400,4640,5000,6360,5800,6660,10500,4800,4700,5000,10500,5500,6360,6600,5136,4400,5400,3300,3650,6100,6900,2817,7980,3150,6210,6100,6600,6825,6710,6450,7800,4600,4260,6540,5500,10269,8400,5300,3800,9800,8520,6050,7085,3180,4500,7200,3410,7980,3000,3000,11410,6100,5720,3540,7600,10700,6600,4800,8150,4410,7686,2800,5948,4200,4520,4095,4120,5400,4770,6300,5800,3000,2970,6720,4646,12900,3420,4995,4350,4160,6040,6862,4815,7000,8100,3420,9166,6321,10240,6440,5170,6000,3630,9667,5400,4320,3745,4160,3880,5680,2870,5010,4510,4000,3840,3760,3640,2550,5320,5360,3520,8400,4100,4990,3510,3450,9860,3520,4510,5885,4000,8250,4040,6360,3162,3510,3750,3968,4900,2880,4880,4920,4950,3900,4500,1905,4075,3500,6450,4032,4400,10360,3400,6360,6360,4500,2175,4360,7770,6650,2787,5500,5040,5850,2610,2953,2747,4410,4000,2325,4600,3640,5800,7000,4079,3520,2145,4500,8250,3450,4840,4080,4046,4632,5985,6060,3600,3680,4040,5600,5900,4992,4340,3000,4320,3630,3460,5400,4500,3460,4100,6480,4500,3960,4050,7260,5500,3000,3290,3816,8080,2145,3780,3180,5300,3180,7152,4080,3850,2015,2176,3350,3150,4820,3420,3600,5830,2856,8400,8250,2520,6930,3480,3600,4040,6020,4050,3584,3120,5450,3630,3630,5640,3600,4280,3570,3180,3000,3520,5960,4130,2850,2275,3520,4500,4000,3150,4500,4500,3640,3850,4240,3650,4600,2135,3036,3990,7424,3480,3600,3640,5900,3120,7350,3512,9500,5880,12944,4900,3060,5320,2145,4000,3185,3850,2145,2610,1950,4040,4785,3450,3640,3500,4960,4120,4750,3720,3750,3100,3185,2700,2145,4040,4775,2500,3180,6060,3480,3792,4040,2145,5880,4500,3930,3640,4370,2684,4320,3120,3450,3986,3500,4095,1650,3450,6750,9000,3069,4500,5495,2398,3000,3850,3500,8100,4960,2160,3090,4500,3800,3090,3240,2835,4600,5076,3750,3630,8050,4352,3000,5850,4960,3600,3660,3480,2700,3150,6615,3040,3630,6000,5400,5200,3300,4350,2640,2650,3960,6800,4000,4000,3934,2000,3630,2800,2430,3480,4000,3185,4000,2910,3600,4400,3600,2880,3180,3000,4400,3000,3210,3240,3000,3500,4840,7700,3635,2475,2787,3264,3640,3180,1836,3970,3970,1950,5300,3000,2400,3000,3360,3420,1700,3649,2990,3000,2400,3620,2910,3850,3,3,3,3,3,4,3,3,5,4,3,3,4,3,5,3,3,4,3,4,3,3,3,4,4,3,3,3,3,3,3,3,4,3,3,3,4,4,4,3,3,2,4,4,3,3,2,3,3,4,3,4,3,2,3,4,3,3,3,3,3,3,3,3,3,3,3,3,3,5,3,2,3,3,4,3,3,3,3,4,3,3,3,3,3,3,4,3,4,4,3,3,6,3,2,3,3,4,3,3,3,3,4,4,3,3,3,3,3,3,3,4,3,3,3,3,4,4,3,3,3,4,4,5,4,3,2,3,3,4,3,4,5,3,3,3,3,4,3,3,4,3,4,3,3,3,3,2,4,4,3,3,3,4,3,4,3,3,3,3,4,3,3,3,3,3,2,3,2,2,4,3,3,2,3,4,3,3,3,3,3,3,2,4,3,3,2,3,3,3,3,3,4,4,2,3,3,3,2,3,4,4,2,3,2,2,3,2,3,4,2,3,3,3,3,3,2,3,4,3,3,3,3,3,3,3,3,4,2,4,3,3,3,2,4,2,3,3,3,2,3,3,2,3,2,3,3,3,4,3,3,5,3,4,4,2,2,2,3,2,2,2,3,4,2,3,3,3,3,2,4,3,4,2,4,3,3,3,3,3,3,3,3,3,3,3,3,3,3,4,3,2,3,3,2,2,4,3,3,4,3,3,3,3,3,4,4,3,3,3,2,3,4,3,2,2,3,4,2,4,5,2,3,2,2,3,2,3,2,3,2,2,2,3,2,3,5,4,2,3,2,3,2,2,3,2,2,2,2,2,2,3,3,2,2,3,3,3,3,3,2,2,3,4,2,2,3,3,3,4,3,3,3,3,3,6,2,2,3,2,2,3,2,3,3,3,2,3,2,2,3,3,3,3,2,3,3,2,4,4,2,2,2,3,3,2,3,3,2,4,2,4,3,4,4,2,3,3,2,2,4,3,2,3,3,1,2,2,2,3,3,2,3,2,3,3,3,3,3,2,2,2,3,2,2,2,3,3,2,2,3,3,4,2,4,2,3,2,3,4,3,2,3,3,2,2,2,4,4,3,3,2,3,3,2,3,2,2,2,3,3,3,2,3,2,3,2,2,2,2,3,3,2,3,3,3,2,2,2,2,2,2,3,4,2,2,2,2,1,3,3,3,2,3,4,2,5,3,2,2,2,3,2,3,3,1,2,1,2,2,2,2,1,2,2,2,1,2,3,1,2,2,2,1,2,1,2,2,2,2,2,2,1,2,2,2,1,2,2,2,1,1,2,2,2,2,1,2,2,1,2,1,2,1,2,2,2,1,2,1,2,2,2,1,2,1,2,2,2,1,2,1,1,1,3,1,1,2,2,2,2,1,1,2,1,2,1,2,2,2,1,2,1,1,2,1,1,2,1,1,1,2,1,1,1,1,1,2,2,2,1,1,2,1,1,1,1,1,1,1,2,2,1,1,1,2,2,2,2,1,1,1,2,1,2,1,1,1,3,2,2,1,2,1,2,1,1,2,1,2,2,1,2,1,2,2,1,1,2,1,2,1,1,1,2,2,1,1,1,2,1,1,1,1,1,1,1,1,1,2,3,1,2,1,1,1,1,1,1,1,1,1,1,1,1,1,1,2,2,1,1,1,1,1,1,1,2,1,1,1,1,1,1,1,2,1,1,1,1,2,1,1,1,2,1,1,1,1,1,1,1,1,1,2,2,1,1,1,1,1,1,1,1,1,1,1,1,1,1,1,1,1,1,1,1,2,1,1,1,1,1,1,1,1,1,1,1,1,1,1,1,1,1,1,1,3,1,2,1,2,1,2,2,1,1,1,1,1,1,1,1,1,1,1,1,1,1,1,2,1,1,2,2,1,1,1,2,2,1,1,1,1,1,2,1,1,2,1,1,1,1,1,2,1,2,2,2,1,1,1,1,1,1,2,1,1,1,1,1,1,1,2,1,1,1,1,1,1,1,1,1,1,1,1,1,1,1,1,1,2,1,2,2,1,1,1,1,1,2,1,1,1,1,1,1,2,1,1,1,1,1,1,1,1,1,1,1,1,1,1,1,1,1,1,1,1,1,1,2,1,1,1,1,1,1,1,1,1,1,1,1,1,1,1,1,1,1,1,1,1,1,1,1,1,1,1,1,1,1,1,1,2,1,1,1,1,1,1,1,1,1,1,1,1,1,1,1,1,1,1,1,1,1,1,1,1,1,1,1,1,1,1,1,1,1,1,1,1,1,1,1,1,1,1,1,1,1,1,1,1,1,1,1,1,3,1,1,1,1,1,1,1,1,1,2,1,1,1,1,1,1,1,1,1,1,1,1,1,2,1,1,1,1,1,1,1,1,1,1,1,1,1,1,1,1,1,1,1,1,1],\"y0\":\" \",\"yaxis\":\"y\",\"type\":\"box\"}],                        {\"template\":{\"data\":{\"histogram2dcontour\":[{\"type\":\"histogram2dcontour\",\"colorbar\":{\"outlinewidth\":0,\"ticks\":\"\"},\"colorscale\":[[0.0,\"#0d0887\"],[0.1111111111111111,\"#46039f\"],[0.2222222222222222,\"#7201a8\"],[0.3333333333333333,\"#9c179e\"],[0.4444444444444444,\"#bd3786\"],[0.5555555555555556,\"#d8576b\"],[0.6666666666666666,\"#ed7953\"],[0.7777777777777778,\"#fb9f3a\"],[0.8888888888888888,\"#fdca26\"],[1.0,\"#f0f921\"]]}],\"choropleth\":[{\"type\":\"choropleth\",\"colorbar\":{\"outlinewidth\":0,\"ticks\":\"\"}}],\"histogram2d\":[{\"type\":\"histogram2d\",\"colorbar\":{\"outlinewidth\":0,\"ticks\":\"\"},\"colorscale\":[[0.0,\"#0d0887\"],[0.1111111111111111,\"#46039f\"],[0.2222222222222222,\"#7201a8\"],[0.3333333333333333,\"#9c179e\"],[0.4444444444444444,\"#bd3786\"],[0.5555555555555556,\"#d8576b\"],[0.6666666666666666,\"#ed7953\"],[0.7777777777777778,\"#fb9f3a\"],[0.8888888888888888,\"#fdca26\"],[1.0,\"#f0f921\"]]}],\"heatmap\":[{\"type\":\"heatmap\",\"colorbar\":{\"outlinewidth\":0,\"ticks\":\"\"},\"colorscale\":[[0.0,\"#0d0887\"],[0.1111111111111111,\"#46039f\"],[0.2222222222222222,\"#7201a8\"],[0.3333333333333333,\"#9c179e\"],[0.4444444444444444,\"#bd3786\"],[0.5555555555555556,\"#d8576b\"],[0.6666666666666666,\"#ed7953\"],[0.7777777777777778,\"#fb9f3a\"],[0.8888888888888888,\"#fdca26\"],[1.0,\"#f0f921\"]]}],\"heatmapgl\":[{\"type\":\"heatmapgl\",\"colorbar\":{\"outlinewidth\":0,\"ticks\":\"\"},\"colorscale\":[[0.0,\"#0d0887\"],[0.1111111111111111,\"#46039f\"],[0.2222222222222222,\"#7201a8\"],[0.3333333333333333,\"#9c179e\"],[0.4444444444444444,\"#bd3786\"],[0.5555555555555556,\"#d8576b\"],[0.6666666666666666,\"#ed7953\"],[0.7777777777777778,\"#fb9f3a\"],[0.8888888888888888,\"#fdca26\"],[1.0,\"#f0f921\"]]}],\"contourcarpet\":[{\"type\":\"contourcarpet\",\"colorbar\":{\"outlinewidth\":0,\"ticks\":\"\"}}],\"contour\":[{\"type\":\"contour\",\"colorbar\":{\"outlinewidth\":0,\"ticks\":\"\"},\"colorscale\":[[0.0,\"#0d0887\"],[0.1111111111111111,\"#46039f\"],[0.2222222222222222,\"#7201a8\"],[0.3333333333333333,\"#9c179e\"],[0.4444444444444444,\"#bd3786\"],[0.5555555555555556,\"#d8576b\"],[0.6666666666666666,\"#ed7953\"],[0.7777777777777778,\"#fb9f3a\"],[0.8888888888888888,\"#fdca26\"],[1.0,\"#f0f921\"]]}],\"surface\":[{\"type\":\"surface\",\"colorbar\":{\"outlinewidth\":0,\"ticks\":\"\"},\"colorscale\":[[0.0,\"#0d0887\"],[0.1111111111111111,\"#46039f\"],[0.2222222222222222,\"#7201a8\"],[0.3333333333333333,\"#9c179e\"],[0.4444444444444444,\"#bd3786\"],[0.5555555555555556,\"#d8576b\"],[0.6666666666666666,\"#ed7953\"],[0.7777777777777778,\"#fb9f3a\"],[0.8888888888888888,\"#fdca26\"],[1.0,\"#f0f921\"]]}],\"mesh3d\":[{\"type\":\"mesh3d\",\"colorbar\":{\"outlinewidth\":0,\"ticks\":\"\"}}],\"scatter\":[{\"fillpattern\":{\"fillmode\":\"overlay\",\"size\":10,\"solidity\":0.2},\"type\":\"scatter\"}],\"parcoords\":[{\"type\":\"parcoords\",\"line\":{\"colorbar\":{\"outlinewidth\":0,\"ticks\":\"\"}}}],\"scatterpolargl\":[{\"type\":\"scatterpolargl\",\"marker\":{\"colorbar\":{\"outlinewidth\":0,\"ticks\":\"\"}}}],\"bar\":[{\"error_x\":{\"color\":\"#2a3f5f\"},\"error_y\":{\"color\":\"#2a3f5f\"},\"marker\":{\"line\":{\"color\":\"#E5ECF6\",\"width\":0.5},\"pattern\":{\"fillmode\":\"overlay\",\"size\":10,\"solidity\":0.2}},\"type\":\"bar\"}],\"scattergeo\":[{\"type\":\"scattergeo\",\"marker\":{\"colorbar\":{\"outlinewidth\":0,\"ticks\":\"\"}}}],\"scatterpolar\":[{\"type\":\"scatterpolar\",\"marker\":{\"colorbar\":{\"outlinewidth\":0,\"ticks\":\"\"}}}],\"histogram\":[{\"marker\":{\"pattern\":{\"fillmode\":\"overlay\",\"size\":10,\"solidity\":0.2}},\"type\":\"histogram\"}],\"scattergl\":[{\"type\":\"scattergl\",\"marker\":{\"colorbar\":{\"outlinewidth\":0,\"ticks\":\"\"}}}],\"scatter3d\":[{\"type\":\"scatter3d\",\"line\":{\"colorbar\":{\"outlinewidth\":0,\"ticks\":\"\"}},\"marker\":{\"colorbar\":{\"outlinewidth\":0,\"ticks\":\"\"}}}],\"scattermapbox\":[{\"type\":\"scattermapbox\",\"marker\":{\"colorbar\":{\"outlinewidth\":0,\"ticks\":\"\"}}}],\"scatterternary\":[{\"type\":\"scatterternary\",\"marker\":{\"colorbar\":{\"outlinewidth\":0,\"ticks\":\"\"}}}],\"scattercarpet\":[{\"type\":\"scattercarpet\",\"marker\":{\"colorbar\":{\"outlinewidth\":0,\"ticks\":\"\"}}}],\"carpet\":[{\"aaxis\":{\"endlinecolor\":\"#2a3f5f\",\"gridcolor\":\"white\",\"linecolor\":\"white\",\"minorgridcolor\":\"white\",\"startlinecolor\":\"#2a3f5f\"},\"baxis\":{\"endlinecolor\":\"#2a3f5f\",\"gridcolor\":\"white\",\"linecolor\":\"white\",\"minorgridcolor\":\"white\",\"startlinecolor\":\"#2a3f5f\"},\"type\":\"carpet\"}],\"table\":[{\"cells\":{\"fill\":{\"color\":\"#EBF0F8\"},\"line\":{\"color\":\"white\"}},\"header\":{\"fill\":{\"color\":\"#C8D4E3\"},\"line\":{\"color\":\"white\"}},\"type\":\"table\"}],\"barpolar\":[{\"marker\":{\"line\":{\"color\":\"#E5ECF6\",\"width\":0.5},\"pattern\":{\"fillmode\":\"overlay\",\"size\":10,\"solidity\":0.2}},\"type\":\"barpolar\"}],\"pie\":[{\"automargin\":true,\"type\":\"pie\"}]},\"layout\":{\"autotypenumbers\":\"strict\",\"colorway\":[\"#636efa\",\"#EF553B\",\"#00cc96\",\"#ab63fa\",\"#FFA15A\",\"#19d3f3\",\"#FF6692\",\"#B6E880\",\"#FF97FF\",\"#FECB52\"],\"font\":{\"color\":\"#2a3f5f\"},\"hovermode\":\"closest\",\"hoverlabel\":{\"align\":\"left\"},\"paper_bgcolor\":\"white\",\"plot_bgcolor\":\"#E5ECF6\",\"polar\":{\"bgcolor\":\"#E5ECF6\",\"angularaxis\":{\"gridcolor\":\"white\",\"linecolor\":\"white\",\"ticks\":\"\"},\"radialaxis\":{\"gridcolor\":\"white\",\"linecolor\":\"white\",\"ticks\":\"\"}},\"ternary\":{\"bgcolor\":\"#E5ECF6\",\"aaxis\":{\"gridcolor\":\"white\",\"linecolor\":\"white\",\"ticks\":\"\"},\"baxis\":{\"gridcolor\":\"white\",\"linecolor\":\"white\",\"ticks\":\"\"},\"caxis\":{\"gridcolor\":\"white\",\"linecolor\":\"white\",\"ticks\":\"\"}},\"coloraxis\":{\"colorbar\":{\"outlinewidth\":0,\"ticks\":\"\"}},\"colorscale\":{\"sequential\":[[0.0,\"#0d0887\"],[0.1111111111111111,\"#46039f\"],[0.2222222222222222,\"#7201a8\"],[0.3333333333333333,\"#9c179e\"],[0.4444444444444444,\"#bd3786\"],[0.5555555555555556,\"#d8576b\"],[0.6666666666666666,\"#ed7953\"],[0.7777777777777778,\"#fb9f3a\"],[0.8888888888888888,\"#fdca26\"],[1.0,\"#f0f921\"]],\"sequentialminus\":[[0.0,\"#0d0887\"],[0.1111111111111111,\"#46039f\"],[0.2222222222222222,\"#7201a8\"],[0.3333333333333333,\"#9c179e\"],[0.4444444444444444,\"#bd3786\"],[0.5555555555555556,\"#d8576b\"],[0.6666666666666666,\"#ed7953\"],[0.7777777777777778,\"#fb9f3a\"],[0.8888888888888888,\"#fdca26\"],[1.0,\"#f0f921\"]],\"diverging\":[[0,\"#8e0152\"],[0.1,\"#c51b7d\"],[0.2,\"#de77ae\"],[0.3,\"#f1b6da\"],[0.4,\"#fde0ef\"],[0.5,\"#f7f7f7\"],[0.6,\"#e6f5d0\"],[0.7,\"#b8e186\"],[0.8,\"#7fbc41\"],[0.9,\"#4d9221\"],[1,\"#276419\"]]},\"xaxis\":{\"gridcolor\":\"white\",\"linecolor\":\"white\",\"ticks\":\"\",\"title\":{\"standoff\":15},\"zerolinecolor\":\"white\",\"automargin\":true,\"zerolinewidth\":2},\"yaxis\":{\"gridcolor\":\"white\",\"linecolor\":\"white\",\"ticks\":\"\",\"title\":{\"standoff\":15},\"zerolinecolor\":\"white\",\"automargin\":true,\"zerolinewidth\":2},\"scene\":{\"xaxis\":{\"backgroundcolor\":\"#E5ECF6\",\"gridcolor\":\"white\",\"linecolor\":\"white\",\"showbackground\":true,\"ticks\":\"\",\"zerolinecolor\":\"white\",\"gridwidth\":2},\"yaxis\":{\"backgroundcolor\":\"#E5ECF6\",\"gridcolor\":\"white\",\"linecolor\":\"white\",\"showbackground\":true,\"ticks\":\"\",\"zerolinecolor\":\"white\",\"gridwidth\":2},\"zaxis\":{\"backgroundcolor\":\"#E5ECF6\",\"gridcolor\":\"white\",\"linecolor\":\"white\",\"showbackground\":true,\"ticks\":\"\",\"zerolinecolor\":\"white\",\"gridwidth\":2}},\"shapedefaults\":{\"line\":{\"color\":\"#2a3f5f\"}},\"annotationdefaults\":{\"arrowcolor\":\"#2a3f5f\",\"arrowhead\":0,\"arrowwidth\":1},\"geo\":{\"bgcolor\":\"white\",\"landcolor\":\"#E5ECF6\",\"subunitcolor\":\"white\",\"showland\":true,\"showlakes\":true,\"lakecolor\":\"white\"},\"title\":{\"x\":0.05},\"mapbox\":{\"style\":\"light\"}}},\"xaxis\":{\"anchor\":\"y\",\"domain\":[0.0,1.0],\"title\":{\"text\":\"Feature\"}},\"yaxis\":{\"anchor\":\"x\",\"domain\":[0.0,1.0],\"title\":{\"text\":\"Value\"}},\"legend\":{\"tracegroupgap\":0},\"title\":{\"text\":\"Outlier Analysis for Price, Area, Bedrooms, and Bathrooms\"},\"boxmode\":\"group\",\"height\":600,\"width\":1000,\"showlegend\":false},                        {\"responsive\": true}                    ).then(function(){\n",
              "                            \n",
              "var gd = document.getElementById('fd502870-43c2-421f-a80c-0d29dec33d76');\n",
              "var x = new MutationObserver(function (mutations, observer) {{\n",
              "        var display = window.getComputedStyle(gd).display;\n",
              "        if (!display || display === 'none') {{\n",
              "            console.log([gd, 'removed!']);\n",
              "            Plotly.purge(gd);\n",
              "            observer.disconnect();\n",
              "        }}\n",
              "}});\n",
              "\n",
              "// Listen for the removal of the full notebook cells\n",
              "var notebookContainer = gd.closest('#notebook-container');\n",
              "if (notebookContainer) {{\n",
              "    x.observe(notebookContainer, {childList: true});\n",
              "}}\n",
              "\n",
              "// Listen for the clearing of the current output cell\n",
              "var outputEl = gd.closest('.output');\n",
              "if (outputEl) {{\n",
              "    x.observe(outputEl, {childList: true});\n",
              "}}\n",
              "\n",
              "                        })                };                            </script>        </div>\n",
              "</body>\n",
              "</html>"
            ]
          },
          "metadata": {}
        }
      ]
    },
    {
      "cell_type": "code",
      "source": [
        "from sklearn.model_selection import train_test_split\n",
        "x_train,x_test,y_train,y_test=train_test_split(x,y,test_size=0.3,random_state=0)"
      ],
      "metadata": {
        "id": "4jJl8K0EMH1z"
      },
      "execution_count": null,
      "outputs": []
    },
    {
      "cell_type": "code",
      "source": [
        "from sklearn.preprocessing import StandardScaler\n",
        "scaler = StandardScaler()\n",
        "x_train_scaled = scaler.fit_transform(x_train)\n",
        "x_test_scaled = scaler.transform(x_test)"
      ],
      "metadata": {
        "id": "2QvPEQewP4y_"
      },
      "execution_count": null,
      "outputs": []
    },
    {
      "cell_type": "code",
      "source": [
        "from sklearn.linear_model import LinearRegression\n",
        "lr=LinearRegression()"
      ],
      "metadata": {
        "id": "TfnLEGLLM_Z5"
      },
      "execution_count": null,
      "outputs": []
    },
    {
      "cell_type": "code",
      "source": [
        "lr.fit(x_train_scaled, y_train)"
      ],
      "metadata": {
        "colab": {
          "base_uri": "https://localhost:8080/",
          "height": 80
        },
        "id": "X3FJsHrJNU8u",
        "outputId": "716b996c-bb71-45e5-d294-97c12b6af285"
      },
      "execution_count": null,
      "outputs": [
        {
          "output_type": "execute_result",
          "data": {
            "text/plain": [
              "LinearRegression()"
            ],
            "text/html": [
              "<style>#sk-container-id-2 {\n",
              "  /* Definition of color scheme common for light and dark mode */\n",
              "  --sklearn-color-text: black;\n",
              "  --sklearn-color-line: gray;\n",
              "  /* Definition of color scheme for unfitted estimators */\n",
              "  --sklearn-color-unfitted-level-0: #fff5e6;\n",
              "  --sklearn-color-unfitted-level-1: #f6e4d2;\n",
              "  --sklearn-color-unfitted-level-2: #ffe0b3;\n",
              "  --sklearn-color-unfitted-level-3: chocolate;\n",
              "  /* Definition of color scheme for fitted estimators */\n",
              "  --sklearn-color-fitted-level-0: #f0f8ff;\n",
              "  --sklearn-color-fitted-level-1: #d4ebff;\n",
              "  --sklearn-color-fitted-level-2: #b3dbfd;\n",
              "  --sklearn-color-fitted-level-3: cornflowerblue;\n",
              "\n",
              "  /* Specific color for light theme */\n",
              "  --sklearn-color-text-on-default-background: var(--sg-text-color, var(--theme-code-foreground, var(--jp-content-font-color1, black)));\n",
              "  --sklearn-color-background: var(--sg-background-color, var(--theme-background, var(--jp-layout-color0, white)));\n",
              "  --sklearn-color-border-box: var(--sg-text-color, var(--theme-code-foreground, var(--jp-content-font-color1, black)));\n",
              "  --sklearn-color-icon: #696969;\n",
              "\n",
              "  @media (prefers-color-scheme: dark) {\n",
              "    /* Redefinition of color scheme for dark theme */\n",
              "    --sklearn-color-text-on-default-background: var(--sg-text-color, var(--theme-code-foreground, var(--jp-content-font-color1, white)));\n",
              "    --sklearn-color-background: var(--sg-background-color, var(--theme-background, var(--jp-layout-color0, #111)));\n",
              "    --sklearn-color-border-box: var(--sg-text-color, var(--theme-code-foreground, var(--jp-content-font-color1, white)));\n",
              "    --sklearn-color-icon: #878787;\n",
              "  }\n",
              "}\n",
              "\n",
              "#sk-container-id-2 {\n",
              "  color: var(--sklearn-color-text);\n",
              "}\n",
              "\n",
              "#sk-container-id-2 pre {\n",
              "  padding: 0;\n",
              "}\n",
              "\n",
              "#sk-container-id-2 input.sk-hidden--visually {\n",
              "  border: 0;\n",
              "  clip: rect(1px 1px 1px 1px);\n",
              "  clip: rect(1px, 1px, 1px, 1px);\n",
              "  height: 1px;\n",
              "  margin: -1px;\n",
              "  overflow: hidden;\n",
              "  padding: 0;\n",
              "  position: absolute;\n",
              "  width: 1px;\n",
              "}\n",
              "\n",
              "#sk-container-id-2 div.sk-dashed-wrapped {\n",
              "  border: 1px dashed var(--sklearn-color-line);\n",
              "  margin: 0 0.4em 0.5em 0.4em;\n",
              "  box-sizing: border-box;\n",
              "  padding-bottom: 0.4em;\n",
              "  background-color: var(--sklearn-color-background);\n",
              "}\n",
              "\n",
              "#sk-container-id-2 div.sk-container {\n",
              "  /* jupyter's `normalize.less` sets `[hidden] { display: none; }`\n",
              "     but bootstrap.min.css set `[hidden] { display: none !important; }`\n",
              "     so we also need the `!important` here to be able to override the\n",
              "     default hidden behavior on the sphinx rendered scikit-learn.org.\n",
              "     See: https://github.com/scikit-learn/scikit-learn/issues/21755 */\n",
              "  display: inline-block !important;\n",
              "  position: relative;\n",
              "}\n",
              "\n",
              "#sk-container-id-2 div.sk-text-repr-fallback {\n",
              "  display: none;\n",
              "}\n",
              "\n",
              "div.sk-parallel-item,\n",
              "div.sk-serial,\n",
              "div.sk-item {\n",
              "  /* draw centered vertical line to link estimators */\n",
              "  background-image: linear-gradient(var(--sklearn-color-text-on-default-background), var(--sklearn-color-text-on-default-background));\n",
              "  background-size: 2px 100%;\n",
              "  background-repeat: no-repeat;\n",
              "  background-position: center center;\n",
              "}\n",
              "\n",
              "/* Parallel-specific style estimator block */\n",
              "\n",
              "#sk-container-id-2 div.sk-parallel-item::after {\n",
              "  content: \"\";\n",
              "  width: 100%;\n",
              "  border-bottom: 2px solid var(--sklearn-color-text-on-default-background);\n",
              "  flex-grow: 1;\n",
              "}\n",
              "\n",
              "#sk-container-id-2 div.sk-parallel {\n",
              "  display: flex;\n",
              "  align-items: stretch;\n",
              "  justify-content: center;\n",
              "  background-color: var(--sklearn-color-background);\n",
              "  position: relative;\n",
              "}\n",
              "\n",
              "#sk-container-id-2 div.sk-parallel-item {\n",
              "  display: flex;\n",
              "  flex-direction: column;\n",
              "}\n",
              "\n",
              "#sk-container-id-2 div.sk-parallel-item:first-child::after {\n",
              "  align-self: flex-end;\n",
              "  width: 50%;\n",
              "}\n",
              "\n",
              "#sk-container-id-2 div.sk-parallel-item:last-child::after {\n",
              "  align-self: flex-start;\n",
              "  width: 50%;\n",
              "}\n",
              "\n",
              "#sk-container-id-2 div.sk-parallel-item:only-child::after {\n",
              "  width: 0;\n",
              "}\n",
              "\n",
              "/* Serial-specific style estimator block */\n",
              "\n",
              "#sk-container-id-2 div.sk-serial {\n",
              "  display: flex;\n",
              "  flex-direction: column;\n",
              "  align-items: center;\n",
              "  background-color: var(--sklearn-color-background);\n",
              "  padding-right: 1em;\n",
              "  padding-left: 1em;\n",
              "}\n",
              "\n",
              "\n",
              "/* Toggleable style: style used for estimator/Pipeline/ColumnTransformer box that is\n",
              "clickable and can be expanded/collapsed.\n",
              "- Pipeline and ColumnTransformer use this feature and define the default style\n",
              "- Estimators will overwrite some part of the style using the `sk-estimator` class\n",
              "*/\n",
              "\n",
              "/* Pipeline and ColumnTransformer style (default) */\n",
              "\n",
              "#sk-container-id-2 div.sk-toggleable {\n",
              "  /* Default theme specific background. It is overwritten whether we have a\n",
              "  specific estimator or a Pipeline/ColumnTransformer */\n",
              "  background-color: var(--sklearn-color-background);\n",
              "}\n",
              "\n",
              "/* Toggleable label */\n",
              "#sk-container-id-2 label.sk-toggleable__label {\n",
              "  cursor: pointer;\n",
              "  display: block;\n",
              "  width: 100%;\n",
              "  margin-bottom: 0;\n",
              "  padding: 0.5em;\n",
              "  box-sizing: border-box;\n",
              "  text-align: center;\n",
              "}\n",
              "\n",
              "#sk-container-id-2 label.sk-toggleable__label-arrow:before {\n",
              "  /* Arrow on the left of the label */\n",
              "  content: \"▸\";\n",
              "  float: left;\n",
              "  margin-right: 0.25em;\n",
              "  color: var(--sklearn-color-icon);\n",
              "}\n",
              "\n",
              "#sk-container-id-2 label.sk-toggleable__label-arrow:hover:before {\n",
              "  color: var(--sklearn-color-text);\n",
              "}\n",
              "\n",
              "/* Toggleable content - dropdown */\n",
              "\n",
              "#sk-container-id-2 div.sk-toggleable__content {\n",
              "  max-height: 0;\n",
              "  max-width: 0;\n",
              "  overflow: hidden;\n",
              "  text-align: left;\n",
              "  /* unfitted */\n",
              "  background-color: var(--sklearn-color-unfitted-level-0);\n",
              "}\n",
              "\n",
              "#sk-container-id-2 div.sk-toggleable__content.fitted {\n",
              "  /* fitted */\n",
              "  background-color: var(--sklearn-color-fitted-level-0);\n",
              "}\n",
              "\n",
              "#sk-container-id-2 div.sk-toggleable__content pre {\n",
              "  margin: 0.2em;\n",
              "  border-radius: 0.25em;\n",
              "  color: var(--sklearn-color-text);\n",
              "  /* unfitted */\n",
              "  background-color: var(--sklearn-color-unfitted-level-0);\n",
              "}\n",
              "\n",
              "#sk-container-id-2 div.sk-toggleable__content.fitted pre {\n",
              "  /* unfitted */\n",
              "  background-color: var(--sklearn-color-fitted-level-0);\n",
              "}\n",
              "\n",
              "#sk-container-id-2 input.sk-toggleable__control:checked~div.sk-toggleable__content {\n",
              "  /* Expand drop-down */\n",
              "  max-height: 200px;\n",
              "  max-width: 100%;\n",
              "  overflow: auto;\n",
              "}\n",
              "\n",
              "#sk-container-id-2 input.sk-toggleable__control:checked~label.sk-toggleable__label-arrow:before {\n",
              "  content: \"▾\";\n",
              "}\n",
              "\n",
              "/* Pipeline/ColumnTransformer-specific style */\n",
              "\n",
              "#sk-container-id-2 div.sk-label input.sk-toggleable__control:checked~label.sk-toggleable__label {\n",
              "  color: var(--sklearn-color-text);\n",
              "  background-color: var(--sklearn-color-unfitted-level-2);\n",
              "}\n",
              "\n",
              "#sk-container-id-2 div.sk-label.fitted input.sk-toggleable__control:checked~label.sk-toggleable__label {\n",
              "  background-color: var(--sklearn-color-fitted-level-2);\n",
              "}\n",
              "\n",
              "/* Estimator-specific style */\n",
              "\n",
              "/* Colorize estimator box */\n",
              "#sk-container-id-2 div.sk-estimator input.sk-toggleable__control:checked~label.sk-toggleable__label {\n",
              "  /* unfitted */\n",
              "  background-color: var(--sklearn-color-unfitted-level-2);\n",
              "}\n",
              "\n",
              "#sk-container-id-2 div.sk-estimator.fitted input.sk-toggleable__control:checked~label.sk-toggleable__label {\n",
              "  /* fitted */\n",
              "  background-color: var(--sklearn-color-fitted-level-2);\n",
              "}\n",
              "\n",
              "#sk-container-id-2 div.sk-label label.sk-toggleable__label,\n",
              "#sk-container-id-2 div.sk-label label {\n",
              "  /* The background is the default theme color */\n",
              "  color: var(--sklearn-color-text-on-default-background);\n",
              "}\n",
              "\n",
              "/* On hover, darken the color of the background */\n",
              "#sk-container-id-2 div.sk-label:hover label.sk-toggleable__label {\n",
              "  color: var(--sklearn-color-text);\n",
              "  background-color: var(--sklearn-color-unfitted-level-2);\n",
              "}\n",
              "\n",
              "/* Label box, darken color on hover, fitted */\n",
              "#sk-container-id-2 div.sk-label.fitted:hover label.sk-toggleable__label.fitted {\n",
              "  color: var(--sklearn-color-text);\n",
              "  background-color: var(--sklearn-color-fitted-level-2);\n",
              "}\n",
              "\n",
              "/* Estimator label */\n",
              "\n",
              "#sk-container-id-2 div.sk-label label {\n",
              "  font-family: monospace;\n",
              "  font-weight: bold;\n",
              "  display: inline-block;\n",
              "  line-height: 1.2em;\n",
              "}\n",
              "\n",
              "#sk-container-id-2 div.sk-label-container {\n",
              "  text-align: center;\n",
              "}\n",
              "\n",
              "/* Estimator-specific */\n",
              "#sk-container-id-2 div.sk-estimator {\n",
              "  font-family: monospace;\n",
              "  border: 1px dotted var(--sklearn-color-border-box);\n",
              "  border-radius: 0.25em;\n",
              "  box-sizing: border-box;\n",
              "  margin-bottom: 0.5em;\n",
              "  /* unfitted */\n",
              "  background-color: var(--sklearn-color-unfitted-level-0);\n",
              "}\n",
              "\n",
              "#sk-container-id-2 div.sk-estimator.fitted {\n",
              "  /* fitted */\n",
              "  background-color: var(--sklearn-color-fitted-level-0);\n",
              "}\n",
              "\n",
              "/* on hover */\n",
              "#sk-container-id-2 div.sk-estimator:hover {\n",
              "  /* unfitted */\n",
              "  background-color: var(--sklearn-color-unfitted-level-2);\n",
              "}\n",
              "\n",
              "#sk-container-id-2 div.sk-estimator.fitted:hover {\n",
              "  /* fitted */\n",
              "  background-color: var(--sklearn-color-fitted-level-2);\n",
              "}\n",
              "\n",
              "/* Specification for estimator info (e.g. \"i\" and \"?\") */\n",
              "\n",
              "/* Common style for \"i\" and \"?\" */\n",
              "\n",
              ".sk-estimator-doc-link,\n",
              "a:link.sk-estimator-doc-link,\n",
              "a:visited.sk-estimator-doc-link {\n",
              "  float: right;\n",
              "  font-size: smaller;\n",
              "  line-height: 1em;\n",
              "  font-family: monospace;\n",
              "  background-color: var(--sklearn-color-background);\n",
              "  border-radius: 1em;\n",
              "  height: 1em;\n",
              "  width: 1em;\n",
              "  text-decoration: none !important;\n",
              "  margin-left: 1ex;\n",
              "  /* unfitted */\n",
              "  border: var(--sklearn-color-unfitted-level-1) 1pt solid;\n",
              "  color: var(--sklearn-color-unfitted-level-1);\n",
              "}\n",
              "\n",
              ".sk-estimator-doc-link.fitted,\n",
              "a:link.sk-estimator-doc-link.fitted,\n",
              "a:visited.sk-estimator-doc-link.fitted {\n",
              "  /* fitted */\n",
              "  border: var(--sklearn-color-fitted-level-1) 1pt solid;\n",
              "  color: var(--sklearn-color-fitted-level-1);\n",
              "}\n",
              "\n",
              "/* On hover */\n",
              "div.sk-estimator:hover .sk-estimator-doc-link:hover,\n",
              ".sk-estimator-doc-link:hover,\n",
              "div.sk-label-container:hover .sk-estimator-doc-link:hover,\n",
              ".sk-estimator-doc-link:hover {\n",
              "  /* unfitted */\n",
              "  background-color: var(--sklearn-color-unfitted-level-3);\n",
              "  color: var(--sklearn-color-background);\n",
              "  text-decoration: none;\n",
              "}\n",
              "\n",
              "div.sk-estimator.fitted:hover .sk-estimator-doc-link.fitted:hover,\n",
              ".sk-estimator-doc-link.fitted:hover,\n",
              "div.sk-label-container:hover .sk-estimator-doc-link.fitted:hover,\n",
              ".sk-estimator-doc-link.fitted:hover {\n",
              "  /* fitted */\n",
              "  background-color: var(--sklearn-color-fitted-level-3);\n",
              "  color: var(--sklearn-color-background);\n",
              "  text-decoration: none;\n",
              "}\n",
              "\n",
              "/* Span, style for the box shown on hovering the info icon */\n",
              ".sk-estimator-doc-link span {\n",
              "  display: none;\n",
              "  z-index: 9999;\n",
              "  position: relative;\n",
              "  font-weight: normal;\n",
              "  right: .2ex;\n",
              "  padding: .5ex;\n",
              "  margin: .5ex;\n",
              "  width: min-content;\n",
              "  min-width: 20ex;\n",
              "  max-width: 50ex;\n",
              "  color: var(--sklearn-color-text);\n",
              "  box-shadow: 2pt 2pt 4pt #999;\n",
              "  /* unfitted */\n",
              "  background: var(--sklearn-color-unfitted-level-0);\n",
              "  border: .5pt solid var(--sklearn-color-unfitted-level-3);\n",
              "}\n",
              "\n",
              ".sk-estimator-doc-link.fitted span {\n",
              "  /* fitted */\n",
              "  background: var(--sklearn-color-fitted-level-0);\n",
              "  border: var(--sklearn-color-fitted-level-3);\n",
              "}\n",
              "\n",
              ".sk-estimator-doc-link:hover span {\n",
              "  display: block;\n",
              "}\n",
              "\n",
              "/* \"?\"-specific style due to the `<a>` HTML tag */\n",
              "\n",
              "#sk-container-id-2 a.estimator_doc_link {\n",
              "  float: right;\n",
              "  font-size: 1rem;\n",
              "  line-height: 1em;\n",
              "  font-family: monospace;\n",
              "  background-color: var(--sklearn-color-background);\n",
              "  border-radius: 1rem;\n",
              "  height: 1rem;\n",
              "  width: 1rem;\n",
              "  text-decoration: none;\n",
              "  /* unfitted */\n",
              "  color: var(--sklearn-color-unfitted-level-1);\n",
              "  border: var(--sklearn-color-unfitted-level-1) 1pt solid;\n",
              "}\n",
              "\n",
              "#sk-container-id-2 a.estimator_doc_link.fitted {\n",
              "  /* fitted */\n",
              "  border: var(--sklearn-color-fitted-level-1) 1pt solid;\n",
              "  color: var(--sklearn-color-fitted-level-1);\n",
              "}\n",
              "\n",
              "/* On hover */\n",
              "#sk-container-id-2 a.estimator_doc_link:hover {\n",
              "  /* unfitted */\n",
              "  background-color: var(--sklearn-color-unfitted-level-3);\n",
              "  color: var(--sklearn-color-background);\n",
              "  text-decoration: none;\n",
              "}\n",
              "\n",
              "#sk-container-id-2 a.estimator_doc_link.fitted:hover {\n",
              "  /* fitted */\n",
              "  background-color: var(--sklearn-color-fitted-level-3);\n",
              "}\n",
              "</style><div id=\"sk-container-id-2\" class=\"sk-top-container\"><div class=\"sk-text-repr-fallback\"><pre>LinearRegression()</pre><b>In a Jupyter environment, please rerun this cell to show the HTML representation or trust the notebook. <br />On GitHub, the HTML representation is unable to render, please try loading this page with nbviewer.org.</b></div><div class=\"sk-container\" hidden><div class=\"sk-item\"><div class=\"sk-estimator fitted sk-toggleable\"><input class=\"sk-toggleable__control sk-hidden--visually\" id=\"sk-estimator-id-2\" type=\"checkbox\" checked><label for=\"sk-estimator-id-2\" class=\"sk-toggleable__label fitted sk-toggleable__label-arrow fitted\">&nbsp;&nbsp;LinearRegression<a class=\"sk-estimator-doc-link fitted\" rel=\"noreferrer\" target=\"_blank\" href=\"https://scikit-learn.org/1.5/modules/generated/sklearn.linear_model.LinearRegression.html\">?<span>Documentation for LinearRegression</span></a><span class=\"sk-estimator-doc-link fitted\">i<span>Fitted</span></span></label><div class=\"sk-toggleable__content fitted\"><pre>LinearRegression()</pre></div> </div></div></div></div>"
            ]
          },
          "metadata": {},
          "execution_count": 42
        }
      ]
    },
    {
      "cell_type": "code",
      "source": [
        "c=lr.intercept_\n",
        "print('intercepts: ',c)"
      ],
      "metadata": {
        "colab": {
          "base_uri": "https://localhost:8080/"
        },
        "id": "EY2YwJIENaKD",
        "outputId": "edab0804-e41b-4c20-ffd2-ed5d9be55cae"
      },
      "execution_count": null,
      "outputs": [
        {
          "output_type": "stream",
          "name": "stdout",
          "text": [
            "intercepts:  4768119.265091863\n"
          ]
        }
      ]
    },
    {
      "cell_type": "code",
      "source": [
        "m=lr.coef_\n",
        "print('Coefficients: ',m)"
      ],
      "metadata": {
        "colab": {
          "base_uri": "https://localhost:8080/"
        },
        "id": "rNr0ZcvsNoWk",
        "outputId": "d8d56da7-0d67-4d08-8f63-a36e4794b6ec"
      },
      "execution_count": null,
      "outputs": [
        {
          "output_type": "stream",
          "name": "stdout",
          "text": [
            "Coefficients:  [821200.10612319 361410.70698988 675260.74212062]\n"
          ]
        }
      ]
    },
    {
      "cell_type": "code",
      "source": [
        "y_pred_train = lr.predict(x_train_scaled)"
      ],
      "metadata": {
        "id": "kh4hWbzlNwHV"
      },
      "execution_count": null,
      "outputs": []
    },
    {
      "cell_type": "code",
      "source": [
        "import plotly.express as px\n",
        "\n",
        "real_vs_predicted = pd.DataFrame({'Real Price': y_train, 'Predicted Price': y_pred_train})\n",
        "\n",
        "# Create the scatter plot using Plotly Express\n",
        "fig = px.scatter(real_vs_predicted, x='Real Price', y='Predicted Price',\n",
        "                 title=\"Real vs Predicted Price\", labels={'Real Price': 'Real Price', 'Predicted Price': 'Predicted Price'})\n",
        "\n",
        "fig.show()\n"
      ],
      "metadata": {
        "colab": {
          "base_uri": "https://localhost:8080/",
          "height": 542
        },
        "id": "O5pEk5arN3aI",
        "outputId": "52b39c8b-b0cc-41a3-9b5a-0e0fea88da51"
      },
      "execution_count": null,
      "outputs": [
        {
          "output_type": "display_data",
          "data": {
            "text/html": [
              "<html>\n",
              "<head><meta charset=\"utf-8\" /></head>\n",
              "<body>\n",
              "    <div>            <script src=\"https://cdnjs.cloudflare.com/ajax/libs/mathjax/2.7.5/MathJax.js?config=TeX-AMS-MML_SVG\"></script><script type=\"text/javascript\">if (window.MathJax && window.MathJax.Hub && window.MathJax.Hub.Config) {window.MathJax.Hub.Config({SVG: {font: \"STIX-Web\"}});}</script>                <script type=\"text/javascript\">window.PlotlyConfig = {MathJaxConfig: 'local'};</script>\n",
              "        <script charset=\"utf-8\" src=\"https://cdn.plot.ly/plotly-2.35.2.min.js\"></script>                <div id=\"318b058f-35d2-465c-8384-be77496a5b79\" class=\"plotly-graph-div\" style=\"height:525px; width:100%;\"></div>            <script type=\"text/javascript\">                                    window.PLOTLYENV=window.PLOTLYENV || {};                                    if (document.getElementById(\"318b058f-35d2-465c-8384-be77496a5b79\")) {                    Plotly.newPlot(                        \"318b058f-35d2-465c-8384-be77496a5b79\",                        [{\"hovertemplate\":\"Real Price=%{x}\\u003cbr\\u003ePredicted Price=%{y}\\u003cextra\\u003e\\u003c\\u002fextra\\u003e\",\"legendgroup\":\"\",\"marker\":{\"color\":\"#636efa\",\"symbol\":\"circle\"},\"mode\":\"markers\",\"name\":\"\",\"orientation\":\"v\",\"showlegend\":false,\"x\":[3143000,3500000,4690000,4340000,4515000,1767150,3080000,5950000,5530000,3150000,7210000,2800000,3045000,2835000,1820000,3465000,4200000,5040000,7350000,5250000,4690000,4900000,5495000,1750000,8120000,3675000,8890000,3920000,4550000,2275000,7350000,6650000,8463000,5250000,6405000,5285000,11410000,2604000,5215000,4550000,3010000,10850000,5652500,3850000,4900000,5775000,2940000,5950000,8645000,6860000,4900000,8750000,2653000,3605000,9240000,5250000,3990000,2800000,4543000,4795000,2870000,7000000,2450000,4550000,5950000,6615000,3360000,3773000,3290000,4200000,2100000,2275000,5460000,2100000,3325000,4473000,4382000,3773000,3500000,7420000,4970000,5040000,6020000,3010000,3220000,5390000,6160000,3500000,7035000,2520000,3465000,5110000,2408000,4270000,2450000,3220000,4095000,6300000,3703000,3010000,4935000,5600000,5600000,7910000,2730000,4025000,4515000,4200000,3080000,12250000,4767000,2485000,5600000,4550000,4095000,6020000,3675000,5250000,5250000,2660000,3850000,2961000,5740000,3430000,4480000,3920000,4200000,3118850,2940000,4480000,4655000,5810000,8190000,6475000,4200000,7560000,7070000,4907000,4060000,2380000,2660000,3885000,4830000,4200000,4200000,6685000,4200000,8080940,3850000,8400000,2660000,3493000,2310000,4130000,2380000,4830000,8400000,2835000,3850000,5523000,3010000,3430000,5740000,4893000,6195000,3430000,3430000,3395000,4830000,3115000,5040000,4865000,2660000,4900000,4620000,4473000,6895000,8575000,4830000,4200000,4760000,5873000,6090000,5320000,2660000,3010000,7875000,4340000,3360000,6650000,3234000,3640000,3990000,9240000,4200000,3990000,2485000,4515000,4690000,3423000,5460000,6580000,5950000,8540000,6090000,5600000,5565000,9100000,3500000,3920000,6090000,3395000,5740000,4620000,4473000,3780000,3360000,4060000,4025000,2940000,4543000,2520000,2450000,8855000,3990000,4200000,3150000,4375000,3710000,4690000,3115000,12215000,3430000,5943000,4270000,4235000,6650000,5110000,3640000,3150000,2100000,4319000,4200000,2450000,5145000,8295000,6629000,4165000,4480000,9681000,3710000,3255000,6510000,4403000,8043000,5033000,7210000,7840000,4340000,3430000,7420000,4900000,3003000,1855000,2730000,5950000,4760000,3360000,7070000,2940000,3640000,5866000,5110000,8645000,3220000,7700000,3640000,3500000,13300000,3570000,4900000,3465000,3675000,2590000,6293000,3500000,3780000,4193000,3360000,4200000,5229000,3675000,4480000,6300000,4956000,6300000,2240000,5425000,5250000,6790000,4193000,7455000,3850000,3640000,3500000,4900000,4270000,2590000,4690000,5600000,5600000,3920000,5215000,3773000,3087000,5810000,5880000,7490000,3150000,4445000,4007500,4900000,6510000,3353000,5950000,1890000,2450000,2275000,3500000,3570000,6419000,6615000,3290000,4403000,5950000,3745000,4200000,7245000,3360000,2870000,4025000,4480000,3640000,8400000,3220000,7700000,6160000,3500000,3920000,4340000,2852500,7350000,2450000,5873000,8400000,5145000,3115000,2520000,5565000,4550000,4403000,4200000,3360000,5600000,5243000,6265000,3150000,3290000,6020000,6720000,5250000,6475000,2870000,4095000,3500000,3010000,6790000,4305000,9800000,3710000,5040000],\"xaxis\":\"x\",\"y\":[4167132.9255572855,3954938.1590166986,4092240.6550135487,4103148.903622996,3755225.437566734,3293389.769213692,3850667.844411211,6407199.532554889,5211003.544703541,4595429.868151703,6188763.743468991,3942456.1139260754,3368028.7675737976,4104722.7001041714,3035174.231823857,4000452.385498684,4220968.51543302,5964800.690790594,4791235.180088423,6567430.196484042,4033737.8390736785,3501170.5818737736,5615050.1560695255,3896688.6152604586,6156445.321030441,3297297.1787269353,5606268.305906596,5656656.973038268,3355799.994666806,2930903.91721837,6696620.182671281,3975741.5675010695,6188763.743468991,6405372.463890083,5689481.93984408,5098411.866704306,5889908.420246857,2997728.096551989,5290516.9837133335,3809314.2996260994,3855081.7982917163,8210394.561380697,6971225.174664982,3484527.855086277,4175454.2889510337,6188763.743468991,5047117.10444619,6802301.497771887,5644174.927947645,4791235.180088423,4227878.878331649,4092240.6550135487,3112146.843216031,3659276.4863549955,6937686.4489063565,5980729.658625279,3472045.809995654,3397406.8116355482,6276391.331286982,6172834.7756343065,3297297.1787269353,6944387.95822085,3800739.66404872,3759386.1192636085,5015911.991719633,5356627.40409414,3501170.5818737736,5686035.017100019,4380413.100620878,3759386.1192636085,3293389.769213692,2550870.8823076943,5386465.934925073,3184958.7729113307,4789408.111423617,3755225.437566734,4862220.041118917,5727388.561885131,4845070.769964158,4926457.335236836,7432600.356248843,6746755.577619323,6563225.0961876735,3580476.8062980156,4113044.06349792,6484172.143947063,6467782.689343197,4233450.560523642,6846404.723758753,3035174.231823857,3187292.3859433983,6534307.538895105,3299377.5195753723,4616739.8210033355,3243208.31666757,3592958.8513886384,4116951.473011163,6688045.547093902,4054541.2475580494,3642887.0317511293,4769599.635264677,4375167.010400998,4431752.281478488,6696620.182671281,4616233.276636073,5131950.592462931,3251529.6800613184,5207303.349775849,3072620.3670957256,7836393.695431195,5623164.304877724,4125526.108588543,6155685.504479548,3859242.4799885903,5223485.5897941645,4616233.276636073,3297297.1787269353,5839726.967700736,4575133.004034593,3234886.9532738216,3133203.523884033,3035174.231823857,6446979.280858826,3896688.6152604586,4679150.04645645,3543030.671026147,4708021.546150939,3292557.632874317,3605440.896479261,4235530.90137208,3853001.457443279,4291953.376463513,7569649.580062062,5377891.299347693,6683677.650811477,6696620.182671281,5481655.069585918,4042312.4746510577,4092240.6550135487,3145016.2286213376,6600210.7446903605,5523307.944152742,3790337.9598065345,3187292.3859433983,5206842.863006667,5930548.206079156,3262184.656487135,6604831.913156416,6913228.903092373,6488586.097827569,3959098.8407135727,4333560.193432256,3110066.502367594,4729910.363158315,3324594.881940249,5149885.942358984,5987431.167939771,3667851.121932375,2692334.060001419,5165696.532807106,2966522.983825432,3451242.4015112827,4375167.010400998,5623164.304877724,5980729.658625279,4503687.656234918,3112146.843216031,4285712.353918201,4025669.747863561,3896688.6152604586,3259851.043455067,3596866.2609018814,3459817.037088662,4279471.331372891,5306699.223731649,4433163.281973607,6896079.631937614,7353754.618593782,4807877.9068759205,3991968.2261188794,4924793.062558087,7062967.386581766,5778148.878586996,5540157.885525789,3423781.9023119127,3700883.303323738,5020072.673416507,5486322.295650055,3763293.5287768515,6188763.743468991,4317170.738828389,3617922.941569884,4990947.901538388,5656449.758452717,4583201.09524471,4508562.096884605,3543030.671026147,3730261.3473854885,3805153.6179292253,3467885.1282987795,4832841.997057166,6188763.743468991,4342134.829009634,6921296.994302491,5040876.081900879,6946261.084483736,5557307.156680548,6946261.084483736,6247473.773994412,6713009.637275147,6952502.107029048,3730261.3473854885,4941019.721175896,4379327.6920978725,3610433.71451551,4212647.152039271,3334743.3139988035,5769367.0284240665,4541594.2782759685,4728824.95463531,4890377.781860593,3617922.941569884,4990694.629354756,6363512.37473771,5564661.488937853,5606268.305906596,4842946.010516226,3917492.02374483,3278158.0429213136,4445898.59924786,3543030.671026147,7320722.437202419,3380764.0848480514,8785489.609087707,4433163.281973607,3454408.1508827256,6396797.828312704,4940559.234406715,3780189.5277479794,3243208.31666757,4050887.110228437,3464556.58294128,5864483.84329643,3135030.5925488393,3713618.6205979916,6230623.832621365,4791235.180088423,3992384.2942885663,3975741.5675010695,8094148.746051849,3467885.1282987795,3422117.629633163,5070000.853778998,4325238.830038507,6805376.770945756,3784096.937261223,7395614.707746156,6338548.284556464,5564661.488937853,3187292.3859433983,6787901.907818884,5090804.26226337,5136318.488745356,3031013.550126983,3959098.8407135727,7245830.166658683,5600650.566116522,4866380.722815791,6796476.543396262,3792671.5728386026,4878149.008953601,4291953.376463513,4832841.997057166,5589625.579119098,4092240.6550135487,6696620.182671281,3567741.489023762,3742743.3924761117,7287436.9836274255,6072517.928140143,3998625.316833878,3567994.7612073924,4133594.1997986604,4682343.69701688,6438404.645281446,4058955.2014385546,4300274.739857261,5727388.561885131,4258921.19507215,5343150.426678086,5242669.14419928,3284815.1336363126,3959098.8407135727,6696620.182671281,4857345.60046923,5398234.221062883,3106159.0928543503,5134491.420080549,6921296.994302491,9230475.336067703,3730261.3473854885,5481447.855000367,4507595.065748162,3035174.231823857,4241771.92391739,3543030.671026147,4433163.281973607,3617669.6693862528,4283378.740886133,4941019.721175896,6705194.81824866,3155834.0010332107,6072517.928140143,5756559.391361331,5157121.897229727,5227527.894104476,6396797.828312704,5040876.081900879,6039439.689150699,3347225.359089426,4167132.9255572855,5049450.717478259,3859242.4799885903,3418210.2201199196,5303415.096973645,3305202.473950996,3630404.9866605066,3946616.79562295,3592958.8513886384,3659276.4863549955,4595429.868151703,8061070.507062405,2827140.1469801445,4341881.556826004,5215624.713169597,3234886.9532738216,3523475.4670508383,7944824.691733557,3112146.843216031,5049450.717478259,5202682.181309793,5727388.561885131,5410716.266153505,5207303.349775849,2903696.690202631,6388476.464918955,4167132.9255572855,3813474.981322974,3374685.8582887966,4258921.19507215,4966237.083540773,5835105.799234679,3035174.231823857,4583201.09524471,8015809.552764051,5615050.1560695255,3243208.31666757,3493102.490663656,4633382.547790833,4508308.824700974,3493102.490663656,4391809.737188495,3855081.7982917163,5980729.658625279,4812038.588572795,5299091.619290713,3490768.877631588,4125779.3807721734,5623371.519463275,4383488.373794747,3875885.2067760876,3942456.1139260754,4283378.740886133,3467885.1282987795,3301457.8604238094,4313010.057131515,5356627.40409414,6097435.960723309,6084746.701047135,3792671.5728386026,5040876.081900879],\"yaxis\":\"y\",\"type\":\"scatter\"}],                        {\"template\":{\"data\":{\"histogram2dcontour\":[{\"type\":\"histogram2dcontour\",\"colorbar\":{\"outlinewidth\":0,\"ticks\":\"\"},\"colorscale\":[[0.0,\"#0d0887\"],[0.1111111111111111,\"#46039f\"],[0.2222222222222222,\"#7201a8\"],[0.3333333333333333,\"#9c179e\"],[0.4444444444444444,\"#bd3786\"],[0.5555555555555556,\"#d8576b\"],[0.6666666666666666,\"#ed7953\"],[0.7777777777777778,\"#fb9f3a\"],[0.8888888888888888,\"#fdca26\"],[1.0,\"#f0f921\"]]}],\"choropleth\":[{\"type\":\"choropleth\",\"colorbar\":{\"outlinewidth\":0,\"ticks\":\"\"}}],\"histogram2d\":[{\"type\":\"histogram2d\",\"colorbar\":{\"outlinewidth\":0,\"ticks\":\"\"},\"colorscale\":[[0.0,\"#0d0887\"],[0.1111111111111111,\"#46039f\"],[0.2222222222222222,\"#7201a8\"],[0.3333333333333333,\"#9c179e\"],[0.4444444444444444,\"#bd3786\"],[0.5555555555555556,\"#d8576b\"],[0.6666666666666666,\"#ed7953\"],[0.7777777777777778,\"#fb9f3a\"],[0.8888888888888888,\"#fdca26\"],[1.0,\"#f0f921\"]]}],\"heatmap\":[{\"type\":\"heatmap\",\"colorbar\":{\"outlinewidth\":0,\"ticks\":\"\"},\"colorscale\":[[0.0,\"#0d0887\"],[0.1111111111111111,\"#46039f\"],[0.2222222222222222,\"#7201a8\"],[0.3333333333333333,\"#9c179e\"],[0.4444444444444444,\"#bd3786\"],[0.5555555555555556,\"#d8576b\"],[0.6666666666666666,\"#ed7953\"],[0.7777777777777778,\"#fb9f3a\"],[0.8888888888888888,\"#fdca26\"],[1.0,\"#f0f921\"]]}],\"heatmapgl\":[{\"type\":\"heatmapgl\",\"colorbar\":{\"outlinewidth\":0,\"ticks\":\"\"},\"colorscale\":[[0.0,\"#0d0887\"],[0.1111111111111111,\"#46039f\"],[0.2222222222222222,\"#7201a8\"],[0.3333333333333333,\"#9c179e\"],[0.4444444444444444,\"#bd3786\"],[0.5555555555555556,\"#d8576b\"],[0.6666666666666666,\"#ed7953\"],[0.7777777777777778,\"#fb9f3a\"],[0.8888888888888888,\"#fdca26\"],[1.0,\"#f0f921\"]]}],\"contourcarpet\":[{\"type\":\"contourcarpet\",\"colorbar\":{\"outlinewidth\":0,\"ticks\":\"\"}}],\"contour\":[{\"type\":\"contour\",\"colorbar\":{\"outlinewidth\":0,\"ticks\":\"\"},\"colorscale\":[[0.0,\"#0d0887\"],[0.1111111111111111,\"#46039f\"],[0.2222222222222222,\"#7201a8\"],[0.3333333333333333,\"#9c179e\"],[0.4444444444444444,\"#bd3786\"],[0.5555555555555556,\"#d8576b\"],[0.6666666666666666,\"#ed7953\"],[0.7777777777777778,\"#fb9f3a\"],[0.8888888888888888,\"#fdca26\"],[1.0,\"#f0f921\"]]}],\"surface\":[{\"type\":\"surface\",\"colorbar\":{\"outlinewidth\":0,\"ticks\":\"\"},\"colorscale\":[[0.0,\"#0d0887\"],[0.1111111111111111,\"#46039f\"],[0.2222222222222222,\"#7201a8\"],[0.3333333333333333,\"#9c179e\"],[0.4444444444444444,\"#bd3786\"],[0.5555555555555556,\"#d8576b\"],[0.6666666666666666,\"#ed7953\"],[0.7777777777777778,\"#fb9f3a\"],[0.8888888888888888,\"#fdca26\"],[1.0,\"#f0f921\"]]}],\"mesh3d\":[{\"type\":\"mesh3d\",\"colorbar\":{\"outlinewidth\":0,\"ticks\":\"\"}}],\"scatter\":[{\"fillpattern\":{\"fillmode\":\"overlay\",\"size\":10,\"solidity\":0.2},\"type\":\"scatter\"}],\"parcoords\":[{\"type\":\"parcoords\",\"line\":{\"colorbar\":{\"outlinewidth\":0,\"ticks\":\"\"}}}],\"scatterpolargl\":[{\"type\":\"scatterpolargl\",\"marker\":{\"colorbar\":{\"outlinewidth\":0,\"ticks\":\"\"}}}],\"bar\":[{\"error_x\":{\"color\":\"#2a3f5f\"},\"error_y\":{\"color\":\"#2a3f5f\"},\"marker\":{\"line\":{\"color\":\"#E5ECF6\",\"width\":0.5},\"pattern\":{\"fillmode\":\"overlay\",\"size\":10,\"solidity\":0.2}},\"type\":\"bar\"}],\"scattergeo\":[{\"type\":\"scattergeo\",\"marker\":{\"colorbar\":{\"outlinewidth\":0,\"ticks\":\"\"}}}],\"scatterpolar\":[{\"type\":\"scatterpolar\",\"marker\":{\"colorbar\":{\"outlinewidth\":0,\"ticks\":\"\"}}}],\"histogram\":[{\"marker\":{\"pattern\":{\"fillmode\":\"overlay\",\"size\":10,\"solidity\":0.2}},\"type\":\"histogram\"}],\"scattergl\":[{\"type\":\"scattergl\",\"marker\":{\"colorbar\":{\"outlinewidth\":0,\"ticks\":\"\"}}}],\"scatter3d\":[{\"type\":\"scatter3d\",\"line\":{\"colorbar\":{\"outlinewidth\":0,\"ticks\":\"\"}},\"marker\":{\"colorbar\":{\"outlinewidth\":0,\"ticks\":\"\"}}}],\"scattermapbox\":[{\"type\":\"scattermapbox\",\"marker\":{\"colorbar\":{\"outlinewidth\":0,\"ticks\":\"\"}}}],\"scatterternary\":[{\"type\":\"scatterternary\",\"marker\":{\"colorbar\":{\"outlinewidth\":0,\"ticks\":\"\"}}}],\"scattercarpet\":[{\"type\":\"scattercarpet\",\"marker\":{\"colorbar\":{\"outlinewidth\":0,\"ticks\":\"\"}}}],\"carpet\":[{\"aaxis\":{\"endlinecolor\":\"#2a3f5f\",\"gridcolor\":\"white\",\"linecolor\":\"white\",\"minorgridcolor\":\"white\",\"startlinecolor\":\"#2a3f5f\"},\"baxis\":{\"endlinecolor\":\"#2a3f5f\",\"gridcolor\":\"white\",\"linecolor\":\"white\",\"minorgridcolor\":\"white\",\"startlinecolor\":\"#2a3f5f\"},\"type\":\"carpet\"}],\"table\":[{\"cells\":{\"fill\":{\"color\":\"#EBF0F8\"},\"line\":{\"color\":\"white\"}},\"header\":{\"fill\":{\"color\":\"#C8D4E3\"},\"line\":{\"color\":\"white\"}},\"type\":\"table\"}],\"barpolar\":[{\"marker\":{\"line\":{\"color\":\"#E5ECF6\",\"width\":0.5},\"pattern\":{\"fillmode\":\"overlay\",\"size\":10,\"solidity\":0.2}},\"type\":\"barpolar\"}],\"pie\":[{\"automargin\":true,\"type\":\"pie\"}]},\"layout\":{\"autotypenumbers\":\"strict\",\"colorway\":[\"#636efa\",\"#EF553B\",\"#00cc96\",\"#ab63fa\",\"#FFA15A\",\"#19d3f3\",\"#FF6692\",\"#B6E880\",\"#FF97FF\",\"#FECB52\"],\"font\":{\"color\":\"#2a3f5f\"},\"hovermode\":\"closest\",\"hoverlabel\":{\"align\":\"left\"},\"paper_bgcolor\":\"white\",\"plot_bgcolor\":\"#E5ECF6\",\"polar\":{\"bgcolor\":\"#E5ECF6\",\"angularaxis\":{\"gridcolor\":\"white\",\"linecolor\":\"white\",\"ticks\":\"\"},\"radialaxis\":{\"gridcolor\":\"white\",\"linecolor\":\"white\",\"ticks\":\"\"}},\"ternary\":{\"bgcolor\":\"#E5ECF6\",\"aaxis\":{\"gridcolor\":\"white\",\"linecolor\":\"white\",\"ticks\":\"\"},\"baxis\":{\"gridcolor\":\"white\",\"linecolor\":\"white\",\"ticks\":\"\"},\"caxis\":{\"gridcolor\":\"white\",\"linecolor\":\"white\",\"ticks\":\"\"}},\"coloraxis\":{\"colorbar\":{\"outlinewidth\":0,\"ticks\":\"\"}},\"colorscale\":{\"sequential\":[[0.0,\"#0d0887\"],[0.1111111111111111,\"#46039f\"],[0.2222222222222222,\"#7201a8\"],[0.3333333333333333,\"#9c179e\"],[0.4444444444444444,\"#bd3786\"],[0.5555555555555556,\"#d8576b\"],[0.6666666666666666,\"#ed7953\"],[0.7777777777777778,\"#fb9f3a\"],[0.8888888888888888,\"#fdca26\"],[1.0,\"#f0f921\"]],\"sequentialminus\":[[0.0,\"#0d0887\"],[0.1111111111111111,\"#46039f\"],[0.2222222222222222,\"#7201a8\"],[0.3333333333333333,\"#9c179e\"],[0.4444444444444444,\"#bd3786\"],[0.5555555555555556,\"#d8576b\"],[0.6666666666666666,\"#ed7953\"],[0.7777777777777778,\"#fb9f3a\"],[0.8888888888888888,\"#fdca26\"],[1.0,\"#f0f921\"]],\"diverging\":[[0,\"#8e0152\"],[0.1,\"#c51b7d\"],[0.2,\"#de77ae\"],[0.3,\"#f1b6da\"],[0.4,\"#fde0ef\"],[0.5,\"#f7f7f7\"],[0.6,\"#e6f5d0\"],[0.7,\"#b8e186\"],[0.8,\"#7fbc41\"],[0.9,\"#4d9221\"],[1,\"#276419\"]]},\"xaxis\":{\"gridcolor\":\"white\",\"linecolor\":\"white\",\"ticks\":\"\",\"title\":{\"standoff\":15},\"zerolinecolor\":\"white\",\"automargin\":true,\"zerolinewidth\":2},\"yaxis\":{\"gridcolor\":\"white\",\"linecolor\":\"white\",\"ticks\":\"\",\"title\":{\"standoff\":15},\"zerolinecolor\":\"white\",\"automargin\":true,\"zerolinewidth\":2},\"scene\":{\"xaxis\":{\"backgroundcolor\":\"#E5ECF6\",\"gridcolor\":\"white\",\"linecolor\":\"white\",\"showbackground\":true,\"ticks\":\"\",\"zerolinecolor\":\"white\",\"gridwidth\":2},\"yaxis\":{\"backgroundcolor\":\"#E5ECF6\",\"gridcolor\":\"white\",\"linecolor\":\"white\",\"showbackground\":true,\"ticks\":\"\",\"zerolinecolor\":\"white\",\"gridwidth\":2},\"zaxis\":{\"backgroundcolor\":\"#E5ECF6\",\"gridcolor\":\"white\",\"linecolor\":\"white\",\"showbackground\":true,\"ticks\":\"\",\"zerolinecolor\":\"white\",\"gridwidth\":2}},\"shapedefaults\":{\"line\":{\"color\":\"#2a3f5f\"}},\"annotationdefaults\":{\"arrowcolor\":\"#2a3f5f\",\"arrowhead\":0,\"arrowwidth\":1},\"geo\":{\"bgcolor\":\"white\",\"landcolor\":\"#E5ECF6\",\"subunitcolor\":\"white\",\"showland\":true,\"showlakes\":true,\"lakecolor\":\"white\"},\"title\":{\"x\":0.05},\"mapbox\":{\"style\":\"light\"}}},\"xaxis\":{\"anchor\":\"y\",\"domain\":[0.0,1.0],\"title\":{\"text\":\"Real Price\"}},\"yaxis\":{\"anchor\":\"x\",\"domain\":[0.0,1.0],\"title\":{\"text\":\"Predicted Price\"}},\"legend\":{\"tracegroupgap\":0},\"title\":{\"text\":\"Real vs Predicted Price\"}},                        {\"responsive\": true}                    ).then(function(){\n",
              "                            \n",
              "var gd = document.getElementById('318b058f-35d2-465c-8384-be77496a5b79');\n",
              "var x = new MutationObserver(function (mutations, observer) {{\n",
              "        var display = window.getComputedStyle(gd).display;\n",
              "        if (!display || display === 'none') {{\n",
              "            console.log([gd, 'removed!']);\n",
              "            Plotly.purge(gd);\n",
              "            observer.disconnect();\n",
              "        }}\n",
              "}});\n",
              "\n",
              "// Listen for the removal of the full notebook cells\n",
              "var notebookContainer = gd.closest('#notebook-container');\n",
              "if (notebookContainer) {{\n",
              "    x.observe(notebookContainer, {childList: true});\n",
              "}}\n",
              "\n",
              "// Listen for the clearing of the current output cell\n",
              "var outputEl = gd.closest('.output');\n",
              "if (outputEl) {{\n",
              "    x.observe(outputEl, {childList: true});\n",
              "}}\n",
              "\n",
              "                        })                };                            </script>        </div>\n",
              "</body>\n",
              "</html>"
            ]
          },
          "metadata": {}
        }
      ]
    },
    {
      "cell_type": "code",
      "source": [
        "from sklearn.metrics import r2_score\n",
        "r2 = r2_score(y_train, y_pred_train)\n",
        "print(f\"R² score on training data: {r2}\")"
      ],
      "metadata": {
        "colab": {
          "base_uri": "https://localhost:8080/"
        },
        "id": "6jfE-DPpODKn",
        "outputId": "43887f1d-b6e6-456b-be8d-3536cb6f67a8"
      },
      "execution_count": null,
      "outputs": [
        {
          "output_type": "stream",
          "name": "stdout",
          "text": [
            "R² score on training data: 0.47275303230470844\n"
          ]
        }
      ]
    },
    {
      "cell_type": "code",
      "source": [],
      "metadata": {
        "id": "GKozM6ePOTBw"
      },
      "execution_count": null,
      "outputs": []
    }
  ]
}